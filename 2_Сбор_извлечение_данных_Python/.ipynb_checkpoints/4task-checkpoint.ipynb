{
 "cells": [
  {
   "cell_type": "markdown",
   "metadata": {},
   "source": [
    "#### @author: Прядун Михаил Александрович ЭУМ-110001\n",
    "<hr>"
   ]
  },
  {
   "cell_type": "markdown",
   "metadata": {},
   "source": [
    "## Задание 4 (Предобработка данных на Python - часть 1)"
   ]
  },
  {
   "cell_type": "code",
   "execution_count": 17,
   "metadata": {},
   "outputs": [],
   "source": [
    "import pandas as pd    # импорт библиотеки\n",
    "# зададим имена файлов (лежат в той же папке)\n",
    "\n",
    "file_LKOH_NA_series_exercise = 'dataset_1_LKOH_NA_series_exercise.csv'\n",
    "\n",
    "df_LKOH = pd.read_csv(file_LKOH_csv_utf8)\n"
   ]
  },
  {
   "cell_type": "code",
   "execution_count": 18,
   "metadata": {},
   "outputs": [
    {
     "data": {
      "text/html": [
       "<div>\n",
       "<style scoped>\n",
       "    .dataframe tbody tr th:only-of-type {\n",
       "        vertical-align: middle;\n",
       "    }\n",
       "\n",
       "    .dataframe tbody tr th {\n",
       "        vertical-align: top;\n",
       "    }\n",
       "\n",
       "    .dataframe thead th {\n",
       "        text-align: right;\n",
       "    }\n",
       "</style>\n",
       "<table border=\"1\" class=\"dataframe\">\n",
       "  <thead>\n",
       "    <tr style=\"text-align: right;\">\n",
       "      <th></th>\n",
       "      <th>&lt;TICKER&gt;</th>\n",
       "      <th>&lt;PER&gt;</th>\n",
       "      <th>&lt;DATE&gt;</th>\n",
       "      <th>&lt;TIME&gt;</th>\n",
       "      <th>&lt;CLOSE&gt;</th>\n",
       "      <th>&lt;VOL&gt;</th>\n",
       "    </tr>\n",
       "  </thead>\n",
       "  <tbody>\n",
       "    <tr>\n",
       "      <th>0</th>\n",
       "      <td>LKOH</td>\n",
       "      <td>D</td>\n",
       "      <td>20171019</td>\n",
       "      <td>0</td>\n",
       "      <td>2985.000</td>\n",
       "      <td>417461</td>\n",
       "    </tr>\n",
       "    <tr>\n",
       "      <th>1</th>\n",
       "      <td>LKOH</td>\n",
       "      <td>D</td>\n",
       "      <td>20171020</td>\n",
       "      <td>0</td>\n",
       "      <td>2994.000</td>\n",
       "      <td>424104</td>\n",
       "    </tr>\n",
       "    <tr>\n",
       "      <th>2</th>\n",
       "      <td>LKOH</td>\n",
       "      <td>D</td>\n",
       "      <td>20171023</td>\n",
       "      <td>0</td>\n",
       "      <td>2997.000</td>\n",
       "      <td>394534</td>\n",
       "    </tr>\n",
       "    <tr>\n",
       "      <th>3</th>\n",
       "      <td>LKOH</td>\n",
       "      <td>D</td>\n",
       "      <td>20171024</td>\n",
       "      <td>0</td>\n",
       "      <td>3018.000</td>\n",
       "      <td>338596</td>\n",
       "    </tr>\n",
       "    <tr>\n",
       "      <th>4</th>\n",
       "      <td>LKOH</td>\n",
       "      <td>D</td>\n",
       "      <td>20171025</td>\n",
       "      <td>0</td>\n",
       "      <td>3005.000</td>\n",
       "      <td>620960</td>\n",
       "    </tr>\n",
       "    <tr>\n",
       "      <th>...</th>\n",
       "      <td>...</td>\n",
       "      <td>...</td>\n",
       "      <td>...</td>\n",
       "      <td>...</td>\n",
       "      <td>...</td>\n",
       "      <td>...</td>\n",
       "    </tr>\n",
       "    <tr>\n",
       "      <th>3028</th>\n",
       "      <td>SNGS</td>\n",
       "      <td>NaN</td>\n",
       "      <td>20211013</td>\n",
       "      <td>0</td>\n",
       "      <td>36.850</td>\n",
       "      <td>30316400</td>\n",
       "    </tr>\n",
       "    <tr>\n",
       "      <th>3029</th>\n",
       "      <td>SNGS</td>\n",
       "      <td>NaN</td>\n",
       "      <td>20211014</td>\n",
       "      <td>0</td>\n",
       "      <td>37.040</td>\n",
       "      <td>21989100</td>\n",
       "    </tr>\n",
       "    <tr>\n",
       "      <th>3030</th>\n",
       "      <td>SNGS</td>\n",
       "      <td>NaN</td>\n",
       "      <td>20211015</td>\n",
       "      <td>0</td>\n",
       "      <td>37.360</td>\n",
       "      <td>30094800</td>\n",
       "    </tr>\n",
       "    <tr>\n",
       "      <th>3031</th>\n",
       "      <td>SNGS</td>\n",
       "      <td>NaN</td>\n",
       "      <td>20211018</td>\n",
       "      <td>0</td>\n",
       "      <td>36.915</td>\n",
       "      <td>35549900</td>\n",
       "    </tr>\n",
       "    <tr>\n",
       "      <th>3032</th>\n",
       "      <td>SNGS</td>\n",
       "      <td>NaN</td>\n",
       "      <td>20211019</td>\n",
       "      <td>0</td>\n",
       "      <td>37.220</td>\n",
       "      <td>13439400</td>\n",
       "    </tr>\n",
       "  </tbody>\n",
       "</table>\n",
       "<p>3033 rows × 6 columns</p>\n",
       "</div>"
      ],
      "text/plain": [
       "     <TICKER> <PER>    <DATE>  <TIME>   <CLOSE>     <VOL>\n",
       "0        LKOH     D  20171019       0  2985.000    417461\n",
       "1        LKOH     D  20171020       0  2994.000    424104\n",
       "2        LKOH     D  20171023       0  2997.000    394534\n",
       "3        LKOH     D  20171024       0  3018.000    338596\n",
       "4        LKOH     D  20171025       0  3005.000    620960\n",
       "...       ...   ...       ...     ...       ...       ...\n",
       "3028     SNGS   NaN  20211013       0    36.850  30316400\n",
       "3029     SNGS   NaN  20211014       0    37.040  21989100\n",
       "3030     SNGS   NaN  20211015       0    37.360  30094800\n",
       "3031     SNGS   NaN  20211018       0    36.915  35549900\n",
       "3032     SNGS   NaN  20211019       0    37.220  13439400\n",
       "\n",
       "[3033 rows x 6 columns]"
      ]
     },
     "execution_count": 18,
     "metadata": {},
     "output_type": "execute_result"
    }
   ],
   "source": [
    "df_data\n"
   ]
  },
  {
   "cell_type": "code",
   "execution_count": 19,
   "metadata": {},
   "outputs": [
    {
     "data": {
      "text/plain": [
       "<TICKER>\n",
       "LKOH    5177.381306\n",
       "SBER     238.754985\n",
       "SNGS      32.843922\n",
       "Name: <CLOSE>, dtype: float64"
      ]
     },
     "execution_count": 19,
     "metadata": {},
     "output_type": "execute_result"
    }
   ],
   "source": [
    "df_mean = df_data.groupby(['<TICKER>']).mean()['<CLOSE>']\n",
    "df_mean"
   ]
  },
  {
   "cell_type": "code",
   "execution_count": 20,
   "metadata": {},
   "outputs": [
    {
     "data": {
      "text/plain": [
       "<TICKER>\n",
       "LKOH    920.813403\n",
       "SBER     40.852515\n",
       "SNGS      6.253049\n",
       "Name: <CLOSE>, dtype: float64"
      ]
     },
     "execution_count": 20,
     "metadata": {},
     "output_type": "execute_result"
    }
   ],
   "source": [
    "df_std = df_data.groupby(['<TICKER>']).std()['<CLOSE>']\n",
    "df_std"
   ]
  },
  {
   "cell_type": "code",
   "execution_count": 21,
   "metadata": {},
   "outputs": [
    {
     "data": {
      "text/plain": [
       "<TICKER>\n",
       "LKOH     1067245266\n",
       "SBER    59150145630\n",
       "SNGS    35101623500\n",
       "Name: <VOL>, dtype: int64"
      ]
     },
     "execution_count": 21,
     "metadata": {},
     "output_type": "execute_result"
    }
   ],
   "source": [
    "df_sum = df_data.groupby(['<TICKER>']).sum()['<VOL>']\n",
    "df_sum"
   ]
  },
  {
   "cell_type": "code",
   "execution_count": 23,
   "metadata": {},
   "outputs": [],
   "source": [
    "\n",
    "df_summury = pd.DataFrame()\n",
    "df_summury['df_mean'] = df_mean\n",
    "df_summury['df_std'] = df_std\n",
    "df_summury['df_sum'] = df_sum\n",
    "\n",
    "output_exel = 'summary_LKOH_SBER_SNGS.xlsx'\n",
    "\n",
    "with pd.ExcelWriter(output_exel) as writer:  \n",
    "    df_data.to_excel(writer, sheet_name='data')\n",
    "    df_summury.to_excel(writer, sheet_name='summary')\n"
   ]
  }
 ],
 "metadata": {
  "kernelspec": {
   "display_name": "Python 3",
   "language": "python",
   "name": "python3"
  },
  "language_info": {
   "codemirror_mode": {
    "name": "ipython",
    "version": 3
   },
   "file_extension": ".py",
   "mimetype": "text/x-python",
   "name": "python",
   "nbconvert_exporter": "python",
   "pygments_lexer": "ipython3",
   "version": "3.8.8"
  }
 },
 "nbformat": 4,
 "nbformat_minor": 2
}
