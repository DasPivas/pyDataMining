{
 "cells": [
  {
   "cell_type": "markdown",
   "metadata": {},
   "source": [
    "#### @author: Прядун Михаил Александрович ЭУМ-110001\n",
    "<hr>"
   ]
  },
  {
   "cell_type": "markdown",
   "metadata": {},
   "source": [
    "## Задание 4 (Предобработка данных на Python - часть 1)"
   ]
  },
  {
   "cell_type": "code",
   "execution_count": 2,
   "metadata": {},
   "outputs": [],
   "source": [
    "import pandas as pd    # импорт библиотеки\n",
    "# зададим имена файлов (лежат в той же папке)\n",
    "\n",
    "file_LKOH_NA_series_exercise = 'dataset_1_LKOH_NA_series_exercise.csv'\n",
    "\n",
    "df_LKOH = pd.read_csv(file_LKOH_NA_series_exercise)\n"
   ]
  },
  {
   "cell_type": "code",
   "execution_count": 55,
   "metadata": {},
   "outputs": [
    {
     "data": {
      "text/html": [
       "<div>\n",
       "<style scoped>\n",
       "    .dataframe tbody tr th:only-of-type {\n",
       "        vertical-align: middle;\n",
       "    }\n",
       "\n",
       "    .dataframe tbody tr th {\n",
       "        vertical-align: top;\n",
       "    }\n",
       "\n",
       "    .dataframe thead th {\n",
       "        text-align: right;\n",
       "    }\n",
       "</style>\n",
       "<table border=\"1\" class=\"dataframe\">\n",
       "  <thead>\n",
       "    <tr style=\"text-align: right;\">\n",
       "      <th></th>\n",
       "      <th>&lt;TICKER&gt;</th>\n",
       "      <th>&lt;PER&gt;</th>\n",
       "      <th>&lt;DATE&gt;</th>\n",
       "      <th>&lt;TIME&gt;</th>\n",
       "      <th>&lt;CLOSE&gt;</th>\n",
       "      <th>&lt;VOL&gt;</th>\n",
       "    </tr>\n",
       "  </thead>\n",
       "  <tbody>\n",
       "    <tr>\n",
       "      <th>394</th>\n",
       "      <td>LKOH</td>\n",
       "      <td>D</td>\n",
       "      <td>20190514</td>\n",
       "      <td>0</td>\n",
       "      <td>5188.5</td>\n",
       "      <td>2211566</td>\n",
       "    </tr>\n",
       "    <tr>\n",
       "      <th>395</th>\n",
       "      <td>LKOH</td>\n",
       "      <td>D</td>\n",
       "      <td>20190515</td>\n",
       "      <td>0</td>\n",
       "      <td>5000.0</td>\n",
       "      <td>1739162</td>\n",
       "    </tr>\n",
       "    <tr>\n",
       "      <th>396</th>\n",
       "      <td>LKOH</td>\n",
       "      <td>D</td>\n",
       "      <td>20190516</td>\n",
       "      <td>0</td>\n",
       "      <td>NaN</td>\n",
       "      <td>2898058</td>\n",
       "    </tr>\n",
       "    <tr>\n",
       "      <th>397</th>\n",
       "      <td>LKOH</td>\n",
       "      <td>D</td>\n",
       "      <td>20190517</td>\n",
       "      <td>0</td>\n",
       "      <td>NaN</td>\n",
       "      <td>1401055</td>\n",
       "    </tr>\n",
       "    <tr>\n",
       "      <th>398</th>\n",
       "      <td>LKOH</td>\n",
       "      <td>D</td>\n",
       "      <td>20190520</td>\n",
       "      <td>0</td>\n",
       "      <td>NaN</td>\n",
       "      <td>982966</td>\n",
       "    </tr>\n",
       "    <tr>\n",
       "      <th>399</th>\n",
       "      <td>LKOH</td>\n",
       "      <td>D</td>\n",
       "      <td>20190521</td>\n",
       "      <td>0</td>\n",
       "      <td>5300.0</td>\n",
       "      <td>1132774</td>\n",
       "    </tr>\n",
       "    <tr>\n",
       "      <th>400</th>\n",
       "      <td>LKOH</td>\n",
       "      <td>D</td>\n",
       "      <td>20190522</td>\n",
       "      <td>0</td>\n",
       "      <td>5317.5</td>\n",
       "      <td>746807</td>\n",
       "    </tr>\n",
       "  </tbody>\n",
       "</table>\n",
       "</div>"
      ],
      "text/plain": [
       "    <TICKER> <PER>    <DATE>  <TIME>  <CLOSE>    <VOL>\n",
       "394     LKOH     D  20190514       0   5188.5  2211566\n",
       "395     LKOH     D  20190515       0   5000.0  1739162\n",
       "396     LKOH     D  20190516       0      NaN  2898058\n",
       "397     LKOH     D  20190517       0      NaN  1401055\n",
       "398     LKOH     D  20190520       0      NaN   982966\n",
       "399     LKOH     D  20190521       0   5300.0  1132774\n",
       "400     LKOH     D  20190522       0   5317.5   746807"
      ]
     },
     "execution_count": 55,
     "metadata": {},
     "output_type": "execute_result"
    }
   ],
   "source": [
    "df_LKOH.loc[394:400]\n"
   ]
  },
  {
   "cell_type": "code",
   "execution_count": 51,
   "metadata": {},
   "outputs": [
    {
     "name": "stdout",
     "output_type": "stream",
     "text": [
      "[8, 32, 85, 136, 184, 223, 396, 397, 398, 439, 440, 487, 488, 552, 553, 554, 555, 625, 669, 722, 723, 724, 725, 726, 727, 728, 776, 777, 778, 779, 840, 841, 842, 910, 911, 948, 1000]\n",
      "37\n"
     ]
    }
   ],
   "source": [
    "list_pass = df_LKOH[df_LKOH.isna()['<CLOSE>'].isin([True])].index.tolist()\n",
    "print(list_pass)\n",
    "print(len(list_pass))"
   ]
  },
  {
   "cell_type": "code",
   "execution_count": 29,
   "metadata": {},
   "outputs": [
    {
     "name": "stdout",
     "output_type": "stream",
     "text": [
      "[[8], [32], [85], [136], [184], [223], [396, 397, 398], [439, 440], [487, 488], [552, 553, 554, 555], [625], [669], [722, 723, 724, 725, 726, 727, 728], [776, 777, 778, 779], [840, 841, 842], [910, 911], [948], [1000]]\n"
     ]
    }
   ],
   "source": [
    "list_tmp = []\n",
    "\n",
    "for value in list_pass:\n",
    "    \n",
    "    if len(list_tmp) == 0:\n",
    "        list_tmp.append([value])\n",
    "        continue\n",
    "    \n",
    "    if value - 1 == list_tmp[-1][-1]:\n",
    "       list_tmp[-1].append(value)\n",
    "    else: \n",
    "        list_tmp.append([value])\n",
    "        \n",
    "        \n",
    "print(list_tmp)"
   ]
  },
  {
   "cell_type": "code",
   "execution_count": 30,
   "metadata": {},
   "outputs": [
    {
     "name": "stdout",
     "output_type": "stream",
     "text": [
      "lenght:  1  , value:  [8]\n",
      "lenght:  1  , value:  [32]\n",
      "lenght:  1  , value:  [85]\n",
      "lenght:  1  , value:  [136]\n",
      "lenght:  1  , value:  [184]\n",
      "lenght:  1  , value:  [223]\n",
      "lenght:  3  , value:  [396, 397, 398]\n",
      "lenght:  2  , value:  [439, 440]\n",
      "lenght:  2  , value:  [487, 488]\n",
      "lenght:  4  , value:  [552, 553, 554, 555]\n",
      "lenght:  1  , value:  [625]\n",
      "lenght:  1  , value:  [669]\n",
      "lenght:  7  , value:  [722, 723, 724, 725, 726, 727, 728]\n",
      "lenght:  4  , value:  [776, 777, 778, 779]\n",
      "lenght:  3  , value:  [840, 841, 842]\n",
      "lenght:  2  , value:  [910, 911]\n",
      "lenght:  1  , value:  [948]\n",
      "lenght:  1  , value:  [1000]\n"
     ]
    }
   ],
   "source": [
    "for arr in list_tmp:\n",
    "    print('lenght: ', len(arr), ' , value: ', arr)"
   ]
  },
  {
   "cell_type": "code",
   "execution_count": 54,
   "metadata": {},
   "outputs": [
    {
     "name": "stdout",
     "output_type": "stream",
     "text": [
      "[3101.25, 3396.75, 3790.0, 4144.0, 4268.25, 4630.0, 5075.0, 5150.0, 5225.0, 5193.83, 5197.17, 5440.5, 5392.0, 6099.4, 6116.8, 6134.2, 6151.6, 4987.0, 5369.5, 4921.06, 4893.12, 4865.19, 4837.25, 4809.31, 4781.38, 4753.44, 4927.1, 4990.2, 5053.3, 5116.4, 5658.38, 5701.75, 5745.12, 6153.5, 6314.0, 6430.5, 7115.25]\n"
     ]
    }
   ],
   "source": [
    "list_missing_values = []\n",
    "\n",
    "for value in list_tmp:\n",
    "    initial = df_LKOH.iloc[value[0]-1]['<CLOSE>']\n",
    "    finaly = df_LKOH.iloc[value[-1]+1]['<CLOSE>']\n",
    "    difference = initial - finaly\n",
    "    lenght = len(value) + 1\n",
    "    step = difference / lenght \n",
    "    for i in range(lenght-1):\n",
    "        price = initial - step*(i+1)\n",
    "        list_missing_values.append(round(price,2))\n",
    "        \n",
    "print(list_missing_values)"
   ]
  },
  {
   "cell_type": "code",
   "execution_count": 56,
   "metadata": {},
   "outputs": [
    {
     "data": {
      "text/html": [
       "<div>\n",
       "<style scoped>\n",
       "    .dataframe tbody tr th:only-of-type {\n",
       "        vertical-align: middle;\n",
       "    }\n",
       "\n",
       "    .dataframe tbody tr th {\n",
       "        vertical-align: top;\n",
       "    }\n",
       "\n",
       "    .dataframe thead th {\n",
       "        text-align: right;\n",
       "    }\n",
       "</style>\n",
       "<table border=\"1\" class=\"dataframe\">\n",
       "  <thead>\n",
       "    <tr style=\"text-align: right;\">\n",
       "      <th></th>\n",
       "      <th>&lt;TICKER&gt;</th>\n",
       "      <th>&lt;PER&gt;</th>\n",
       "      <th>&lt;DATE&gt;</th>\n",
       "      <th>&lt;TIME&gt;</th>\n",
       "      <th>&lt;CLOSE&gt;</th>\n",
       "      <th>&lt;VOL&gt;</th>\n",
       "    </tr>\n",
       "  </thead>\n",
       "  <tbody>\n",
       "    <tr>\n",
       "      <th>394</th>\n",
       "      <td>LKOH</td>\n",
       "      <td>D</td>\n",
       "      <td>20190514</td>\n",
       "      <td>0</td>\n",
       "      <td>5188.5</td>\n",
       "      <td>2211566</td>\n",
       "    </tr>\n",
       "    <tr>\n",
       "      <th>395</th>\n",
       "      <td>LKOH</td>\n",
       "      <td>D</td>\n",
       "      <td>20190515</td>\n",
       "      <td>0</td>\n",
       "      <td>5000.0</td>\n",
       "      <td>1739162</td>\n",
       "    </tr>\n",
       "    <tr>\n",
       "      <th>396</th>\n",
       "      <td>LKOH</td>\n",
       "      <td>D</td>\n",
       "      <td>20190516</td>\n",
       "      <td>0</td>\n",
       "      <td>5075.0</td>\n",
       "      <td>2898058</td>\n",
       "    </tr>\n",
       "    <tr>\n",
       "      <th>397</th>\n",
       "      <td>LKOH</td>\n",
       "      <td>D</td>\n",
       "      <td>20190517</td>\n",
       "      <td>0</td>\n",
       "      <td>5150.0</td>\n",
       "      <td>1401055</td>\n",
       "    </tr>\n",
       "    <tr>\n",
       "      <th>398</th>\n",
       "      <td>LKOH</td>\n",
       "      <td>D</td>\n",
       "      <td>20190520</td>\n",
       "      <td>0</td>\n",
       "      <td>5225.0</td>\n",
       "      <td>982966</td>\n",
       "    </tr>\n",
       "    <tr>\n",
       "      <th>399</th>\n",
       "      <td>LKOH</td>\n",
       "      <td>D</td>\n",
       "      <td>20190521</td>\n",
       "      <td>0</td>\n",
       "      <td>5300.0</td>\n",
       "      <td>1132774</td>\n",
       "    </tr>\n",
       "    <tr>\n",
       "      <th>400</th>\n",
       "      <td>LKOH</td>\n",
       "      <td>D</td>\n",
       "      <td>20190522</td>\n",
       "      <td>0</td>\n",
       "      <td>5317.5</td>\n",
       "      <td>746807</td>\n",
       "    </tr>\n",
       "  </tbody>\n",
       "</table>\n",
       "</div>"
      ],
      "text/plain": [
       "    <TICKER> <PER>    <DATE>  <TIME>  <CLOSE>    <VOL>\n",
       "394     LKOH     D  20190514       0   5188.5  2211566\n",
       "395     LKOH     D  20190515       0   5000.0  1739162\n",
       "396     LKOH     D  20190516       0   5075.0  2898058\n",
       "397     LKOH     D  20190517       0   5150.0  1401055\n",
       "398     LKOH     D  20190520       0   5225.0   982966\n",
       "399     LKOH     D  20190521       0   5300.0  1132774\n",
       "400     LKOH     D  20190522       0   5317.5   746807"
      ]
     },
     "execution_count": 56,
     "metadata": {},
     "output_type": "execute_result"
    }
   ],
   "source": [
    "df_LKOH.loc[list_pass, '<CLOSE>'] = list_missing_values\n",
    "\n",
    "df_LKOH.loc[394:400]"
   ]
  },
  {
   "cell_type": "code",
   "execution_count": 57,
   "metadata": {},
   "outputs": [],
   "source": [
    "output_exel = 'dataset_1_LKOH_no_NA_series_exercise.xlsx'\n",
    "\n",
    "with pd.ExcelWriter(output_exel) as writer:  \n",
    "    df_LKOH.to_excel(writer, sheet_name='LKOH')\n"
   ]
  },
  {
   "cell_type": "code",
   "execution_count": null,
   "metadata": {},
   "outputs": [],
   "source": []
  }
 ],
 "metadata": {
  "kernelspec": {
   "display_name": "Python 3",
   "language": "python",
   "name": "python3"
  },
  "language_info": {
   "codemirror_mode": {
    "name": "ipython",
    "version": 3
   },
   "file_extension": ".py",
   "mimetype": "text/x-python",
   "name": "python",
   "nbconvert_exporter": "python",
   "pygments_lexer": "ipython3",
   "version": "3.8.8"
  }
 },
 "nbformat": 4,
 "nbformat_minor": 2
}
