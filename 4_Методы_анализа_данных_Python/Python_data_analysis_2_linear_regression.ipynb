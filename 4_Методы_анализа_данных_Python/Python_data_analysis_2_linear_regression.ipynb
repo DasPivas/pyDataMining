{
 "cells": [
  {
   "cell_type": "markdown",
   "metadata": {},
   "source": [
    "#### @author: Александр Владимирович Толмачев | axtolm@gmail.com\n",
    "<hr>"
   ]
  },
  {
   "cell_type": "markdown",
   "metadata": {},
   "source": [
    "## 4. Методы анализа данных на Python"
   ]
  },
  {
   "cell_type": "markdown",
   "metadata": {},
   "source": [
    "## Часть 2. Регрессионный анализ"
   ]
  },
  {
   "cell_type": "markdown",
   "metadata": {},
   "source": [
    "### На этом занятии мы планируем научиться:\n",
    "- Строить модели одномерной и многомерной линейной регрессии с помощью библиотеки statsmodels.\n",
    "- Получать и интерпретировать основные показатели регрессии.\n",
    "- Строить диаграммы рассеяния для анализа регрессионной модели."
   ]
  },
  {
   "cell_type": "markdown",
   "metadata": {},
   "source": [
    "### 1. Набор данных для анализа"
   ]
  },
  {
   "cell_type": "markdown",
   "metadata": {},
   "source": [
    "**Для примера возьмем датасет с открытыми экономическими данными для региона Свердловская область за 2015-2018 гг**  \n",
    "Файл лежит в той же папке, что документ .ipynb, поэтому путь к нему \"С:/DIR/SUBDIR/.../filename.ext\" можно не прописывать "
   ]
  },
  {
   "cell_type": "code",
   "execution_count": 1,
   "metadata": {},
   "outputs": [],
   "source": [
    "in_file_name = \"dataset_2_linear_regression.csv\"    # имя файла данных"
   ]
  },
  {
   "cell_type": "code",
   "execution_count": 2,
   "metadata": {},
   "outputs": [],
   "source": [
    "import pandas as pd    # импорт библиотеки"
   ]
  },
  {
   "cell_type": "code",
   "execution_count": 3,
   "metadata": {},
   "outputs": [],
   "source": [
    "df_in = pd.read_csv(in_file_name)    # выкачиваем данные из csv файла в DataFrame  "
   ]
  },
  {
   "cell_type": "markdown",
   "metadata": {},
   "source": [
    "Описание метода pandas.read_csv<br>\n",
    "https://pandas.pydata.org/pandas-docs/stable/reference/api/pandas.read_csv.html"
   ]
  },
  {
   "cell_type": "code",
   "execution_count": 4,
   "metadata": {},
   "outputs": [
    {
     "data": {
      "text/html": [
       "<div>\n",
       "<style scoped>\n",
       "    .dataframe tbody tr th:only-of-type {\n",
       "        vertical-align: middle;\n",
       "    }\n",
       "\n",
       "    .dataframe tbody tr th {\n",
       "        vertical-align: top;\n",
       "    }\n",
       "\n",
       "    .dataframe thead th {\n",
       "        text-align: right;\n",
       "    }\n",
       "</style>\n",
       "<table border=\"1\" class=\"dataframe\">\n",
       "  <thead>\n",
       "    <tr style=\"text-align: right;\">\n",
       "      <th></th>\n",
       "      <th>date</th>\n",
       "      <th>avg_salary</th>\n",
       "      <th>avg_pension</th>\n",
       "      <th>avg_sum_consumer_loan</th>\n",
       "      <th>n_consumer_loan</th>\n",
       "      <th>avg_card_spend</th>\n",
       "    </tr>\n",
       "  </thead>\n",
       "  <tbody>\n",
       "    <tr>\n",
       "      <th>0</th>\n",
       "      <td>2015-01-15</td>\n",
       "      <td>19209</td>\n",
       "      <td>8831</td>\n",
       "      <td>192834</td>\n",
       "      <td>7173</td>\n",
       "      <td>7927</td>\n",
       "    </tr>\n",
       "    <tr>\n",
       "      <th>1</th>\n",
       "      <td>2015-02-15</td>\n",
       "      <td>25356</td>\n",
       "      <td>10451</td>\n",
       "      <td>201050</td>\n",
       "      <td>9291</td>\n",
       "      <td>7605</td>\n",
       "    </tr>\n",
       "    <tr>\n",
       "      <th>2</th>\n",
       "      <td>2015-03-15</td>\n",
       "      <td>24159</td>\n",
       "      <td>10284</td>\n",
       "      <td>200363</td>\n",
       "      <td>11937</td>\n",
       "      <td>8600</td>\n",
       "    </tr>\n",
       "  </tbody>\n",
       "</table>\n",
       "</div>"
      ],
      "text/plain": [
       "         date  avg_salary  avg_pension  avg_sum_consumer_loan  \\\n",
       "0  2015-01-15       19209         8831                 192834   \n",
       "1  2015-02-15       25356        10451                 201050   \n",
       "2  2015-03-15       24159        10284                 200363   \n",
       "\n",
       "   n_consumer_loan  avg_card_spend  \n",
       "0             7173            7927  \n",
       "1             9291            7605  \n",
       "2            11937            8600  "
      ]
     },
     "execution_count": 4,
     "metadata": {},
     "output_type": "execute_result"
    }
   ],
   "source": [
    "df_in.head(3)    # выведем на экран первые три строки таблицы датафрейма"
   ]
  },
  {
   "cell_type": "markdown",
   "metadata": {},
   "source": [
    "**Поля (столбцы) таблицы**<br>\n",
    "- \"date\" - дата, для которой приведены экономические показатели, в формате str,\n",
    "- \"avg_salary\" - средняя зарплата,\n",
    "- \"avg_pension\" - средняя пенсия,\n",
    "- \"avg_sum_consumer_loan\" - средняя сумма заявки на потребительский кредит,\n",
    "- \"n_consumer_loan\" - количество заявок на потребительские кредиты,\n",
    "- \"avg_card_spend\" - средние расходы по картам. "
   ]
  },
  {
   "cell_type": "markdown",
   "metadata": {},
   "source": [
    "### 2. Регрессионный анализ"
   ]
  },
  {
   "cell_type": "markdown",
   "metadata": {},
   "source": [
    "**Регрессия (Regression)** - класс задач в рамках data analysis. Заключается в поиске функции, которая моделирует данные обучающей выборки с наименьшей ошибкой и используется для оценки взаимосвязей между данными. Формальное определение будет дано ниже."
   ]
  },
  {
   "cell_type": "markdown",
   "metadata": {},
   "source": [
    "> Регрессионный анализ тесно связан с корреляционным анализом."
   ]
  },
  {
   "cell_type": "markdown",
   "metadata": {},
   "source": [
    "### 3.1. Одномерная линейная регрессия"
   ]
  },
  {
   "cell_type": "markdown",
   "metadata": {},
   "source": [
    "**Задача одномерной линейной регрессии** - для независимой переменной $X$ и зависимой переменной $Y$ нахождение линейной функции типа $Y = kX + b$ (т.е. параметров $k$ и $b$), которая будет наилучшим образом описывать связь $X$ и $Y$.   \n",
    "Обучение модели - метод наименьших квадратов (МНК) - минимизация $SUM((Y_{regression} - Y_{actual})^2)$. "
   ]
  },
  {
   "cell_type": "markdown",
   "metadata": {},
   "source": [
    "**Рассмотрим для примера случай**   \n",
    "Пусть исходные данные, характеризующие регион: **Средняя зарплата** (независимая переменная - $Х$)   \n",
    "Хотим найти взаимосвязь и прогнозировать **Средние расходы по картам** (зависимая переменная - $Y$)"
   ]
  },
  {
   "cell_type": "code",
   "execution_count": 5,
   "metadata": {},
   "outputs": [
    {
     "data": {
      "text/html": [
       "<div>\n",
       "<style scoped>\n",
       "    .dataframe tbody tr th:only-of-type {\n",
       "        vertical-align: middle;\n",
       "    }\n",
       "\n",
       "    .dataframe tbody tr th {\n",
       "        vertical-align: top;\n",
       "    }\n",
       "\n",
       "    .dataframe thead th {\n",
       "        text-align: right;\n",
       "    }\n",
       "</style>\n",
       "<table border=\"1\" class=\"dataframe\">\n",
       "  <thead>\n",
       "    <tr style=\"text-align: right;\">\n",
       "      <th></th>\n",
       "      <th>date</th>\n",
       "      <th>avg_salary</th>\n",
       "      <th>avg_card_spend</th>\n",
       "    </tr>\n",
       "  </thead>\n",
       "  <tbody>\n",
       "    <tr>\n",
       "      <th>0</th>\n",
       "      <td>2015-01-15</td>\n",
       "      <td>19209</td>\n",
       "      <td>7927</td>\n",
       "    </tr>\n",
       "    <tr>\n",
       "      <th>1</th>\n",
       "      <td>2015-02-15</td>\n",
       "      <td>25356</td>\n",
       "      <td>7605</td>\n",
       "    </tr>\n",
       "    <tr>\n",
       "      <th>2</th>\n",
       "      <td>2015-03-15</td>\n",
       "      <td>24159</td>\n",
       "      <td>8600</td>\n",
       "    </tr>\n",
       "  </tbody>\n",
       "</table>\n",
       "</div>"
      ],
      "text/plain": [
       "        date  avg_salary  avg_card_spend\n",
       "0 2015-01-15       19209            7927\n",
       "1 2015-02-15       25356            7605\n",
       "2 2015-03-15       24159            8600"
      ]
     },
     "execution_count": 5,
     "metadata": {},
     "output_type": "execute_result"
    }
   ],
   "source": [
    "df_regr_simple = df_in[['date','avg_salary','avg_card_spend']].copy()    # выберем нужные колонки из исходного датасета  \n",
    "df_regr_simple['date'] = pd.to_datetime(df_regr_simple['date'])  # преобразуем дату из строки в формат Timestamp \n",
    "df_regr_simple.head(3)    # выведем первые три строки на экран"
   ]
  },
  {
   "cell_type": "markdown",
   "metadata": {},
   "source": [
    "Для визуальной оценки данных построим диаграмму рассеяния и графики временных рядов методом pandas.DataFrame.plot<br>\n",
    "Можем оценить характер зависимости, наличие выбросов.<br>\n",
    "https://pandas.pydata.org/docs/reference/api/pandas.DataFrame.plot.html"
   ]
  },
  {
   "cell_type": "code",
   "execution_count": 6,
   "metadata": {},
   "outputs": [
    {
     "data": {
      "image/png": "[encoded data removed]",
      "text/plain": [
       "<Figure size 432x288 with 1 Axes>"
      ]
     },
     "metadata": {
      "needs_background": "light"
     },
     "output_type": "display_data"
    }
   ],
   "source": [
    "df_regr_simple_scatter = df_regr_simple.plot.scatter(x='avg_salary', y='avg_card_spend', c='DarkBlue') # диаграмма рассеяния"
   ]
  },
  {
   "cell_type": "markdown",
   "metadata": {},
   "source": [
    "На диаграмме рассеяния есть выбросы - крайние левые 4 точки и крайние правые 4 точки."
   ]
  },
  {
   "cell_type": "code",
   "execution_count": 7,
   "metadata": {},
   "outputs": [
    {
     "data": {
      "image/png": "[encoded data removed]",
      "text/plain": [
       "<Figure size 432x288 with 1 Axes>"
      ]
     },
     "metadata": {
      "needs_background": "light"
     },
     "output_type": "display_data"
    }
   ],
   "source": [
    "df_regr_simple_Xt = df_regr_simple.plot.scatter(x='date', y='avg_salary', c='DarkBlue') # график от времени"
   ]
  },
  {
   "cell_type": "markdown",
   "metadata": {},
   "source": [
    "Здесь эти 4 + 4 точки выбросов тоже видны. Это зарплаты декабря (выброс вверх) и зарплаты января (выброс вниз)."
   ]
  },
  {
   "cell_type": "code",
   "execution_count": 8,
   "metadata": {},
   "outputs": [
    {
     "data": {
      "image/png": "[encoded data removed]",
      "text/plain": [
       "<Figure size 432x288 with 1 Axes>"
      ]
     },
     "metadata": {
      "needs_background": "light"
     },
     "output_type": "display_data"
    }
   ],
   "source": [
    "df_regr_simple_Yt = df_regr_simple.plot.scatter(x='date', y='avg_card_spend', c='DarkBlue') # график от времени"
   ]
  },
  {
   "cell_type": "markdown",
   "metadata": {},
   "source": [
    "Сделаем еще один датасет на **df_regr_simple**, но без выбросов.<br>\n",
    "Рассмотрим конструкцию:<br>\n",
    "``` ~ df_regr_simple['date'].dt.month.isin([1,12]) ```\n",
    "- ```df_regr_simple['date'].dt.month``` - из данных в колонке 'date' выбираем месяц,\n",
    "- ```.isin([1,12])``` - пророверяем, входит ли значение в список в скобках - если входит (наш месяц январь \"01\" или декабрь \"12\"), то выдаем True, если нет - False,\n",
    "- ```~``` - отрицание \"не\" - переворачивает логику всей конструкции в скобках и оставляет все месяцы за исключением января и декабря."
   ]
  },
  {
   "cell_type": "code",
   "execution_count": 9,
   "metadata": {},
   "outputs": [],
   "source": [
    "df_regr_simple_wo_outliers = df_regr_simple[~ df_regr_simple['date'].dt.month.isin([1,12])].copy()    # выбор без выбросов"
   ]
  },
  {
   "cell_type": "code",
   "execution_count": 10,
   "metadata": {},
   "outputs": [
    {
     "data": {
      "image/png": "[encoded data removed]",
      "text/plain": [
       "<Figure size 432x288 with 1 Axes>"
      ]
     },
     "metadata": {
      "needs_background": "light"
     },
     "output_type": "display_data"
    }
   ],
   "source": [
    "# снова диаграмма рассеяния\n",
    "df_regr_simple_wo_outliers_scatter = df_regr_simple_wo_outliers.plot.scatter(x='avg_salary', y='avg_card_spend', c='DarkBlue') "
   ]
  },
  {
   "cell_type": "markdown",
   "metadata": {},
   "source": [
    "Все успешно, выбросы убрали."
   ]
  },
  {
   "cell_type": "markdown",
   "metadata": {},
   "source": [
    "### Построим модель одномерной линейной регрессии для выборки без выбросов"
   ]
  },
  {
   "cell_type": "code",
   "execution_count": 11,
   "metadata": {},
   "outputs": [],
   "source": [
    "# импортируем необходиые библиотеки для работы с регрессионными моделями и построения графиков\n",
    "import numpy as np # массивы\n",
    "import statsmodels.api as sm\n",
    "import matplotlib.pyplot as plt"
   ]
  },
  {
   "cell_type": "markdown",
   "metadata": {},
   "source": [
    "**Независимая переменная X**"
   ]
  },
  {
   "cell_type": "code",
   "execution_count": 12,
   "metadata": {},
   "outputs": [
    {
     "data": {
      "text/plain": [
       "array([25356, 24159, 27430, 24726, 27387, 27372, 24915, 23616, 24943,\n",
       "       25034, 26279, 25465, 28096, 25785, 29226, 27309, 26138, 25292,\n",
       "       25034, 26843, 27635, 27086, 27848, 27844, 31040, 29119, 27730,\n",
       "       26935, 27878, 29497, 31087, 29799, 30914, 26519, 32646, 31752,\n",
       "       30510, 28198, 30497, 31997], dtype=int64)"
      ]
     },
     "execution_count": 12,
     "metadata": {},
     "output_type": "execute_result"
    }
   ],
   "source": [
    "x_in = df_regr_simple_wo_outliers['avg_salary'].to_numpy()\n",
    "x_in"
   ]
  },
  {
   "cell_type": "markdown",
   "metadata": {},
   "source": [
    "**Зависимая переменная Y**"
   ]
  },
  {
   "cell_type": "code",
   "execution_count": 13,
   "metadata": {},
   "outputs": [
    {
     "data": {
      "text/plain": [
       "array([ 7605,  8600,  8085,  8413,  8748,  9353,  9504,  8925,  9417,\n",
       "        9095,  9265,  9946,  9981, 10227, 10539, 10643, 11399, 10607,\n",
       "       11316, 10737, 10407, 11680, 11085, 12327, 12064, 12842, 12871,\n",
       "       12388, 13137, 12580, 11625, 12623, 12394, 13000, 13018, 13379,\n",
       "       13591, 12417, 13659, 13012], dtype=int64)"
      ]
     },
     "execution_count": 13,
     "metadata": {},
     "output_type": "execute_result"
    }
   ],
   "source": [
    "y_in = df_regr_simple_wo_outliers['avg_card_spend'].to_numpy()\n",
    "y_in"
   ]
  },
  {
   "cell_type": "markdown",
   "metadata": {},
   "source": [
    "**Показатели регрессии**  \n",
    "OLS - Ordinary Least Squares regression"
   ]
  },
  {
   "cell_type": "code",
   "execution_count": 14,
   "metadata": {},
   "outputs": [
    {
     "name": "stdout",
     "output_type": "stream",
     "text": [
      "                            OLS Regression Results                            \n",
      "==============================================================================\n",
      "Dep. Variable:                      y   R-squared:                       0.502\n",
      "Model:                            OLS   Adj. R-squared:                  0.489\n",
      "Method:                 Least Squares   F-statistic:                     38.34\n",
      "Date:                Thu, 02 Dec 2021   Prob (F-statistic):           3.10e-07\n",
      "Time:                        10:38:40   Log-Likelihood:                -340.67\n",
      "No. Observations:                  40   AIC:                             685.3\n",
      "Df Residuals:                      38   BIC:                             688.7\n",
      "Df Model:                           1                                         \n",
      "Covariance Type:            nonrobust                                         \n",
      "==============================================================================\n",
      "                 coef    std err          t      P>|t|      [0.025      0.975]\n",
      "------------------------------------------------------------------------------\n",
      "const      -3401.3855   2344.016     -1.451      0.155   -8146.598    1343.827\n",
      "x1             0.5227      0.084      6.192      0.000       0.352       0.694\n",
      "==============================================================================\n",
      "Omnibus:                        0.227   Durbin-Watson:                   1.229\n",
      "Prob(Omnibus):                  0.893   Jarque-Bera (JB):                0.387\n",
      "Skew:                          -0.146   Prob(JB):                        0.824\n",
      "Kurtosis:                       2.617   Cond. No.                     3.32e+05\n",
      "==============================================================================\n",
      "\n",
      "Notes:\n",
      "[1] Standard Errors assume that the covariance matrix of the errors is correctly specified.\n",
      "[2] The condition number is large, 3.32e+05. This might indicate that there are\n",
      "strong multicollinearity or other numerical problems.\n"
     ]
    }
   ],
   "source": [
    "x_in = sm.add_constant(x_in)    # преобразование входного массива независимой переменной\n",
    "est = sm.OLS(y_in, x_in)    # создание модели\n",
    "est2 = est.fit()    # расчет показателей модели\n",
    "print(est2.summary())"
   ]
  },
  {
   "cell_type": "markdown",
   "metadata": {},
   "source": [
    "**Коэффициент детерминации** $R^2$ характеризует долю дисперсии результативного признака $Y_{regression}$ (объясняемую регрессией) в общей дисперсии $Y_{actual}$ (наблюдаемые значения). Используется для оценки модели. Коэффициент детерминации равен квадрату коэффициента корреляции между наблюдаемыми и предсказанными (регрессионными) значениями."
   ]
  },
  {
   "cell_type": "markdown",
   "metadata": {},
   "source": [
    "Оценка значимости полученных параметров регрессии по величине p-value.<br>\n",
    "Статистическая гипотеза линейной регрессии: $H_0$ - параметры регрессии  $k$  и  $b$ значимо не отличается от нуля."
   ]
  },
  {
   "cell_type": "markdown",
   "metadata": {},
   "source": [
    "**Для оценки полученных результатов вычислим значения $Y_{regression}$**"
   ]
  },
  {
   "cell_type": "code",
   "execution_count": 15,
   "metadata": {},
   "outputs": [
    {
     "data": {
      "text/plain": [
       "array([ 9851.37044109,  9225.73749813, 10935.38274159,  9522.0899448 ,\n",
       "       10912.90804105, 10905.06802923,  9620.87409368,  8941.92907037,\n",
       "        9635.50878241,  9683.07152076, 10333.79250153,  9908.34119362,\n",
       "       11283.47926624, 10075.59477904, 11874.09348976, 10872.1399796 ,\n",
       "       10260.09639046,  9817.91972401,  9683.07152076, 10628.57694584,\n",
       "       11042.52956975, 10755.58513726, 11153.85773754, 11151.76706773,\n",
       "       12822.2122521 , 11818.16807213, 11092.18297792, 10676.66235164,\n",
       "       11169.53776118, 12015.73636991, 12846.77762246, 12173.58194115,\n",
       "       12756.35615284, 10459.2326906 , 13661.61618393, 13194.35147966,\n",
       "       12545.19850125, 11336.7913466 , 12538.40382434, 13322.405006  ])"
      ]
     },
     "execution_count": 15,
     "metadata": {},
     "output_type": "execute_result"
    }
   ],
   "source": [
    "y_predict = est2.predict()\n",
    "y_predict"
   ]
  },
  {
   "cell_type": "markdown",
   "metadata": {},
   "source": [
    "**Фактические значения $Y_{actual}$ были**"
   ]
  },
  {
   "cell_type": "code",
   "execution_count": 16,
   "metadata": {},
   "outputs": [
    {
     "data": {
      "text/plain": [
       "array([ 7605,  8600,  8085,  8413,  8748,  9353,  9504,  8925,  9417,\n",
       "        9095,  9265,  9946,  9981, 10227, 10539, 10643, 11399, 10607,\n",
       "       11316, 10737, 10407, 11680, 11085, 12327, 12064, 12842, 12871,\n",
       "       12388, 13137, 12580, 11625, 12623, 12394, 13000, 13018, 13379,\n",
       "       13591, 12417, 13659, 13012], dtype=int64)"
      ]
     },
     "execution_count": 16,
     "metadata": {},
     "output_type": "execute_result"
    }
   ],
   "source": [
    "y_in"
   ]
  },
  {
   "cell_type": "markdown",
   "metadata": {},
   "source": [
    "**Построим диаграмму рассеяния и график идеального прогноза с помощью matplotlib**  \n",
    "https://matplotlib.org/stable/tutorials/introductory/pyplot.html"
   ]
  },
  {
   "cell_type": "code",
   "execution_count": 17,
   "metadata": {},
   "outputs": [
    {
     "data": {
      "image/png": "[encoded data removed]",
      "text/plain": [
       "<Figure size 432x288 with 1 Axes>"
      ]
     },
     "metadata": {
      "needs_background": "light"
     },
     "output_type": "display_data"
    }
   ],
   "source": [
    "# Диаграмма рассеяния\n",
    "plt.scatter(y_in, y_predict, color = \"m\", marker = \"o\", s = 30) # построим просто точки\n",
    "# добавим линию идеального прогноза (диагональ)\n",
    "plt.plot(y_in, y_in, color = \"r\") \n",
    "# подписи осей на график\n",
    "plt.xlabel('Y_actual') \n",
    "plt.ylabel('Y_regression') \n",
    "# выводим график\n",
    "plt.show()"
   ]
  },
  {
   "cell_type": "markdown",
   "metadata": {},
   "source": [
    "### Каким был бы результат, если бы не убрали выбросы?"
   ]
  },
  {
   "cell_type": "code",
   "execution_count": 18,
   "metadata": {},
   "outputs": [
    {
     "name": "stdout",
     "output_type": "stream",
     "text": [
      "                            OLS Regression Results                            \n",
      "==============================================================================\n",
      "Dep. Variable:                      y   R-squared:                       0.378\n",
      "Model:                            OLS   Adj. R-squared:                  0.365\n",
      "Method:                 Least Squares   F-statistic:                     28.61\n",
      "Date:                Thu, 02 Dec 2021   Prob (F-statistic):           2.56e-06\n",
      "Time:                        10:38:40   Log-Likelihood:                -425.26\n",
      "No. Observations:                  49   AIC:                             854.5\n",
      "Df Residuals:                      47   BIC:                             858.3\n",
      "Df Model:                           1                                         \n",
      "Covariance Type:            nonrobust                                         \n",
      "==============================================================================\n",
      "                 coef    std err          t      P>|t|      [0.025      0.975]\n",
      "------------------------------------------------------------------------------\n",
      "const       4706.2393   1225.992      3.839      0.000    2239.862    7172.616\n",
      "x1             0.2296      0.043      5.349      0.000       0.143       0.316\n",
      "==============================================================================\n",
      "Omnibus:                        3.090   Durbin-Watson:                   0.782\n",
      "Prob(Omnibus):                  0.213   Jarque-Bera (JB):                1.797\n",
      "Skew:                          -0.201   Prob(JB):                        0.407\n",
      "Kurtosis:                       2.152   Cond. No.                     1.69e+05\n",
      "==============================================================================\n",
      "\n",
      "Notes:\n",
      "[1] Standard Errors assume that the covariance matrix of the errors is correctly specified.\n",
      "[2] The condition number is large, 1.69e+05. This might indicate that there are\n",
      "strong multicollinearity or other numerical problems.\n"
     ]
    }
   ],
   "source": [
    "x_in_1 = df_regr_simple['avg_salary'].to_numpy()\n",
    "y_in_1 = df_regr_simple['avg_card_spend'].to_numpy()\n",
    "x_in_1 = sm.add_constant(x_in_1)\n",
    "est_1 = sm.OLS(y_in_1, x_in_1) \n",
    "est2_1 = est_1.fit()\n",
    "print(est2_1.summary())"
   ]
  },
  {
   "cell_type": "code",
   "execution_count": 19,
   "metadata": {},
   "outputs": [],
   "source": [
    "y_predict_1 = est2_1.predict()"
   ]
  },
  {
   "cell_type": "code",
   "execution_count": 20,
   "metadata": {},
   "outputs": [
    {
     "data": {
      "image/png": "[encoded data removed]",
      "text/plain": [
       "<Figure size 432x288 with 1 Axes>"
      ]
     },
     "metadata": {
      "needs_background": "light"
     },
     "output_type": "display_data"
    }
   ],
   "source": [
    "# Диаграмма рассеяния\n",
    "plt.scatter(y_in_1, y_predict_1, color = \"m\", marker = \"o\", s = 30) # построим просто точки\n",
    "# добавим линию идеального прогноза (диагональ)\n",
    "plt.plot(y_in_1, y_in_1, color = \"r\") \n",
    "# подписи осей на график\n",
    "plt.xlabel('Y_actual') \n",
    "plt.ylabel('Y_regression') \n",
    "# выводим график\n",
    "plt.show()"
   ]
  },
  {
   "cell_type": "markdown",
   "metadata": {},
   "source": [
    "### 3.2. Корреляция \"avg_salary\t- avg_card_spend\" с выбросами и без"
   ]
  },
  {
   "cell_type": "code",
   "execution_count": 21,
   "metadata": {},
   "outputs": [
    {
     "data": {
      "text/html": [
       "<div>\n",
       "<style scoped>\n",
       "    .dataframe tbody tr th:only-of-type {\n",
       "        vertical-align: middle;\n",
       "    }\n",
       "\n",
       "    .dataframe tbody tr th {\n",
       "        vertical-align: top;\n",
       "    }\n",
       "\n",
       "    .dataframe thead th {\n",
       "        text-align: right;\n",
       "    }\n",
       "</style>\n",
       "<table border=\"1\" class=\"dataframe\">\n",
       "  <thead>\n",
       "    <tr style=\"text-align: right;\">\n",
       "      <th></th>\n",
       "      <th>avg_salary</th>\n",
       "      <th>avg_card_spend</th>\n",
       "    </tr>\n",
       "  </thead>\n",
       "  <tbody>\n",
       "    <tr>\n",
       "      <th>avg_salary</th>\n",
       "      <td>1.000000</td>\n",
       "      <td>0.615139</td>\n",
       "    </tr>\n",
       "    <tr>\n",
       "      <th>avg_card_spend</th>\n",
       "      <td>0.615139</td>\n",
       "      <td>1.000000</td>\n",
       "    </tr>\n",
       "  </tbody>\n",
       "</table>\n",
       "</div>"
      ],
      "text/plain": [
       "                avg_salary  avg_card_spend\n",
       "avg_salary        1.000000        0.615139\n",
       "avg_card_spend    0.615139        1.000000"
      ]
     },
     "execution_count": 21,
     "metadata": {},
     "output_type": "execute_result"
    }
   ],
   "source": [
    "df_regr_simple_corr = df_regr_simple.corr()    # с выбросами\n",
    "df_regr_simple_corr"
   ]
  },
  {
   "cell_type": "code",
   "execution_count": 22,
   "metadata": {},
   "outputs": [
    {
     "data": {
      "text/html": [
       "<div>\n",
       "<style scoped>\n",
       "    .dataframe tbody tr th:only-of-type {\n",
       "        vertical-align: middle;\n",
       "    }\n",
       "\n",
       "    .dataframe tbody tr th {\n",
       "        vertical-align: top;\n",
       "    }\n",
       "\n",
       "    .dataframe thead th {\n",
       "        text-align: right;\n",
       "    }\n",
       "</style>\n",
       "<table border=\"1\" class=\"dataframe\">\n",
       "  <thead>\n",
       "    <tr style=\"text-align: right;\">\n",
       "      <th></th>\n",
       "      <th>avg_salary</th>\n",
       "      <th>avg_card_spend</th>\n",
       "    </tr>\n",
       "  </thead>\n",
       "  <tbody>\n",
       "    <tr>\n",
       "      <th>avg_salary</th>\n",
       "      <td>1.000000</td>\n",
       "      <td>0.708702</td>\n",
       "    </tr>\n",
       "    <tr>\n",
       "      <th>avg_card_spend</th>\n",
       "      <td>0.708702</td>\n",
       "      <td>1.000000</td>\n",
       "    </tr>\n",
       "  </tbody>\n",
       "</table>\n",
       "</div>"
      ],
      "text/plain": [
       "                avg_salary  avg_card_spend\n",
       "avg_salary        1.000000        0.708702\n",
       "avg_card_spend    0.708702        1.000000"
      ]
     },
     "execution_count": 22,
     "metadata": {},
     "output_type": "execute_result"
    }
   ],
   "source": [
    "df_regr_simple_wo_outliers_corr = df_regr_simple_wo_outliers.corr()    # без выбросов\n",
    "df_regr_simple_wo_outliers_corr"
   ]
  },
  {
   "cell_type": "markdown",
   "metadata": {},
   "source": [
    "### После исключения выбросов:\n",
    "- коэффициент корреляции увеличился $0.62 => 0.71$\n",
    "- коэффициент детерминации $R^2$ увеличился $0.38 => 0.50$\n",
    "\n",
    "Вывод - выбросы оказывают существенное влияние на корреляционную и регрессионную связи."
   ]
  },
  {
   "cell_type": "markdown",
   "metadata": {},
   "source": [
    "### 3.3. Многомерная линейная регрессия"
   ]
  },
  {
   "cell_type": "markdown",
   "metadata": {},
   "source": [
    "**Задача многомерной линейной регрессии** - для набора независимых переменных - $Х_{1}$, $Х_{2}$,...$Х_{n}$ и зависимой переменной $Y$ нахождение линейной функции типа $Y = k_{1}X_{1} + k_{2}X_{2} + ... + k_{n}X_{n} + b$ (т.е. параметров $k_{i}, b$), которая будет наилучшим образом описывать связь $Х_{1}$, $Х_{2}$,...$Х_{n}$ и $Y$. \n",
    "Обучение модели - метод наименьших квадратов (МНК) - минимизация $SUM((Y_{regression} - Y_{actual})^2)$.  "
   ]
  },
  {
   "cell_type": "markdown",
   "metadata": {},
   "source": [
    "**Рассмотрим для примера случай**   \n",
    "Пусть исходные данные, характеризующие регион: \n",
    "- средняя зарплата ($X_1$), \n",
    "- средняя пенсия ($X_2$), \n",
    "- средняя сумма заявки на потребительский кредит ($X_3$),\n",
    "- количество заявок на потребительские кредиты ($X_4$).\n",
    "\n",
    "Это набор независимых переменных - $Х_i$   \n",
    "Хотим найти взаимосвязь и прогнозировать **Средние расходы по картам** (зависимая переменная - $Y$)"
   ]
  },
  {
   "cell_type": "code",
   "execution_count": 23,
   "metadata": {},
   "outputs": [
    {
     "data": {
      "text/html": [
       "<div>\n",
       "<style scoped>\n",
       "    .dataframe tbody tr th:only-of-type {\n",
       "        vertical-align: middle;\n",
       "    }\n",
       "\n",
       "    .dataframe tbody tr th {\n",
       "        vertical-align: top;\n",
       "    }\n",
       "\n",
       "    .dataframe thead th {\n",
       "        text-align: right;\n",
       "    }\n",
       "</style>\n",
       "<table border=\"1\" class=\"dataframe\">\n",
       "  <thead>\n",
       "    <tr style=\"text-align: right;\">\n",
       "      <th></th>\n",
       "      <th>date</th>\n",
       "      <th>avg_salary</th>\n",
       "      <th>avg_pension</th>\n",
       "      <th>avg_sum_consumer_loan</th>\n",
       "      <th>n_consumer_loan</th>\n",
       "      <th>avg_card_spend</th>\n",
       "    </tr>\n",
       "  </thead>\n",
       "  <tbody>\n",
       "    <tr>\n",
       "      <th>0</th>\n",
       "      <td>2015-01-15</td>\n",
       "      <td>19209</td>\n",
       "      <td>8831</td>\n",
       "      <td>192834</td>\n",
       "      <td>7173</td>\n",
       "      <td>7927</td>\n",
       "    </tr>\n",
       "    <tr>\n",
       "      <th>1</th>\n",
       "      <td>2015-02-15</td>\n",
       "      <td>25356</td>\n",
       "      <td>10451</td>\n",
       "      <td>201050</td>\n",
       "      <td>9291</td>\n",
       "      <td>7605</td>\n",
       "    </tr>\n",
       "    <tr>\n",
       "      <th>2</th>\n",
       "      <td>2015-03-15</td>\n",
       "      <td>24159</td>\n",
       "      <td>10284</td>\n",
       "      <td>200363</td>\n",
       "      <td>11937</td>\n",
       "      <td>8600</td>\n",
       "    </tr>\n",
       "  </tbody>\n",
       "</table>\n",
       "</div>"
      ],
      "text/plain": [
       "        date  avg_salary  avg_pension  avg_sum_consumer_loan  n_consumer_loan  \\\n",
       "0 2015-01-15       19209         8831                 192834             7173   \n",
       "1 2015-02-15       25356        10451                 201050             9291   \n",
       "2 2015-03-15       24159        10284                 200363            11937   \n",
       "\n",
       "   avg_card_spend  \n",
       "0            7927  \n",
       "1            7605  \n",
       "2            8600  "
      ]
     },
     "execution_count": 23,
     "metadata": {},
     "output_type": "execute_result"
    }
   ],
   "source": [
    "df_regr_multivar = df_in.copy()    # выберем все колонки из исходного датасета  \n",
    "df_regr_multivar['date'] = pd.to_datetime(df_regr_multivar['date'])  # преобразуем дату из строки в формат Timestamp \n",
    "df_regr_multivar.head(3)    # выведем первые три строки на экран"
   ]
  },
  {
   "cell_type": "markdown",
   "metadata": {},
   "source": [
    "**Для оценки данных на предмет выбросов построим графики временных рядов с помощью метода plot** \n",
    "https://pandas.pydata.org/docs/reference/api/pandas.DataFrame.plot.html"
   ]
  },
  {
   "cell_type": "code",
   "execution_count": 24,
   "metadata": {},
   "outputs": [
    {
     "data": {
      "image/png": "[encoded data removed]",
      "text/plain": [
       "<Figure size 432x288 with 1 Axes>"
      ]
     },
     "metadata": {
      "needs_background": "light"
     },
     "output_type": "display_data"
    }
   ],
   "source": [
    "df_regr_multivar_X1t = df_regr_multivar.plot.scatter(x='date', y='avg_salary', c='DarkBlue') # график от времени"
   ]
  },
  {
   "cell_type": "code",
   "execution_count": 25,
   "metadata": {},
   "outputs": [
    {
     "data": {
      "image/png": "[encoded data removed]",
      "text/plain": [
       "<Figure size 432x288 with 1 Axes>"
      ]
     },
     "metadata": {
      "needs_background": "light"
     },
     "output_type": "display_data"
    }
   ],
   "source": [
    "df_regr_multivar_X2t = df_regr_multivar.plot.scatter(x='date', y='avg_pension', c='DarkBlue') # график от времени"
   ]
  },
  {
   "cell_type": "code",
   "execution_count": 26,
   "metadata": {},
   "outputs": [
    {
     "data": {
      "image/png": "[encoded data removed]",
      "text/plain": [
       "<Figure size 432x288 with 1 Axes>"
      ]
     },
     "metadata": {
      "needs_background": "light"
     },
     "output_type": "display_data"
    }
   ],
   "source": [
    "df_regr_multivar_X3t = df_regr_multivar.plot.scatter(x='date', y='avg_sum_consumer_loan', c='DarkBlue') # график от времени"
   ]
  },
  {
   "cell_type": "code",
   "execution_count": 27,
   "metadata": {},
   "outputs": [
    {
     "data": {
      "image/png": "[encoded data removed]",
      "text/plain": [
       "<Figure size 432x288 with 1 Axes>"
      ]
     },
     "metadata": {
      "needs_background": "light"
     },
     "output_type": "display_data"
    }
   ],
   "source": [
    "df_regr_multivar_X4t = df_regr_multivar.plot.scatter(x='date', y='n_consumer_loan', c='DarkBlue') # график от времени"
   ]
  },
  {
   "cell_type": "code",
   "execution_count": 28,
   "metadata": {},
   "outputs": [
    {
     "data": {
      "image/png": "[encoded data removed]",
      "text/plain": [
       "<Figure size 432x288 with 1 Axes>"
      ]
     },
     "metadata": {
      "needs_background": "light"
     },
     "output_type": "display_data"
    }
   ],
   "source": [
    "df_regr_multivar_Yt = df_regr_multivar.plot.scatter(x='date', y='avg_card_spend', c='DarkBlue') # график от времени"
   ]
  },
  {
   "cell_type": "markdown",
   "metadata": {},
   "source": [
    "Выбросы видны на глаз, хотя правильнее применить формальные методы, но это не есть тема данного занятия.<br>\n",
    "Выполним многомерный регрессионный анализ, не исключая выбросы.  "
   ]
  },
  {
   "cell_type": "markdown",
   "metadata": {},
   "source": [
    "### Построим модель многомерной линейной регрессии"
   ]
  },
  {
   "cell_type": "code",
   "execution_count": 29,
   "metadata": {},
   "outputs": [],
   "source": [
    "# импортируем необходиые библиотеки для работы с регрессионными моделями и построения графиков\n",
    "import numpy as np # массивы\n",
    "import statsmodels.api as sm\n",
    "import matplotlib.pyplot as plt "
   ]
  },
  {
   "cell_type": "markdown",
   "metadata": {},
   "source": [
    "**Независимые переменные $X_i$**"
   ]
  },
  {
   "cell_type": "code",
   "execution_count": 30,
   "metadata": {},
   "outputs": [
    {
     "data": {
      "text/plain": [
       "array([[ 19209,   8831, 192834,   7173],\n",
       "       [ 25356,  10451, 201050,   9291],\n",
       "       [ 24159,  10284, 200363,  11937]], dtype=int64)"
      ]
     },
     "execution_count": 30,
     "metadata": {},
     "output_type": "execute_result"
    }
   ],
   "source": [
    "x_in_m = df_regr_multivar[['avg_salary','avg_pension','avg_sum_consumer_loan','n_consumer_loan']].to_numpy()\n",
    "x_in_m[:3]"
   ]
  },
  {
   "cell_type": "markdown",
   "metadata": {},
   "source": [
    "**Зависимая переменная Y**"
   ]
  },
  {
   "cell_type": "code",
   "execution_count": 31,
   "metadata": {},
   "outputs": [
    {
     "data": {
      "text/plain": [
       "array([ 7927,  7605,  8600,  8085,  8413,  8748,  9353,  9504,  8925,\n",
       "        9417,  9095, 10674,  9095,  9265,  9946,  9981, 10227, 10539,\n",
       "       10643, 11399, 10607, 11316, 10737, 12523, 10813, 10407, 11680,\n",
       "       11085, 12327, 12064, 12842, 12871, 12388, 13137, 12580, 13980,\n",
       "       12758, 11625, 12623, 12394, 13000, 13018, 13379, 13591, 12417,\n",
       "       13659, 13012, 14747, 12280], dtype=int64)"
      ]
     },
     "execution_count": 31,
     "metadata": {},
     "output_type": "execute_result"
    }
   ],
   "source": [
    "y_in_m = df_regr_multivar['avg_card_spend'].to_numpy()\n",
    "y_in_m"
   ]
  },
  {
   "cell_type": "markdown",
   "metadata": {},
   "source": [
    "**Показатели регрессии**  \n",
    "OLS - Ordinary Least Squares regression"
   ]
  },
  {
   "cell_type": "code",
   "execution_count": 32,
   "metadata": {},
   "outputs": [
    {
     "name": "stdout",
     "output_type": "stream",
     "text": [
      "                            OLS Regression Results                            \n",
      "==============================================================================\n",
      "Dep. Variable:                      y   R-squared:                       0.847\n",
      "Model:                            OLS   Adj. R-squared:                  0.834\n",
      "Method:                 Least Squares   F-statistic:                     61.12\n",
      "Date:                Thu, 02 Dec 2021   Prob (F-statistic):           2.12e-17\n",
      "Time:                        10:38:44   Log-Likelihood:                -390.84\n",
      "No. Observations:                  49   AIC:                             791.7\n",
      "Df Residuals:                      44   BIC:                             801.1\n",
      "Df Model:                           4                                         \n",
      "Covariance Type:            nonrobust                                         \n",
      "==============================================================================\n",
      "                 coef    std err          t      P>|t|      [0.025      0.975]\n",
      "------------------------------------------------------------------------------\n",
      "const      -1839.9212    916.683     -2.007      0.051   -3687.375       7.532\n",
      "x1             0.0514      0.030      1.701      0.096      -0.009       0.112\n",
      "x2             0.1854      0.066      2.822      0.007       0.053       0.318\n",
      "x3             0.0342      0.005      7.026      0.000       0.024       0.044\n",
      "x4             0.0378      0.014      2.612      0.012       0.009       0.067\n",
      "==============================================================================\n",
      "Omnibus:                        1.708   Durbin-Watson:                   1.269\n",
      "Prob(Omnibus):                  0.426   Jarque-Bera (JB):                1.620\n",
      "Skew:                           0.350   Prob(JB):                        0.445\n",
      "Kurtosis:                       2.449   Cond. No.                     2.07e+06\n",
      "==============================================================================\n",
      "\n",
      "Notes:\n",
      "[1] Standard Errors assume that the covariance matrix of the errors is correctly specified.\n",
      "[2] The condition number is large, 2.07e+06. This might indicate that there are\n",
      "strong multicollinearity or other numerical problems.\n"
     ]
    }
   ],
   "source": [
    "x_in_m = sm.add_constant(x_in_m)\n",
    "est_m = sm.OLS(y_in_m, x_in_m) \n",
    "est2_m = est_m.fit()\n",
    "print(est2_m.summary())"
   ]
  },
  {
   "cell_type": "markdown",
   "metadata": {},
   "source": [
    "**Коэффициент детерминации** $R^2$ характеризует долю дисперсии результативного признака $Y_{regression}$ (объясняемую регрессией) в общей дисперсии $Y_{actual}$ (наблюдаемые значения). Используется для оценки модели. Коэффициент детерминации равен квадрату коэффициента корреляции между наблюдаемыми и предсказанными (регрессионными) значениями."
   ]
  },
  {
   "cell_type": "markdown",
   "metadata": {},
   "source": [
    "Оценка значимости полученных параметров регрессии по величине p-value.<br>\n",
    "Статистическая гипотеза линейной регрессии: $H_0$ - параметры регрессии  $k_i$  и  $b$ (const) значимо не отличается от нуля."
   ]
  },
  {
   "cell_type": "markdown",
   "metadata": {},
   "source": [
    "**Для оценки полученных результатов вычислим значения $Y_{regression}$**"
   ]
  },
  {
   "cell_type": "code",
   "execution_count": 33,
   "metadata": {},
   "outputs": [
    {
     "data": {
      "text/plain": [
       "array([ 7656.32047941,  8633.66237054,  8617.643765  ,  9022.99681753,\n",
       "        8275.83895456,  9287.02247442,  9272.28849401,  8974.3016765 ,\n",
       "        8808.54681835,  9569.48565183,  9636.36824295, 11653.71428221,\n",
       "        9958.16563078, 10400.76308044, 10132.56752351, 10720.37928509,\n",
       "       10020.40387337, 10417.39493094, 10074.32546844, 10784.30788976,\n",
       "       10698.57343489, 10442.22339307, 10747.38529945, 12002.66887778,\n",
       "       11413.93847661, 11208.08527866, 11526.69598513, 11661.52316327,\n",
       "       11537.2855937 , 11999.97425086, 11403.82830617, 11474.67113675,\n",
       "       11382.95371679, 11675.65736319, 12266.31803426, 13965.69383667,\n",
       "       12593.86401234, 12694.44017951, 13207.86363995, 13302.00711681,\n",
       "       13147.89594256, 13883.50443118, 13305.87785179, 13639.25102509,\n",
       "       13106.83142811, 12174.2122964 , 12150.70151238, 14918.95888593,\n",
       "       11851.61782108])"
      ]
     },
     "execution_count": 33,
     "metadata": {},
     "output_type": "execute_result"
    }
   ],
   "source": [
    "y_predict_m = est2_m.predict()\n",
    "y_predict_m"
   ]
  },
  {
   "cell_type": "markdown",
   "metadata": {},
   "source": [
    "**Фактические значения $Y_{actual}$ были**"
   ]
  },
  {
   "cell_type": "code",
   "execution_count": 34,
   "metadata": {},
   "outputs": [
    {
     "data": {
      "text/plain": [
       "array([ 7927,  7605,  8600,  8085,  8413,  8748,  9353,  9504,  8925,\n",
       "        9417,  9095, 10674,  9095,  9265,  9946,  9981, 10227, 10539,\n",
       "       10643, 11399, 10607, 11316, 10737, 12523, 10813, 10407, 11680,\n",
       "       11085, 12327, 12064, 12842, 12871, 12388, 13137, 12580, 13980,\n",
       "       12758, 11625, 12623, 12394, 13000, 13018, 13379, 13591, 12417,\n",
       "       13659, 13012, 14747, 12280], dtype=int64)"
      ]
     },
     "execution_count": 34,
     "metadata": {},
     "output_type": "execute_result"
    }
   ],
   "source": [
    "y_in_m"
   ]
  },
  {
   "cell_type": "markdown",
   "metadata": {},
   "source": [
    "**Построим диаграмму рассеяния и график идеального прогноза с помощью matplotlib**  \n",
    "https://matplotlib.org/stable/tutorials/introductory/pyplot.html"
   ]
  },
  {
   "cell_type": "code",
   "execution_count": 35,
   "metadata": {},
   "outputs": [
    {
     "data": {
      "image/png": "[encoded data removed]",
      "text/plain": [
       "<Figure size 432x288 with 1 Axes>"
      ]
     },
     "metadata": {
      "needs_background": "light"
     },
     "output_type": "display_data"
    }
   ],
   "source": [
    "# Диаграмма рассеяния\n",
    "plt.scatter(y_in_m, y_predict_m, color = \"m\", marker = \"o\", s = 30) # построим просто точки\n",
    "# добавим линию идеального прогноза (диагональ)\n",
    "plt.plot(y_in_m, y_in_m, color = \"r\") \n",
    "# подписи осей на график\n",
    "plt.xlabel('Y_actual') \n",
    "plt.ylabel('Y_regression') \n",
    "# выводим график\n",
    "plt.show() "
   ]
  },
  {
   "cell_type": "markdown",
   "metadata": {},
   "source": [
    "### Подведем итоги. На этом занятии мы научились:\n",
    "- Строить модели одномерной и многомерной линейной регрессии с помощью библиотеки statsmodels.\n",
    "- Получать и интерпретировать основные показатели регрессии.\n",
    "- Строить диаграммы рассеяния для анализа регрессионной модели."
   ]
  },
  {
   "cell_type": "code",
   "execution_count": null,
   "metadata": {},
   "outputs": [],
   "source": []
  }
 ],
 "metadata": {
  "kernelspec": {
   "display_name": "Python 3",
   "language": "python",
   "name": "python3"
  },
  "language_info": {
   "codemirror_mode": {
    "name": "ipython",
    "version": 3
   },
   "file_extension": ".py",
   "mimetype": "text/x-python",
   "name": "python",
   "nbconvert_exporter": "python",
   "pygments_lexer": "ipython3",
   "version": "3.8.5"
  }
 },
 "nbformat": 4,
 "nbformat_minor": 2
}
