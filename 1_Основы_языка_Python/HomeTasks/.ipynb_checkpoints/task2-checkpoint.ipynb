{
 "cells": [
  {
   "cell_type": "markdown",
   "metadata": {},
   "source": [
    "## Задание #2 (Основы Python - части 3 и 4)"
   ]
  },
  {
   "cell_type": "markdown",
   "metadata": {},
   "source": [
    "## Прядун Михаил Александрович | ЭУМ-110001 | misha.pma12@yandex.ru"
   ]
  },
  {
   "cell_type": "markdown",
   "metadata": {},
   "source": [
    "**Тест 1.**\n",
    "На языке Python напишите функцию get_status(content), которая из строки на входе, содержащей записи журнала обработки заявок диспетчерской системы в сфере ЖКХ, будет выделять информацию о смене статуса заявки и выдавать ее пользователю.\n",
    "\n",
    "Вход: переменная content типа str.\n",
    "\n",
    "Выход: переменные start_status, finish_status типа str, содержащие старое и новое значения статуса заявки.\n",
    "\n",
    "\n",
    "\n",
    "Пример\n",
    "\n",
    "Вход: content = «До сих пор не заменена лампа в подъезде на 6 этаже Ленина 34, 4 подъезд. Заявка была создана несколько дней назад. Пока обрабатывали мою заявку перегорела еще одна лампа. На этаже темно. Если не отреагируете, позвоню в другую инстанцию.; Статус сменился с Зарегистрирована на Отложена; Причина запланированы работы;»\n",
    "\n",
    "Выход: start_status = «Зарегистрирована», finish_status = «Отложена»"
   ]
  },
  {
   "cell_type": "code",
   "execution_count": 12,
   "metadata": {
    "scrolled": true
   },
   "outputs": [
    {
     "name": "stdout",
     "output_type": "stream",
     "text": [
      "start_status = «Зарегистрирована», finish_status = «Отложена»\n"
     ]
    }
   ],
   "source": [
    "content = 'До сих пор не заменена лампа в подъезде на 6 этаже Ленина 34, 4 подъезд. Заявка была создана несколько дней назад. Пока обрабатывали мою заявку перегорела еще одна лампа. На этаже темно. Если не отреагируете, позвоню в другую инстанцию.; Статус сменился с Зарегистрирована на Отложена; Причина запланированы работы;'\n",
    "statusValue = ['Зарегистрирована','Отложена','Завершена']\n",
    "\n",
    "def get_status(content):\n",
    "    statusList = list(filter(lambda x: x.find('Статус сменился') != -1, content.split('; ')))\n",
    "    start_status = statusList[0].split(' ')[3]\n",
    "    finish_status = statusList[len(statusList)-1].split(' ')[-1]\n",
    "    return 'start_status = «'+start_status+'», finish_status = «'+finish_status+'»'\n",
    "    \n",
    "print(get_status(content))"
   ]
  },
  {
   "cell_type": "markdown",
   "metadata": {},
   "source": [
    "**Тест 2.**\n",
    "Используя библиотеку math, напишите на языке Python функцию ufun(x), которая будет вычислять и возвращать значения математической функции y(х) = x^3 * exp(sin(x/2)) для x типа float.\n",
    "\n",
    "\n",
    "Вход: переменная x из области определения, в которой нужно вычислить значение функции.\n",
    "\n",
    "Выход: значение функции y.\n",
    "\n",
    "\n",
    "Пример\n",
    "\n",
    "Вход: x = -2.45\n",
    "Выход: y=-5.739994398707307"
   ]
  },
  {
   "cell_type": "code",
   "execution_count": 13,
   "metadata": {},
   "outputs": [
    {
     "name": "stdout",
     "output_type": "stream",
     "text": [
      "-5.739994398707307\n"
     ]
    }
   ],
   "source": [
    "import math \n",
    "\n",
    "def ufun(variable):\n",
    "    result = math.pow(variable, 3) * math.exp(math.sin(variable/2))\n",
    "    return result\n",
    "          \n",
    "print(ufun(-2.45))"
   ]
  },
  {
   "cell_type": "markdown",
   "metadata": {},
   "source": [
    "**Тест 3.**\n",
    "Используя библиотеки math и pandas напишите на языке Python функцию get_df_fun(start_x,finish_x,n_points), которая будет вычислять значения математической функции y(х) = x^2 * exp(sin(x/3))\n",
    "в n_points точках заданной области определения [start_x, finish_x] и выдавать их пользователю в виде таблицы pandas DataFrame.\n",
    "\n",
    "Вход: переменные start_x, finish_x типа float – границы области определения, переменная n_points типа int – количество точек из области определения, в которых нужно вычислить значение функции.\n",
    "Выход: pandas DataFrame с колонками X и Y, где Х - аргумент функции, Y – значения функции.\n",
    "\n",
    "Пример\n",
    "Вход: \n",
    "start_x = -10\n",
    "finish_x = 10\n",
    "n_points = 2000\n",
    "\n",
    "Выход: get_df_fun(start_x, finish_x, n_points)"
   ]
  },
  {
   "cell_type": "code",
   "execution_count": 36,
   "metadata": {},
   "outputs": [
    {
     "name": "stdout",
     "output_type": "stream",
     "text": [
      "              X            Y\n",
      "1    -10.000000 -2608.888516\n",
      "2     -9.989995 -2604.728084\n",
      "3     -9.979990 -2600.503965\n",
      "4     -9.969985 -2596.216384\n",
      "5     -9.959980 -2591.865576\n",
      "...         ...          ...\n",
      "1996   9.959980   376.650304\n",
      "1997   9.969985   378.291115\n",
      "1998   9.979990   379.947083\n",
      "1999   9.989995   381.618335\n",
      "2000  10.000000   383.304995\n",
      "\n",
      "[2000 rows x 2 columns]\n"
     ]
    }
   ],
   "source": [
    "import math \n",
    "import pandas\n",
    "\n",
    "start_x = -10\n",
    "finish_x = 10\n",
    "n_points = 2000\n",
    "\n",
    "def get_df_fun(start_x,finish_x,n_points):\n",
    "    if n_points < 2:\n",
    "        return 'Не корректное значение'\n",
    "    if finish_x < start_x:\n",
    "        return 'Не корректное значение'\n",
    "    \n",
    "    difference = (finish_x - start_x)/(n_points-1)\n",
    "    xArray = []\n",
    "    yArray = []\n",
    "    pointArray = []\n",
    "    \n",
    "    for i in range(n_points):\n",
    "        xValue = start_x\n",
    "        xArray.append(xValue)\n",
    "        yArray.append(math.pow(start_x, 3) * math.exp(math.sin(start_x/2)))\n",
    "        pointArray.append(i+1)\n",
    "        start_x += difference\n",
    "        \n",
    "    return pandas.DataFrame({\n",
    "        'X': xArray,\n",
    "        'Y': yArray,\n",
    "    }, index=pointArray)\n",
    "\n",
    "print(get_df_fun(start_x,finish_x,n_points))"
   ]
  },
  {
   "cell_type": "code",
   "execution_count": null,
   "metadata": {},
   "outputs": [],
   "source": []
  }
 ],
 "metadata": {
  "kernelspec": {
   "display_name": "Python 3",
   "language": "python",
   "name": "python3"
  },
  "language_info": {
   "codemirror_mode": {
    "name": "ipython",
    "version": 3
   },
   "file_extension": ".py",
   "mimetype": "text/x-python",
   "name": "python",
   "nbconvert_exporter": "python",
   "pygments_lexer": "ipython3",
   "version": "3.8.8"
  }
 },
 "nbformat": 4,
 "nbformat_minor": 2
}
