{
 "cells": [
  {
   "cell_type": "markdown",
   "metadata": {},
   "source": [
    "## 1.Задание #1 (Основы Python - части 1 и 2)"
   ]
  },
  {
   "cell_type": "markdown",
   "metadata": {},
   "source": [
    "## Прядун Михаил Александрович | ЭУМ-110001 | misha.pma12@yandex.ru"
   ]
  },
  {
   "cell_type": "markdown",
   "metadata": {},
   "source": [
    "# 1. Язык Python — интерпретатор"
   ]
  },
  {
   "cell_type": "markdown",
   "metadata": {},
   "source": [
    "**Тест 1.**\n",
    "На языке Python напишите код, который для списка in_list на входе, содержащего числа типа int или float, будет вычислять список out_list с кумулятивными суммами для каждого элемента входного списка. Под кумулятивной суммой для i-го элемента будем понимать сумму всех элементов с начала списка до i-го включительно.\n",
    "Вход: список in_list из произвольного числа элементов типа int или float.\n",
    "Выход: список оut_list из элементов типа int или float в том же количестве, что и в in_list, содержащий кумулятивные суммы.\n",
    "Опционально код можно оформить в виде функции get_cumsum(in_list)\n",
    "\n",
    "Пример.\n",
    "\n",
    "Вход: in_list = [1,2,3,4,5,6,7,8,9,10]\n",
    "\n",
    "Выход: out_list = [1, 3, 6, 10, 15, 21, 28, 36, 45, 55]"
   ]
  },
  {
   "cell_type": "code",
   "execution_count": 15,
   "metadata": {
    "scrolled": true
   },
   "outputs": [
    {
     "name": "stdout",
     "output_type": "stream",
     "text": [
      "[1, 3, 6, 10, 15, 21, 28, 36, 45, 55]\n"
     ]
    }
   ],
   "source": [
    "in_list = [1,2,3,4,5,6,7,8,9,10] \n",
    "def get_cumsum(inputArray):\n",
    "    outputArray = []\n",
    "    for i in range(len(inputArray)):\n",
    "        if i == 0: \n",
    "            outputArray.append(inputArray[i])\n",
    "        else:\n",
    "            outputArray.append(inputArray[i]+outputArray[i-1])\n",
    "    return outputArray        \n",
    "    \n",
    "print(get_cumsum(in_list))"
   ]
  },
  {
   "cell_type": "markdown",
   "metadata": {},
   "source": [
    "**Тест 2.**\n",
    "На языке Python напишите код, который для строки in_str на входе, содержащей произвольные элементы (группы символов), разделенные пробелами, будет получать строку out_str с уникальными элементами из исходной строки, разделенными \"-\". Порядок элементов в строке out_str не важен. По сути, надо убрать повторы.\n",
    "Вход: строка in_str из произвольного числа элементов (групп символов), разделенных пробелами.\n",
    "Выход: строка out_str с уникальными элементами из исходной строки в произвольном порядке, разделенными \"-\".\n",
    "Опционально код можно оформить в виде функции get_unique_str(in_str)\n",
    "\n",
    "Пример.\n",
    "\n",
    "Вход: in_str = 'На языке Python напишите функцию Python 123 для LOG(34) {123} 123'\n",
    "\n",
    "Выход: out_str = '123-языке-для-На-функцию-LOG(34)-Python-напишите-{123}'"
   ]
  },
  {
   "cell_type": "code",
   "execution_count": 38,
   "metadata": {},
   "outputs": [
    {
     "name": "stdout",
     "output_type": "stream",
     "text": [
      "На-напишите-{123}-функцию-Python-языке-123-LOG(34)-для\n"
     ]
    }
   ],
   "source": [
    "in_str = 'На языке Python напишите функцию Python 123 для LOG(34) {123} 123'\n",
    "def get_unique_str(inputStr):\n",
    "    return ('-').join(list(set(inputStr.split(' '))))\n",
    "          \n",
    "print(get_unique_str(in_str))"
   ]
  },
  {
   "cell_type": "code",
   "execution_count": null,
   "metadata": {},
   "outputs": [],
   "source": []
  }
 ],
 "metadata": {
  "kernelspec": {
   "display_name": "Python 3",
   "language": "python",
   "name": "python3"
  },
  "language_info": {
   "codemirror_mode": {
    "name": "ipython",
    "version": 3
   },
   "file_extension": ".py",
   "mimetype": "text/x-python",
   "name": "python",
   "nbconvert_exporter": "python",
   "pygments_lexer": "ipython3",
   "version": "3.8.8"
  }
 },
 "nbformat": 4,
 "nbformat_minor": 2
}
