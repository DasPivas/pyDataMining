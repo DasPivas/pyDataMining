{
 "cells": [
  {
   "cell_type": "markdown",
   "metadata": {},
   "source": [
    "#### @author: Александр Владимирович Толмачев | axtolm@gmail.com\n",
    "<hr>"
   ]
  },
  {
   "cell_type": "markdown",
   "metadata": {},
   "source": [
    "## 1. Основы языка Python"
   ]
  },
  {
   "cell_type": "markdown",
   "metadata": {},
   "source": [
    "## Часть 4. Библиотека для работы с данными pandas"
   ]
  },
  {
   "cell_type": "markdown",
   "metadata": {},
   "source": [
    "### На этом занятии мы планируем:\n",
    "- Познакомиться с библиотекой pandas и типами данных DataFrame и Series, популярными у аналитиков."
   ]
  },
  {
   "cell_type": "markdown",
   "metadata": {},
   "source": [
    "### 1. Библиотека pandas - типы данных pandas.Series и pandas.DataFrame"
   ]
  },
  {
   "cell_type": "markdown",
   "metadata": {},
   "source": [
    "**pandas** - это высокоуровневая библиотека для анализа данных, которая содержит два класса объектов:"
   ]
  },
  {
   "cell_type": "markdown",
   "metadata": {},
   "source": [
    "**class pandas.Series**  \n",
    "Одномерный массив индексированных данных (временные ряды это тоже тут).  \n",
    "Подробности на сайте библиотеки:  \n",
    "https://pandas.pydata.org/pandas-docs/stable/reference/api/pandas.Series.html"
   ]
  },
  {
   "cell_type": "markdown",
   "metadata": {},
   "source": [
    "**class pandas.DataFrame**  \n",
    "Двумерный массив с гибкими индексами строк и гибкими именами столбцов. \n",
    "Каждый столбец можно рассматривать как объект pandas.Series.  \n",
    "Подробности на сайте библиотеки:   \n",
    "https://pandas.pydata.org/pandas-docs/stable/reference/api/pandas.DataFrame.html"
   ]
  },
  {
   "cell_type": "code",
   "execution_count": 1,
   "metadata": {},
   "outputs": [],
   "source": [
    "import pandas as pd    # сначала импортируем библиотеку pandas под псевдонимом pd"
   ]
  },
  {
   "cell_type": "code",
   "execution_count": 2,
   "metadata": {},
   "outputs": [
    {
     "name": "stdout",
     "output_type": "stream",
     "text": [
      "<class 'pandas.core.frame.DataFrame'>\n"
     ]
    }
   ],
   "source": [
    "db_tab_tmp = pd.DataFrame()    # создадим пустой датафрейм\n",
    "print(type(db_tab_tmp))    # выведем тип"
   ]
  },
  {
   "cell_type": "code",
   "execution_count": 3,
   "metadata": {},
   "outputs": [],
   "source": [
    "# заполним DataFrame руками для примера \n",
    "# на практике так обычно не делается, т.к. данные мы откуда-то берем, а не придумываем сами\n",
    "# исключение - расчетные фрагменты (по ходу выполнения алгоритма что-то посчитали и присоединили к большому DataFrame)\n",
    "# возьмем для примера случай из учебной аналитики\n",
    "# определим константы для заполнения\n",
    "COURSE_ID = 'URFU_ENGM_F2019'  # id online курса\n",
    "CHECK_POINT_NAME = 'ravg'      # название контрольной точки\n",
    "N_STUDENTS = 10                # количество студентов"
   ]
  },
  {
   "cell_type": "markdown",
   "metadata": {},
   "source": [
    "Заполним столбцы DataFrame с помощью генератора списков и генератора случайных чисел:"
   ]
  },
  {
   "cell_type": "code",
   "execution_count": 4,
   "metadata": {},
   "outputs": [],
   "source": [
    "import random as rd    # импортируем библиотеку с генератором случайных чисел\n",
    "rd.seed(1222)           # инициализируем генератор, чтобы получать всегда один набор значений"
   ]
  },
  {
   "cell_type": "code",
   "execution_count": 5,
   "metadata": {},
   "outputs": [],
   "source": [
    "# заполним столбец идентификатора курса 'course_id' одним и тем же значением константы COURSE_ID\n",
    "db_tab_tmp['course_id'] = [COURSE_ID for i in range(N_STUDENTS)]  "
   ]
  },
  {
   "cell_type": "code",
   "execution_count": 6,
   "metadata": {},
   "outputs": [],
   "source": [
    "# заполним идентификатора студентов 'student_id' случайными числами от 1 до 10**6\n",
    "# используем метод из библиотеки random: random.randint(A, B), который выдает случайное целое число N, A ≤ N ≤ B.\n",
    "db_tab_tmp['student_id'] = [rd.randint(1, 10**6) for i in range(N_STUDENTS)] "
   ]
  },
  {
   "cell_type": "code",
   "execution_count": 7,
   "metadata": {},
   "outputs": [],
   "source": [
    "# заполним столбец названий контрольных точек 'check_point_name' значением константы CHECK_POINT_NAME\n",
    "db_tab_tmp['check_point_name'] = [CHECK_POINT_NAME for i in range(N_STUDENTS)] "
   ]
  },
  {
   "cell_type": "code",
   "execution_count": 8,
   "metadata": {},
   "outputs": [],
   "source": [
    "# заполним столбец оценок 'grade' случайными числами от 0.0 до 1.0 и округлим их до 2-х знаков после запятой\n",
    "db_tab_tmp['grade'] = [round(rd.random(),2) for i in range(N_STUDENTS)] "
   ]
  },
  {
   "cell_type": "code",
   "execution_count": 9,
   "metadata": {},
   "outputs": [
    {
     "data": {
      "text/html": [
       "<div>\n",
       "<style scoped>\n",
       "    .dataframe tbody tr th:only-of-type {\n",
       "        vertical-align: middle;\n",
       "    }\n",
       "\n",
       "    .dataframe tbody tr th {\n",
       "        vertical-align: top;\n",
       "    }\n",
       "\n",
       "    .dataframe thead th {\n",
       "        text-align: right;\n",
       "    }\n",
       "</style>\n",
       "<table border=\"1\" class=\"dataframe\">\n",
       "  <thead>\n",
       "    <tr style=\"text-align: right;\">\n",
       "      <th></th>\n",
       "      <th>course_id</th>\n",
       "      <th>student_id</th>\n",
       "      <th>check_point_name</th>\n",
       "      <th>grade</th>\n",
       "    </tr>\n",
       "  </thead>\n",
       "  <tbody>\n",
       "    <tr>\n",
       "      <th>0</th>\n",
       "      <td>URFU_ENGM_F2019</td>\n",
       "      <td>596729</td>\n",
       "      <td>ravg</td>\n",
       "      <td>0.49</td>\n",
       "    </tr>\n",
       "    <tr>\n",
       "      <th>1</th>\n",
       "      <td>URFU_ENGM_F2019</td>\n",
       "      <td>514764</td>\n",
       "      <td>ravg</td>\n",
       "      <td>0.28</td>\n",
       "    </tr>\n",
       "    <tr>\n",
       "      <th>2</th>\n",
       "      <td>URFU_ENGM_F2019</td>\n",
       "      <td>429897</td>\n",
       "      <td>ravg</td>\n",
       "      <td>0.24</td>\n",
       "    </tr>\n",
       "    <tr>\n",
       "      <th>3</th>\n",
       "      <td>URFU_ENGM_F2019</td>\n",
       "      <td>686324</td>\n",
       "      <td>ravg</td>\n",
       "      <td>0.39</td>\n",
       "    </tr>\n",
       "    <tr>\n",
       "      <th>4</th>\n",
       "      <td>URFU_ENGM_F2019</td>\n",
       "      <td>612259</td>\n",
       "      <td>ravg</td>\n",
       "      <td>0.92</td>\n",
       "    </tr>\n",
       "    <tr>\n",
       "      <th>5</th>\n",
       "      <td>URFU_ENGM_F2019</td>\n",
       "      <td>753407</td>\n",
       "      <td>ravg</td>\n",
       "      <td>0.90</td>\n",
       "    </tr>\n",
       "    <tr>\n",
       "      <th>6</th>\n",
       "      <td>URFU_ENGM_F2019</td>\n",
       "      <td>12479</td>\n",
       "      <td>ravg</td>\n",
       "      <td>0.75</td>\n",
       "    </tr>\n",
       "    <tr>\n",
       "      <th>7</th>\n",
       "      <td>URFU_ENGM_F2019</td>\n",
       "      <td>330129</td>\n",
       "      <td>ravg</td>\n",
       "      <td>0.04</td>\n",
       "    </tr>\n",
       "    <tr>\n",
       "      <th>8</th>\n",
       "      <td>URFU_ENGM_F2019</td>\n",
       "      <td>804278</td>\n",
       "      <td>ravg</td>\n",
       "      <td>0.26</td>\n",
       "    </tr>\n",
       "    <tr>\n",
       "      <th>9</th>\n",
       "      <td>URFU_ENGM_F2019</td>\n",
       "      <td>605780</td>\n",
       "      <td>ravg</td>\n",
       "      <td>0.31</td>\n",
       "    </tr>\n",
       "  </tbody>\n",
       "</table>\n",
       "</div>"
      ],
      "text/plain": [
       "         course_id  student_id check_point_name  grade\n",
       "0  URFU_ENGM_F2019      596729             ravg   0.49\n",
       "1  URFU_ENGM_F2019      514764             ravg   0.28\n",
       "2  URFU_ENGM_F2019      429897             ravg   0.24\n",
       "3  URFU_ENGM_F2019      686324             ravg   0.39\n",
       "4  URFU_ENGM_F2019      612259             ravg   0.92\n",
       "5  URFU_ENGM_F2019      753407             ravg   0.90\n",
       "6  URFU_ENGM_F2019       12479             ravg   0.75\n",
       "7  URFU_ENGM_F2019      330129             ravg   0.04\n",
       "8  URFU_ENGM_F2019      804278             ravg   0.26\n",
       "9  URFU_ENGM_F2019      605780             ravg   0.31"
      ]
     },
     "execution_count": 9,
     "metadata": {},
     "output_type": "execute_result"
    }
   ],
   "source": [
    "db_tab_tmp    # выведем DataFrame на экран"
   ]
  },
  {
   "cell_type": "code",
   "execution_count": 10,
   "metadata": {},
   "outputs": [
    {
     "data": {
      "text/plain": [
       "pandas.core.series.Series"
      ]
     },
     "execution_count": 10,
     "metadata": {},
     "output_type": "execute_result"
    }
   ],
   "source": [
    "type(db_tab_tmp['grade']) # выведем тип одной колонки"
   ]
  },
  {
   "cell_type": "markdown",
   "metadata": {},
   "source": [
    "**Обратим внимание на первую колонку с индексом DataFrame!** - значения по порядку от 0 и названия колонки нет"
   ]
  },
  {
   "cell_type": "code",
   "execution_count": 11,
   "metadata": {},
   "outputs": [
    {
     "data": {
      "text/html": [
       "<div>\n",
       "<style scoped>\n",
       "    .dataframe tbody tr th:only-of-type {\n",
       "        vertical-align: middle;\n",
       "    }\n",
       "\n",
       "    .dataframe tbody tr th {\n",
       "        vertical-align: top;\n",
       "    }\n",
       "\n",
       "    .dataframe thead th {\n",
       "        text-align: right;\n",
       "    }\n",
       "</style>\n",
       "<table border=\"1\" class=\"dataframe\">\n",
       "  <thead>\n",
       "    <tr style=\"text-align: right;\">\n",
       "      <th></th>\n",
       "      <th>course_id</th>\n",
       "      <th>student_id</th>\n",
       "      <th>check_point_name</th>\n",
       "      <th>grade</th>\n",
       "    </tr>\n",
       "    <tr>\n",
       "      <th>our_index</th>\n",
       "      <th></th>\n",
       "      <th></th>\n",
       "      <th></th>\n",
       "      <th></th>\n",
       "    </tr>\n",
       "  </thead>\n",
       "  <tbody>\n",
       "    <tr>\n",
       "      <th>100</th>\n",
       "      <td>URFU_ENGM_F2019</td>\n",
       "      <td>596729</td>\n",
       "      <td>ravg</td>\n",
       "      <td>0.49</td>\n",
       "    </tr>\n",
       "    <tr>\n",
       "      <th>101</th>\n",
       "      <td>URFU_ENGM_F2019</td>\n",
       "      <td>514764</td>\n",
       "      <td>ravg</td>\n",
       "      <td>0.28</td>\n",
       "    </tr>\n",
       "    <tr>\n",
       "      <th>102</th>\n",
       "      <td>URFU_ENGM_F2019</td>\n",
       "      <td>429897</td>\n",
       "      <td>ravg</td>\n",
       "      <td>0.24</td>\n",
       "    </tr>\n",
       "    <tr>\n",
       "      <th>103</th>\n",
       "      <td>URFU_ENGM_F2019</td>\n",
       "      <td>686324</td>\n",
       "      <td>ravg</td>\n",
       "      <td>0.39</td>\n",
       "    </tr>\n",
       "    <tr>\n",
       "      <th>104</th>\n",
       "      <td>URFU_ENGM_F2019</td>\n",
       "      <td>612259</td>\n",
       "      <td>ravg</td>\n",
       "      <td>0.92</td>\n",
       "    </tr>\n",
       "    <tr>\n",
       "      <th>105</th>\n",
       "      <td>URFU_ENGM_F2019</td>\n",
       "      <td>753407</td>\n",
       "      <td>ravg</td>\n",
       "      <td>0.90</td>\n",
       "    </tr>\n",
       "    <tr>\n",
       "      <th>106</th>\n",
       "      <td>URFU_ENGM_F2019</td>\n",
       "      <td>12479</td>\n",
       "      <td>ravg</td>\n",
       "      <td>0.75</td>\n",
       "    </tr>\n",
       "    <tr>\n",
       "      <th>107</th>\n",
       "      <td>URFU_ENGM_F2019</td>\n",
       "      <td>330129</td>\n",
       "      <td>ravg</td>\n",
       "      <td>0.04</td>\n",
       "    </tr>\n",
       "    <tr>\n",
       "      <th>108</th>\n",
       "      <td>URFU_ENGM_F2019</td>\n",
       "      <td>804278</td>\n",
       "      <td>ravg</td>\n",
       "      <td>0.26</td>\n",
       "    </tr>\n",
       "    <tr>\n",
       "      <th>109</th>\n",
       "      <td>URFU_ENGM_F2019</td>\n",
       "      <td>605780</td>\n",
       "      <td>ravg</td>\n",
       "      <td>0.31</td>\n",
       "    </tr>\n",
       "  </tbody>\n",
       "</table>\n",
       "</div>"
      ],
      "text/plain": [
       "                 course_id  student_id check_point_name  grade\n",
       "our_index                                                     \n",
       "100        URFU_ENGM_F2019      596729             ravg   0.49\n",
       "101        URFU_ENGM_F2019      514764             ravg   0.28\n",
       "102        URFU_ENGM_F2019      429897             ravg   0.24\n",
       "103        URFU_ENGM_F2019      686324             ravg   0.39\n",
       "104        URFU_ENGM_F2019      612259             ravg   0.92\n",
       "105        URFU_ENGM_F2019      753407             ravg   0.90\n",
       "106        URFU_ENGM_F2019       12479             ravg   0.75\n",
       "107        URFU_ENGM_F2019      330129             ravg   0.04\n",
       "108        URFU_ENGM_F2019      804278             ravg   0.26\n",
       "109        URFU_ENGM_F2019      605780             ravg   0.31"
      ]
     },
     "execution_count": 11,
     "metadata": {},
     "output_type": "execute_result"
    }
   ],
   "source": [
    "# Можем задать индекс своими руками на свое усмотрение, например 100, 101, ...\n",
    "db_tab_tmp.index = [i for i in range(100,100+N_STUDENTS)]\n",
    "db_tab_tmp.index.name = 'our_index'    # Название индексу тоже можем дать свое\n",
    "db_tab_tmp"
   ]
  },
  {
   "cell_type": "markdown",
   "metadata": {},
   "source": [
    "**Доступ к элементам DataFrame**"
   ]
  },
  {
   "cell_type": "code",
   "execution_count": 12,
   "metadata": {},
   "outputs": [
    {
     "data": {
      "text/plain": [
       "course_id           URFU_ENGM_F2019\n",
       "student_id                   514764\n",
       "check_point_name               ravg\n",
       "grade                          0.28\n",
       "Name: 101, dtype: object"
      ]
     },
     "execution_count": 12,
     "metadata": {},
     "output_type": "execute_result"
    }
   ],
   "source": [
    "# доступ к строке целиком по имени индекса\n",
    "db_tab_tmp.loc[101]"
   ]
  },
  {
   "cell_type": "code",
   "execution_count": 13,
   "metadata": {},
   "outputs": [
    {
     "data": {
      "text/plain": [
       "course_id           URFU_ENGM_F2019\n",
       "student_id                   514764\n",
       "check_point_name               ravg\n",
       "grade                          0.28\n",
       "Name: 101, dtype: object"
      ]
     },
     "execution_count": 13,
     "metadata": {},
     "output_type": "execute_result"
    }
   ],
   "source": [
    "# доступ к строке целиком по номеру индекса\n",
    "db_tab_tmp.iloc[1]"
   ]
  },
  {
   "cell_type": "code",
   "execution_count": 14,
   "metadata": {},
   "outputs": [
    {
     "data": {
      "text/html": [
       "<div>\n",
       "<style scoped>\n",
       "    .dataframe tbody tr th:only-of-type {\n",
       "        vertical-align: middle;\n",
       "    }\n",
       "\n",
       "    .dataframe tbody tr th {\n",
       "        vertical-align: top;\n",
       "    }\n",
       "\n",
       "    .dataframe thead th {\n",
       "        text-align: right;\n",
       "    }\n",
       "</style>\n",
       "<table border=\"1\" class=\"dataframe\">\n",
       "  <thead>\n",
       "    <tr style=\"text-align: right;\">\n",
       "      <th></th>\n",
       "      <th>course_id</th>\n",
       "      <th>student_id</th>\n",
       "      <th>check_point_name</th>\n",
       "      <th>grade</th>\n",
       "    </tr>\n",
       "    <tr>\n",
       "      <th>our_index</th>\n",
       "      <th></th>\n",
       "      <th></th>\n",
       "      <th></th>\n",
       "      <th></th>\n",
       "    </tr>\n",
       "  </thead>\n",
       "  <tbody>\n",
       "    <tr>\n",
       "      <th>105</th>\n",
       "      <td>URFU_ENGM_F2019</td>\n",
       "      <td>753407</td>\n",
       "      <td>ravg</td>\n",
       "      <td>0.90</td>\n",
       "    </tr>\n",
       "    <tr>\n",
       "      <th>106</th>\n",
       "      <td>URFU_ENGM_F2019</td>\n",
       "      <td>12479</td>\n",
       "      <td>ravg</td>\n",
       "      <td>0.75</td>\n",
       "    </tr>\n",
       "  </tbody>\n",
       "</table>\n",
       "</div>"
      ],
      "text/plain": [
       "                 course_id  student_id check_point_name  grade\n",
       "our_index                                                     \n",
       "105        URFU_ENGM_F2019      753407             ravg   0.90\n",
       "106        URFU_ENGM_F2019       12479             ravg   0.75"
      ]
     },
     "execution_count": 14,
     "metadata": {},
     "output_type": "execute_result"
    }
   ],
   "source": [
    "# срезы (slices) по индексу тоже работают\n",
    "db_tab_tmp.iloc[5:7]"
   ]
  },
  {
   "cell_type": "code",
   "execution_count": 15,
   "metadata": {},
   "outputs": [
    {
     "data": {
      "text/plain": [
       "0.28"
      ]
     },
     "execution_count": 15,
     "metadata": {},
     "output_type": "execute_result"
    }
   ],
   "source": [
    "# доступ к конкретному элементу таблицы по имени индекса и имени колонки\n",
    "db_tab_tmp.loc[101]['grade']"
   ]
  },
  {
   "cell_type": "markdown",
   "metadata": {},
   "source": [
    "**Фильтрация элементов DataFrame**"
   ]
  },
  {
   "cell_type": "code",
   "execution_count": 16,
   "metadata": {},
   "outputs": [
    {
     "data": {
      "text/html": [
       "<div>\n",
       "<style scoped>\n",
       "    .dataframe tbody tr th:only-of-type {\n",
       "        vertical-align: middle;\n",
       "    }\n",
       "\n",
       "    .dataframe tbody tr th {\n",
       "        vertical-align: top;\n",
       "    }\n",
       "\n",
       "    .dataframe thead th {\n",
       "        text-align: right;\n",
       "    }\n",
       "</style>\n",
       "<table border=\"1\" class=\"dataframe\">\n",
       "  <thead>\n",
       "    <tr style=\"text-align: right;\">\n",
       "      <th></th>\n",
       "      <th>course_id</th>\n",
       "      <th>student_id</th>\n",
       "      <th>check_point_name</th>\n",
       "      <th>grade</th>\n",
       "    </tr>\n",
       "    <tr>\n",
       "      <th>our_index</th>\n",
       "      <th></th>\n",
       "      <th></th>\n",
       "      <th></th>\n",
       "      <th></th>\n",
       "    </tr>\n",
       "  </thead>\n",
       "  <tbody>\n",
       "    <tr>\n",
       "      <th>100</th>\n",
       "      <td>URFU_ENGM_F2019</td>\n",
       "      <td>596729</td>\n",
       "      <td>ravg</td>\n",
       "      <td>0.49</td>\n",
       "    </tr>\n",
       "    <tr>\n",
       "      <th>104</th>\n",
       "      <td>URFU_ENGM_F2019</td>\n",
       "      <td>612259</td>\n",
       "      <td>ravg</td>\n",
       "      <td>0.92</td>\n",
       "    </tr>\n",
       "    <tr>\n",
       "      <th>105</th>\n",
       "      <td>URFU_ENGM_F2019</td>\n",
       "      <td>753407</td>\n",
       "      <td>ravg</td>\n",
       "      <td>0.90</td>\n",
       "    </tr>\n",
       "    <tr>\n",
       "      <th>106</th>\n",
       "      <td>URFU_ENGM_F2019</td>\n",
       "      <td>12479</td>\n",
       "      <td>ravg</td>\n",
       "      <td>0.75</td>\n",
       "    </tr>\n",
       "  </tbody>\n",
       "</table>\n",
       "</div>"
      ],
      "text/plain": [
       "                 course_id  student_id check_point_name  grade\n",
       "our_index                                                     \n",
       "100        URFU_ENGM_F2019      596729             ravg   0.49\n",
       "104        URFU_ENGM_F2019      612259             ravg   0.92\n",
       "105        URFU_ENGM_F2019      753407             ravg   0.90\n",
       "106        URFU_ENGM_F2019       12479             ravg   0.75"
      ]
     },
     "execution_count": 16,
     "metadata": {},
     "output_type": "execute_result"
    }
   ],
   "source": [
    "# по значению элементов одного из столбцов (можно использовать >, <, ==, !=, >=, <=)\n",
    "db_tab_tmp[db_tab_tmp.grade>=0.4]"
   ]
  },
  {
   "cell_type": "code",
   "execution_count": 17,
   "metadata": {},
   "outputs": [
    {
     "data": {
      "text/html": [
       "<div>\n",
       "<style scoped>\n",
       "    .dataframe tbody tr th:only-of-type {\n",
       "        vertical-align: middle;\n",
       "    }\n",
       "\n",
       "    .dataframe tbody tr th {\n",
       "        vertical-align: top;\n",
       "    }\n",
       "\n",
       "    .dataframe thead th {\n",
       "        text-align: right;\n",
       "    }\n",
       "</style>\n",
       "<table border=\"1\" class=\"dataframe\">\n",
       "  <thead>\n",
       "    <tr style=\"text-align: right;\">\n",
       "      <th></th>\n",
       "      <th>course_id</th>\n",
       "      <th>student_id</th>\n",
       "      <th>check_point_name</th>\n",
       "      <th>grade</th>\n",
       "    </tr>\n",
       "    <tr>\n",
       "      <th>our_index</th>\n",
       "      <th></th>\n",
       "      <th></th>\n",
       "      <th></th>\n",
       "      <th></th>\n",
       "    </tr>\n",
       "  </thead>\n",
       "  <tbody>\n",
       "    <tr>\n",
       "      <th>100</th>\n",
       "      <td>URFU_ENGM_F2019</td>\n",
       "      <td>596729</td>\n",
       "      <td>ravg</td>\n",
       "      <td>0.49</td>\n",
       "    </tr>\n",
       "    <tr>\n",
       "      <th>106</th>\n",
       "      <td>URFU_ENGM_F2019</td>\n",
       "      <td>12479</td>\n",
       "      <td>ravg</td>\n",
       "      <td>0.75</td>\n",
       "    </tr>\n",
       "  </tbody>\n",
       "</table>\n",
       "</div>"
      ],
      "text/plain": [
       "                 course_id  student_id check_point_name  grade\n",
       "our_index                                                     \n",
       "100        URFU_ENGM_F2019      596729             ravg   0.49\n",
       "106        URFU_ENGM_F2019       12479             ravg   0.75"
      ]
     },
     "execution_count": 17,
     "metadata": {},
     "output_type": "execute_result"
    }
   ],
   "source": [
    "# по конкретным id студентов\n",
    "# для этого используем метод pandas.DataFrame.isin\n",
    "# https://pandas.pydata.org/docs/reference/api/pandas.DataFrame.isin.html\n",
    "need_students = [596729\t,12479]  # зададим руками список id интересующих нас студентов\n",
    "db_tab_tmp[db_tab_tmp['student_id'].isin(need_students)]"
   ]
  },
  {
   "cell_type": "code",
   "execution_count": 18,
   "metadata": {},
   "outputs": [
    {
     "data": {
      "text/plain": [
       "our_index\n",
       "100     True\n",
       "101    False\n",
       "102    False\n",
       "103    False\n",
       "104    False\n",
       "105    False\n",
       "106     True\n",
       "107    False\n",
       "108    False\n",
       "109    False\n",
       "Name: student_id, dtype: bool"
      ]
     },
     "execution_count": 18,
     "metadata": {},
     "output_type": "execute_result"
    }
   ],
   "source": [
    "# как работает то, что внутри []\n",
    "db_tab_tmp['student_id'].isin(need_students)"
   ]
  },
  {
   "cell_type": "markdown",
   "metadata": {},
   "source": [
    "**Объект DataFrame имеет очень широкий набор собственных методов для работы с данными**<br>\n",
    "**Подробности на сайте библиотеки:**"
   ]
  },
  {
   "cell_type": "markdown",
   "metadata": {},
   "source": [
    "https://pandas.pydata.org/pandas-docs/stable/reference/frame.html"
   ]
  },
  {
   "cell_type": "markdown",
   "metadata": {},
   "source": [
    "**Рассмотрим некоторые из методов**  \n",
    "**1) Добавление одного DataFrame к другому**"
   ]
  },
  {
   "cell_type": "code",
   "execution_count": 19,
   "metadata": {},
   "outputs": [
    {
     "data": {
      "text/html": [
       "<div>\n",
       "<style scoped>\n",
       "    .dataframe tbody tr th:only-of-type {\n",
       "        vertical-align: middle;\n",
       "    }\n",
       "\n",
       "    .dataframe tbody tr th {\n",
       "        vertical-align: top;\n",
       "    }\n",
       "\n",
       "    .dataframe thead th {\n",
       "        text-align: right;\n",
       "    }\n",
       "</style>\n",
       "<table border=\"1\" class=\"dataframe\">\n",
       "  <thead>\n",
       "    <tr style=\"text-align: right;\">\n",
       "      <th></th>\n",
       "      <th>course_id</th>\n",
       "      <th>student_id</th>\n",
       "      <th>check_point_name</th>\n",
       "      <th>grade</th>\n",
       "    </tr>\n",
       "    <tr>\n",
       "      <th>our_index</th>\n",
       "      <th></th>\n",
       "      <th></th>\n",
       "      <th></th>\n",
       "      <th></th>\n",
       "    </tr>\n",
       "  </thead>\n",
       "  <tbody>\n",
       "    <tr>\n",
       "      <th>104</th>\n",
       "      <td>URFU_ENGM_F2019</td>\n",
       "      <td>612259</td>\n",
       "      <td>tavg</td>\n",
       "      <td>0.92</td>\n",
       "    </tr>\n",
       "    <tr>\n",
       "      <th>105</th>\n",
       "      <td>URFU_ENGM_F2019</td>\n",
       "      <td>753407</td>\n",
       "      <td>tavg</td>\n",
       "      <td>0.90</td>\n",
       "    </tr>\n",
       "    <tr>\n",
       "      <th>106</th>\n",
       "      <td>URFU_ENGM_F2019</td>\n",
       "      <td>12479</td>\n",
       "      <td>tavg</td>\n",
       "      <td>0.75</td>\n",
       "    </tr>\n",
       "  </tbody>\n",
       "</table>\n",
       "</div>"
      ],
      "text/plain": [
       "                 course_id  student_id check_point_name  grade\n",
       "our_index                                                     \n",
       "104        URFU_ENGM_F2019      612259             tavg   0.92\n",
       "105        URFU_ENGM_F2019      753407             tavg   0.90\n",
       "106        URFU_ENGM_F2019       12479             tavg   0.75"
      ]
     },
     "execution_count": 19,
     "metadata": {},
     "output_type": "execute_result"
    }
   ],
   "source": [
    "# Сделаем еще один DataFrame, немного модифицируем и присоединим к исходному db_tab_tmp\n",
    "db_new = db_tab_tmp[db_tab_tmp.grade>0.7]  # получим фильтрацией из исходного df\n",
    "db_new.loc[:]['check_point_name'] = 'tavg'       # изменим значения в одной колонке\n",
    "db_new"
   ]
  },
  {
   "cell_type": "markdown",
   "metadata": {},
   "source": [
    "Используем метод pandas.DataFrame.append<br>\n",
    "https://pandas.pydata.org/docs/reference/api/pandas.DataFrame.append.html"
   ]
  },
  {
   "cell_type": "code",
   "execution_count": 20,
   "metadata": {},
   "outputs": [
    {
     "data": {
      "text/html": [
       "<div>\n",
       "<style scoped>\n",
       "    .dataframe tbody tr th:only-of-type {\n",
       "        vertical-align: middle;\n",
       "    }\n",
       "\n",
       "    .dataframe tbody tr th {\n",
       "        vertical-align: top;\n",
       "    }\n",
       "\n",
       "    .dataframe thead th {\n",
       "        text-align: right;\n",
       "    }\n",
       "</style>\n",
       "<table border=\"1\" class=\"dataframe\">\n",
       "  <thead>\n",
       "    <tr style=\"text-align: right;\">\n",
       "      <th></th>\n",
       "      <th>course_id</th>\n",
       "      <th>student_id</th>\n",
       "      <th>check_point_name</th>\n",
       "      <th>grade</th>\n",
       "    </tr>\n",
       "    <tr>\n",
       "      <th>our_index</th>\n",
       "      <th></th>\n",
       "      <th></th>\n",
       "      <th></th>\n",
       "      <th></th>\n",
       "    </tr>\n",
       "  </thead>\n",
       "  <tbody>\n",
       "    <tr>\n",
       "      <th>100</th>\n",
       "      <td>URFU_ENGM_F2019</td>\n",
       "      <td>596729</td>\n",
       "      <td>ravg</td>\n",
       "      <td>0.49</td>\n",
       "    </tr>\n",
       "    <tr>\n",
       "      <th>101</th>\n",
       "      <td>URFU_ENGM_F2019</td>\n",
       "      <td>514764</td>\n",
       "      <td>ravg</td>\n",
       "      <td>0.28</td>\n",
       "    </tr>\n",
       "    <tr>\n",
       "      <th>102</th>\n",
       "      <td>URFU_ENGM_F2019</td>\n",
       "      <td>429897</td>\n",
       "      <td>ravg</td>\n",
       "      <td>0.24</td>\n",
       "    </tr>\n",
       "    <tr>\n",
       "      <th>103</th>\n",
       "      <td>URFU_ENGM_F2019</td>\n",
       "      <td>686324</td>\n",
       "      <td>ravg</td>\n",
       "      <td>0.39</td>\n",
       "    </tr>\n",
       "    <tr>\n",
       "      <th>104</th>\n",
       "      <td>URFU_ENGM_F2019</td>\n",
       "      <td>612259</td>\n",
       "      <td>ravg</td>\n",
       "      <td>0.92</td>\n",
       "    </tr>\n",
       "    <tr>\n",
       "      <th>105</th>\n",
       "      <td>URFU_ENGM_F2019</td>\n",
       "      <td>753407</td>\n",
       "      <td>ravg</td>\n",
       "      <td>0.90</td>\n",
       "    </tr>\n",
       "    <tr>\n",
       "      <th>106</th>\n",
       "      <td>URFU_ENGM_F2019</td>\n",
       "      <td>12479</td>\n",
       "      <td>ravg</td>\n",
       "      <td>0.75</td>\n",
       "    </tr>\n",
       "    <tr>\n",
       "      <th>107</th>\n",
       "      <td>URFU_ENGM_F2019</td>\n",
       "      <td>330129</td>\n",
       "      <td>ravg</td>\n",
       "      <td>0.04</td>\n",
       "    </tr>\n",
       "    <tr>\n",
       "      <th>108</th>\n",
       "      <td>URFU_ENGM_F2019</td>\n",
       "      <td>804278</td>\n",
       "      <td>ravg</td>\n",
       "      <td>0.26</td>\n",
       "    </tr>\n",
       "    <tr>\n",
       "      <th>109</th>\n",
       "      <td>URFU_ENGM_F2019</td>\n",
       "      <td>605780</td>\n",
       "      <td>ravg</td>\n",
       "      <td>0.31</td>\n",
       "    </tr>\n",
       "    <tr>\n",
       "      <th>104</th>\n",
       "      <td>URFU_ENGM_F2019</td>\n",
       "      <td>612259</td>\n",
       "      <td>tavg</td>\n",
       "      <td>0.92</td>\n",
       "    </tr>\n",
       "    <tr>\n",
       "      <th>105</th>\n",
       "      <td>URFU_ENGM_F2019</td>\n",
       "      <td>753407</td>\n",
       "      <td>tavg</td>\n",
       "      <td>0.90</td>\n",
       "    </tr>\n",
       "    <tr>\n",
       "      <th>106</th>\n",
       "      <td>URFU_ENGM_F2019</td>\n",
       "      <td>12479</td>\n",
       "      <td>tavg</td>\n",
       "      <td>0.75</td>\n",
       "    </tr>\n",
       "  </tbody>\n",
       "</table>\n",
       "</div>"
      ],
      "text/plain": [
       "                 course_id  student_id check_point_name  grade\n",
       "our_index                                                     \n",
       "100        URFU_ENGM_F2019      596729             ravg   0.49\n",
       "101        URFU_ENGM_F2019      514764             ravg   0.28\n",
       "102        URFU_ENGM_F2019      429897             ravg   0.24\n",
       "103        URFU_ENGM_F2019      686324             ravg   0.39\n",
       "104        URFU_ENGM_F2019      612259             ravg   0.92\n",
       "105        URFU_ENGM_F2019      753407             ravg   0.90\n",
       "106        URFU_ENGM_F2019       12479             ravg   0.75\n",
       "107        URFU_ENGM_F2019      330129             ravg   0.04\n",
       "108        URFU_ENGM_F2019      804278             ravg   0.26\n",
       "109        URFU_ENGM_F2019      605780             ravg   0.31\n",
       "104        URFU_ENGM_F2019      612259             tavg   0.92\n",
       "105        URFU_ENGM_F2019      753407             tavg   0.90\n",
       "106        URFU_ENGM_F2019       12479             tavg   0.75"
      ]
     },
     "execution_count": 20,
     "metadata": {},
     "output_type": "execute_result"
    }
   ],
   "source": [
    "db_tab_tmp = db_tab_tmp.append(db_new)\n",
    "db_tab_tmp"
   ]
  },
  {
   "cell_type": "markdown",
   "metadata": {},
   "source": [
    "**2) Группировка по 'check_point_name' и подсчет средних оценок по контрольным точкам** "
   ]
  },
  {
   "cell_type": "markdown",
   "metadata": {},
   "source": [
    "Используем метод pandas.DataFrame.groupby<br>\n",
    "https://pandas.pydata.org/docs/reference/api/pandas.DataFrame.groupby.html"
   ]
  },
  {
   "cell_type": "code",
   "execution_count": 21,
   "metadata": {},
   "outputs": [
    {
     "data": {
      "text/html": [
       "<div>\n",
       "<style scoped>\n",
       "    .dataframe tbody tr th:only-of-type {\n",
       "        vertical-align: middle;\n",
       "    }\n",
       "\n",
       "    .dataframe tbody tr th {\n",
       "        vertical-align: top;\n",
       "    }\n",
       "\n",
       "    .dataframe thead th {\n",
       "        text-align: right;\n",
       "    }\n",
       "</style>\n",
       "<table border=\"1\" class=\"dataframe\">\n",
       "  <thead>\n",
       "    <tr style=\"text-align: right;\">\n",
       "      <th></th>\n",
       "      <th>student_id</th>\n",
       "      <th>grade</th>\n",
       "    </tr>\n",
       "    <tr>\n",
       "      <th>check_point_name</th>\n",
       "      <th></th>\n",
       "      <th></th>\n",
       "    </tr>\n",
       "  </thead>\n",
       "  <tbody>\n",
       "    <tr>\n",
       "      <th>ravg</th>\n",
       "      <td>534604.600000</td>\n",
       "      <td>0.458000</td>\n",
       "    </tr>\n",
       "    <tr>\n",
       "      <th>tavg</th>\n",
       "      <td>459381.666667</td>\n",
       "      <td>0.856667</td>\n",
       "    </tr>\n",
       "  </tbody>\n",
       "</table>\n",
       "</div>"
      ],
      "text/plain": [
       "                     student_id     grade\n",
       "check_point_name                         \n",
       "ravg              534604.600000  0.458000\n",
       "tavg              459381.666667  0.856667"
      ]
     },
     "execution_count": 21,
     "metadata": {},
     "output_type": "execute_result"
    }
   ],
   "source": [
    "db_tab_tmp.groupby(['check_point_name']).mean()"
   ]
  },
  {
   "cell_type": "markdown",
   "metadata": {},
   "source": [
    "Усреднение по student_id смысла не имеет, а вот со средними по grade можно работать"
   ]
  },
  {
   "cell_type": "code",
   "execution_count": 22,
   "metadata": {},
   "outputs": [
    {
     "data": {
      "text/plain": [
       "0.4579999999999999"
      ]
     },
     "execution_count": 22,
     "metadata": {},
     "output_type": "execute_result"
    }
   ],
   "source": [
    "# результат pandas.DataFrame.groupby - это тоже pandas.DataFrame и доступ к данным как к ячейке таблицы\n",
    "# выберем среднее по grade для контрольной точки с check_point_name = 'ravg'\n",
    "db_group = db_tab_tmp.groupby(['check_point_name']).mean()\n",
    "db_group['grade'].loc['ravg']"
   ]
  },
  {
   "cell_type": "code",
   "execution_count": 23,
   "metadata": {},
   "outputs": [
    {
     "data": {
      "text/plain": [
       "0.4579999999999999"
      ]
     },
     "execution_count": 23,
     "metadata": {},
     "output_type": "execute_result"
    }
   ],
   "source": [
    "# это же можно записать в одну строчку \n",
    "db_tab_tmp.groupby(['check_point_name']).mean()['grade'].loc['ravg']"
   ]
  },
  {
   "cell_type": "markdown",
   "metadata": {},
   "source": [
    "**3) Группировка по 'check_point_name' и подсчет количества оценок по контрольным точкам** "
   ]
  },
  {
   "cell_type": "markdown",
   "metadata": {},
   "source": [
    "Используем метод pandas.DataFrame.count<br>\n",
    "https://pandas.pydata.org/docs/reference/api/pandas.DataFrame.count.html"
   ]
  },
  {
   "cell_type": "code",
   "execution_count": 24,
   "metadata": {},
   "outputs": [
    {
     "data": {
      "text/html": [
       "<div>\n",
       "<style scoped>\n",
       "    .dataframe tbody tr th:only-of-type {\n",
       "        vertical-align: middle;\n",
       "    }\n",
       "\n",
       "    .dataframe tbody tr th {\n",
       "        vertical-align: top;\n",
       "    }\n",
       "\n",
       "    .dataframe thead th {\n",
       "        text-align: right;\n",
       "    }\n",
       "</style>\n",
       "<table border=\"1\" class=\"dataframe\">\n",
       "  <thead>\n",
       "    <tr style=\"text-align: right;\">\n",
       "      <th></th>\n",
       "      <th>course_id</th>\n",
       "      <th>student_id</th>\n",
       "      <th>grade</th>\n",
       "    </tr>\n",
       "    <tr>\n",
       "      <th>check_point_name</th>\n",
       "      <th></th>\n",
       "      <th></th>\n",
       "      <th></th>\n",
       "    </tr>\n",
       "  </thead>\n",
       "  <tbody>\n",
       "    <tr>\n",
       "      <th>ravg</th>\n",
       "      <td>10</td>\n",
       "      <td>10</td>\n",
       "      <td>10</td>\n",
       "    </tr>\n",
       "    <tr>\n",
       "      <th>tavg</th>\n",
       "      <td>3</td>\n",
       "      <td>3</td>\n",
       "      <td>3</td>\n",
       "    </tr>\n",
       "  </tbody>\n",
       "</table>\n",
       "</div>"
      ],
      "text/plain": [
       "                  course_id  student_id  grade\n",
       "check_point_name                              \n",
       "ravg                     10          10     10\n",
       "tavg                      3           3      3"
      ]
     },
     "execution_count": 24,
     "metadata": {},
     "output_type": "execute_result"
    }
   ],
   "source": [
    "db_tab_tmp.groupby(['check_point_name']).count()"
   ]
  },
  {
   "cell_type": "code",
   "execution_count": 25,
   "metadata": {},
   "outputs": [
    {
     "data": {
      "text/plain": [
       "3"
      ]
     },
     "execution_count": 25,
     "metadata": {},
     "output_type": "execute_result"
    }
   ],
   "source": [
    "# получение одного нужного значения \n",
    "db_tab_tmp.groupby(['check_point_name']).count()['grade'].loc['tavg']"
   ]
  },
  {
   "cell_type": "markdown",
   "metadata": {},
   "source": [
    "**4) Построим гистограмму распределения по grade** "
   ]
  },
  {
   "cell_type": "markdown",
   "metadata": {},
   "source": [
    "Используем метод pandas.DataFrame.hist<br>\n",
    "https://pandas.pydata.org/docs/reference/api/pandas.DataFrame.hist.html"
   ]
  },
  {
   "cell_type": "code",
   "execution_count": 26,
   "metadata": {},
   "outputs": [
    {
     "data": {
      "image/png": "[encoded data removed]",
      "text/plain": [
       "<Figure size 432x288 with 1 Axes>"
      ]
     },
     "metadata": {
      "needs_background": "light"
     },
     "output_type": "display_data"
    }
   ],
   "source": [
    "grade_hist = db_tab_tmp['grade'].hist(bins = 10)"
   ]
  },
  {
   "cell_type": "markdown",
   "metadata": {},
   "source": [
    "**5) Изменим тип всех элементов колонки 'grade'** "
   ]
  },
  {
   "cell_type": "markdown",
   "metadata": {},
   "source": [
    "Используем метод pandas.DataFrame.astype<br>\n",
    "https://pandas.pydata.org/docs/reference/api/pandas.DataFrame.astype.html"
   ]
  },
  {
   "cell_type": "code",
   "execution_count": 27,
   "metadata": {},
   "outputs": [],
   "source": [
    "db_tab_tmp['grade_str'] = db_tab_tmp['grade'].astype(str)    # преобразуем оценку в строку и сохраним в новой колонке"
   ]
  },
  {
   "cell_type": "code",
   "execution_count": 28,
   "metadata": {},
   "outputs": [
    {
     "name": "stdout",
     "output_type": "stream",
     "text": [
      "<class 'numpy.float64'> <class 'str'>\n"
     ]
    }
   ],
   "source": [
    "print(type(db_tab_tmp.iloc[0]['grade']),type(db_tab_tmp.iloc[0]['grade_str']))     # проверим типы данных"
   ]
  },
  {
   "cell_type": "markdown",
   "metadata": {},
   "source": [
    "**6) Подсчет суммы по колонке 'grade'** "
   ]
  },
  {
   "cell_type": "markdown",
   "metadata": {},
   "source": [
    "Используем метод pandas.DataFrame.sum<br>\n",
    "https://pandas.pydata.org/docs/reference/api/pandas.DataFrame.sum.html<br>\n",
    "Важно! метод и аналогичные ему (mean, std, count,...) игнорирует пропуски данных NaN"
   ]
  },
  {
   "cell_type": "code",
   "execution_count": 29,
   "metadata": {},
   "outputs": [
    {
     "data": {
      "text/plain": [
       "7.1499999999999995"
      ]
     },
     "execution_count": 29,
     "metadata": {},
     "output_type": "execute_result"
    }
   ],
   "source": [
    "db_tab_tmp['grade'].sum()"
   ]
  },
  {
   "cell_type": "code",
   "execution_count": 30,
   "metadata": {},
   "outputs": [
    {
     "data": {
      "text/plain": [
       "0.5499999999999999"
      ]
     },
     "execution_count": 30,
     "metadata": {},
     "output_type": "execute_result"
    }
   ],
   "source": [
    "db_tab_tmp['grade'].mean()"
   ]
  },
  {
   "cell_type": "markdown",
   "metadata": {},
   "source": [
    "### Подведем итоги. На этом занятии мы:\n",
    "- Познакомились с библиотекой pandas и типами данных DataFrame и Series, а также с отдельными методами работы с данными."
   ]
  }
 ],
 "metadata": {
  "kernelspec": {
   "display_name": "Python 3",
   "language": "python",
   "name": "python3"
  },
  "language_info": {
   "codemirror_mode": {
    "name": "ipython",
    "version": 3
   },
   "file_extension": ".py",
   "mimetype": "text/x-python",
   "name": "python",
   "nbconvert_exporter": "python",
   "pygments_lexer": "ipython3",
   "version": "3.8.8"
  }
 },
 "nbformat": 4,
 "nbformat_minor": 2
}
