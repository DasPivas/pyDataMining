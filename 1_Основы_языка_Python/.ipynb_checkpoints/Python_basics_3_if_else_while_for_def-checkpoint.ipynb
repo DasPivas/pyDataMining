{
 "cells": [
  {
   "cell_type": "markdown",
   "metadata": {},
   "source": [
    "## 1. Основы языка Python"
   ]
  },
  {
   "cell_type": "markdown",
   "metadata": {},
   "source": [
    "## Часть 3. Ветвление, циклы, функции, библиотеки"
   ]
  },
  {
   "cell_type": "markdown",
   "metadata": {},
   "source": [
    "## Александр Владимирович Толмачев | axtolm@gmail.com"
   ]
  },
  {
   "cell_type": "markdown",
   "metadata": {},
   "source": [
    "### 1. Условный оператор if-elif-else, if-else, if\n",
    "Дает возможность **ветвления** хода выполнения программы, что крайне важно в парадигме структурного программирования."
   ]
  },
  {
   "cell_type": "markdown",
   "metadata": {},
   "source": [
    "**Синтаксис if-elif-else**  \n",
    "```\n",
    "if логическое_выражение_1:  \n",
    "    блок_инструкций_1  \n",
    "elif логическое_выражение_2:  \n",
    "    блок_инструкций_2  \n",
    "elif логическое_выражение_3:  \n",
    "    блок_инструкций_3  \n",
    "else:  \n",
    "    блок_инструкций_4  \n",
    "```"
   ]
  },
  {
   "cell_type": "code",
   "execution_count": 1,
   "metadata": {},
   "outputs": [
    {
     "name": "stdout",
     "output_type": "stream",
     "text": [
      "block elif #1 blue\n"
     ]
    }
   ],
   "source": [
    "color = 'blue'\n",
    "if color == 'red':\n",
    "    print('block if', color)\n",
    "elif color == 'blue':\n",
    "    print('block elif #1', color)\n",
    "elif color == 'blue':\n",
    "    print('block elif #2', color)\n",
    "else:\n",
    "    print('block else - other color', color)"
   ]
  },
  {
   "cell_type": "markdown",
   "metadata": {},
   "source": [
    "**Синтаксис if-else**\n",
    "```\n",
    "if логическое_выражение_1:  \n",
    "    блок_инструкций_1   \n",
    "else:  \n",
    "    блок_инструкций_4  \n",
    "```"
   ]
  },
  {
   "cell_type": "code",
   "execution_count": 2,
   "metadata": {},
   "outputs": [
    {
     "name": "stdout",
     "output_type": "stream",
     "text": [
      "block else - other color blue\n"
     ]
    }
   ],
   "source": [
    "color = 'blue'\n",
    "if color == 'red':\n",
    "    print('block if', color)\n",
    "else:\n",
    "    print('block else - other color', color)"
   ]
  },
  {
   "cell_type": "markdown",
   "metadata": {},
   "source": [
    "Также конструкцию **if-else** можно записать в виде: **A = Y if X else Z**"
   ]
  },
  {
   "cell_type": "code",
   "execution_count": 3,
   "metadata": {},
   "outputs": [
    {
     "name": "stdout",
     "output_type": "stream",
     "text": [
      "True\n"
     ]
    }
   ],
   "source": [
    "U = 23.7\n",
    "A = True if U > 15 else False\n",
    "print(A)"
   ]
  },
  {
   "cell_type": "markdown",
   "metadata": {},
   "source": [
    "**Синтаксис if**\n",
    "```\n",
    "if логическое_выражение_1:  \n",
    "    блок_инструкций_1    \n",
    "```"
   ]
  },
  {
   "cell_type": "code",
   "execution_count": 4,
   "metadata": {},
   "outputs": [
    {
     "name": "stdout",
     "output_type": "stream",
     "text": [
      "blue white\n"
     ]
    }
   ],
   "source": [
    "color_1 = 'blue'\n",
    "color_2 = 'red'\n",
    "if color_1 == 'blue':\n",
    "    color_2 = 'white'\n",
    "print(color_1,color_2)"
   ]
  },
  {
   "cell_type": "markdown",
   "metadata": {},
   "source": [
    "#### Короткий экскурс в основы логики"
   ]
  },
  {
   "cell_type": "markdown",
   "metadata": {},
   "source": [
    "|Операция|Результат|Описание|\n",
    "|--------|---------|--------|\n",
    "|True and True | True|логическое И|  \n",
    "|True and False| False|  логическое И|  \n",
    "|True or True| True|логическое ИЛИ|    \n",
    "|True or False| True|логическое ИЛИ|  \n",
    "|True == False| False|равно|\n",
    "|False == False| True|равно|\n",
    "|True != False|True|не равно|\n",
    "|True != True|False|не равно|\n",
    "|not False|True|отрицание|\n",
    "|not True|False|отрицание|"
   ]
  },
  {
   "cell_type": "markdown",
   "metadata": {},
   "source": [
    "Для читабельности кода в сложных выражениях имеет смысл ставить скобки: (True & False) | True = True "
   ]
  },
  {
   "cell_type": "code",
   "execution_count": 5,
   "metadata": {},
   "outputs": [
    {
     "name": "stdout",
     "output_type": "stream",
     "text": [
      "True\n"
     ]
    }
   ],
   "source": [
    "AA = 28\n",
    "BB = 32\n",
    "CC = (AA+4==BB)and(AA<=BB)or(not(AA>BB))\n",
    "print(CC)"
   ]
  },
  {
   "cell_type": "markdown",
   "metadata": {},
   "source": [
    "### 2. Циклы while\n",
    "Оператор цикла **while** выполняет указанный набор инструкций до тех пор, пока условие цикла истинно.  \n",
    "Истинность условия определяется также как и в операторе if. Выполняемый набор инструкций - тело цикла."
   ]
  },
  {
   "cell_type": "markdown",
   "metadata": {},
   "source": [
    "Синтаксис оператора **while**:  \n",
    "```\n",
    "while логическое_выражение:\n",
    "    инструкция_1\n",
    "    инструкция_2\n",
    "    ...\n",
    "    инструкция_n\n",
    "```"
   ]
  },
  {
   "cell_type": "code",
   "execution_count": 6,
   "metadata": {},
   "outputs": [
    {
     "name": "stdout",
     "output_type": "stream",
     "text": [
      "1\n",
      "2\n",
      "3\n",
      "4\n"
     ]
    }
   ],
   "source": [
    "v = 1\n",
    "while v <= 4:\n",
    "   print(v)\n",
    "   v = v + 1"
   ]
  },
  {
   "cell_type": "markdown",
   "metadata": {},
   "source": [
    "#### Операторы **break** и **continue** в циклах **while**   \n",
    "Оператор **break** предназначен для досрочного прерывания работы цикла **while**:"
   ]
  },
  {
   "cell_type": "code",
   "execution_count": 7,
   "metadata": {},
   "outputs": [
    {
     "name": "stdout",
     "output_type": "stream",
     "text": [
      "1\n",
      "2\n",
      "3\n",
      "4\n"
     ]
    }
   ],
   "source": [
    "v = 1\n",
    "while v >= 0:\n",
    "    if v == 5:  \n",
    "        break   # без этого получили бы бесконечный цикл\n",
    "    print(v)   \n",
    "    v = v + 1    "
   ]
  },
  {
   "cell_type": "markdown",
   "metadata": {},
   "source": [
    "Оператор **continue** запускает цикл **while** сначала, при этом код после данного оператора не выполняется."
   ]
  },
  {
   "cell_type": "code",
   "execution_count": 8,
   "metadata": {},
   "outputs": [
    {
     "name": "stdout",
     "output_type": "stream",
     "text": [
      "-1\n",
      "0\n",
      "1\n",
      "2\n"
     ]
    }
   ],
   "source": [
    "v = -2\n",
    "while v < 8:\n",
    "    v = v + 1\n",
    "    if v >= 3:\n",
    "        continue\n",
    "    print(v)"
   ]
  },
  {
   "cell_type": "markdown",
   "metadata": {},
   "source": [
    "### 3. Циклы for\n",
    "Оператор **for** выполняет тело цикла заданное количество раз."
   ]
  },
  {
   "cell_type": "markdown",
   "metadata": {},
   "source": [
    "Синтаксис оператора **for**:  \n",
    "```\n",
    "for i in список_возможных_значений_i:\n",
    "    инструкция_1\n",
    "    инструкция_2\n",
    "    ...\n",
    "    инструкция_n\n",
    "```\n",
    "i - переменная цикла, которая по очереди принимает значения из **список_возможных_значений_i**"
   ]
  },
  {
   "cell_type": "code",
   "execution_count": 9,
   "metadata": {},
   "outputs": [
    {
     "name": "stdout",
     "output_type": "stream",
     "text": [
      "0\n",
      "1\n",
      "2\n",
      "3\n"
     ]
    }
   ],
   "source": [
    "for i in range(4):\n",
    "    print(i)"
   ]
  },
  {
   "cell_type": "code",
   "execution_count": 10,
   "metadata": {},
   "outputs": [
    {
     "name": "stdout",
     "output_type": "stream",
     "text": [
      "range(0, 4) <class 'range'> [0, 1, 2, 3] <class 'list'>\n"
     ]
    }
   ],
   "source": [
    "# как рабоает range()\n",
    "s = range(4)  \n",
    "s1 = list(s)\n",
    "print(s,type(s),s1,type(s1))"
   ]
  },
  {
   "cell_type": "markdown",
   "metadata": {},
   "source": [
    "**Список_возможных_значений_i** может быть задан в явном виде как переменная типа **list**"
   ]
  },
  {
   "cell_type": "code",
   "execution_count": 11,
   "metadata": {},
   "outputs": [
    {
     "name": "stdout",
     "output_type": "stream",
     "text": [
      "1\n",
      "12\n",
      "23\n",
      "14\n"
     ]
    }
   ],
   "source": [
    "s2 = [1,12,23,14]\n",
    "for i in s2:\n",
    "    print(i)"
   ]
  },
  {
   "cell_type": "markdown",
   "metadata": {},
   "source": [
    "В цикле **for** также применимы операторы **break** и **continue**  "
   ]
  },
  {
   "cell_type": "markdown",
   "metadata": {},
   "source": [
    "### 4. Пользовательские функции\n",
    "Функция - именованный фрагмент кода, к которому можно обратиться из другого места программы.  \n",
    "Функция может принимать данные на входе (аргументы функции) и возвращать данные на выходе."
   ]
  },
  {
   "cell_type": "markdown",
   "metadata": {},
   "source": [
    "Синтаксис определения функции:\n",
    "```\n",
    "def имя_функции (аргумент_1, аргумент_2, ...):\n",
    "    инструкция_1\n",
    "    инструкция_2\n",
    "    ...\n",
    "    инструкция_n\n",
    "    return (возвращаемое_значение)\n",
    "```"
   ]
  },
  {
   "cell_type": "code",
   "execution_count": 12,
   "metadata": {},
   "outputs": [
    {
     "name": "stdout",
     "output_type": "stream",
     "text": [
      "27\n",
      "234\n"
     ]
    }
   ],
   "source": [
    "def add_num (a,b):\n",
    "    res = a + b\n",
    "    return res \n",
    "print(add_num(23,4))\n",
    "print(add_num('23','4'))"
   ]
  },
  {
   "cell_type": "markdown",
   "metadata": {},
   "source": [
    "#### Глобальные и локальные переменные в функциях\n"
   ]
  },
  {
   "cell_type": "code",
   "execution_count": 13,
   "metadata": {},
   "outputs": [
    {
     "name": "stdout",
     "output_type": "stream",
     "text": [
      "[2, 4, 6, 8, 10, 12] 2 [2, 4, 6, 8, 10, 12] 4\n"
     ]
    }
   ],
   "source": [
    "def our_test(a,b):    # умножение вектора \"a\" на число \"b\"\n",
    "    for i in range(len(a)):\n",
    "        a[i] = a[i]*b\n",
    "    b = b*2           # перед выходом из функции изменим \"b\"    \n",
    "    return a, b\n",
    "    \n",
    "a = [1,2,3,4,5,6]\n",
    "b = 2\n",
    "c, d = our_test(a,b)\n",
    "print(a,b,c,d)    # анализируем результат - что изменилось, а что нет"
   ]
  },
  {
   "cell_type": "markdown",
   "metadata": {},
   "source": [
    "### 5. Подключение и использование библиотек\n",
    "Свои или сторонние наработки в виде упакованных в модуль (библиотеку) классов, функций, констант могут быть загружены и использованы в своей программе при необходимости.  \n",
    "Как загрузить (импортировать) модуль в свою программу:  \n",
    "**import имя_модуля**   \n",
    "Вызов функции:  \n",
    "**имя_модуля.имя_функции([параметры])**"
   ]
  },
  {
   "cell_type": "markdown",
   "metadata": {},
   "source": [
    "```python\n",
    "import math           # импорт модуля math с математическими функциями\n",
    "import math, datetime # импорт нескольких модулей можно через запятую, но по PEP 8 правильнее каждый по отдельности\n",
    "import math as m      # импорт модуля под псевдонимом\n",
    "from math import sin  # импорт конкретной функции из модуля\n",
    "from math import sin as ss  # импорт функции из модуля под псеводнимом\n",
    "from math import *    # импорт всех функций из модуля\n",
    "```"
   ]
  },
  {
   "cell_type": "code",
   "execution_count": 14,
   "metadata": {},
   "outputs": [
    {
     "name": "stdout",
     "output_type": "stream",
     "text": [
      "3.141592653589793\n",
      "0.7071067811865476\n"
     ]
    }
   ],
   "source": [
    "import math as m\n",
    "print(m.pi)\n",
    "print(m.sin(m.pi/4))"
   ]
  },
  {
   "cell_type": "code",
   "execution_count": 15,
   "metadata": {},
   "outputs": [
    {
     "name": "stdout",
     "output_type": "stream",
     "text": [
      "3.141592653589793\n",
      "0.7071067811865476\n"
     ]
    }
   ],
   "source": [
    "from math import sin\n",
    "from math import pi as pp\n",
    "print(pp)\n",
    "print(sin(pp/4))"
   ]
  },
  {
   "cell_type": "markdown",
   "metadata": {},
   "source": [
    "**На практике**\n",
    "Использование подключаемого модуля может быть полезно, если делаем отчет с кодом и результатами выполнения в Jupiter Notebook, но не хотим показывать весь вспомогательный код, выполняющий расчеты (например, руководству код обычно не интересен).  \n",
    "В этом случае весь вспомогательный код оформляем в виде функций.  \n",
    "Функции выносим в файл с кодом Python - он и будет подключаемым модулем (имя_модуля.py). Его редактировать и отлаживать можно в Spyder.  \n",
    "Модуль подключаем в Jupiter Notebook путем **import имя_модуля**.  \n",
    "Вызываем нужную функцию в Jupiter Notebook **имя_модуля.имя_функции()**.  \n",
    "Таким образом размер (в строках) документа в Jupiter Notebook можно очень сильно сократить."
   ]
  },
  {
   "cell_type": "code",
   "execution_count": null,
   "metadata": {},
   "outputs": [],
   "source": []
  }
 ],
 "metadata": {
  "kernelspec": {
   "display_name": "Python 3",
   "language": "python",
   "name": "python3"
  },
  "language_info": {
   "codemirror_mode": {
    "name": "ipython",
    "version": 3
   },
   "file_extension": ".py",
   "mimetype": "text/x-python",
   "name": "python",
   "nbconvert_exporter": "python",
   "pygments_lexer": "ipython3",
   "version": "3.8.8"
  }
 },
 "nbformat": 4,
 "nbformat_minor": 2
}
