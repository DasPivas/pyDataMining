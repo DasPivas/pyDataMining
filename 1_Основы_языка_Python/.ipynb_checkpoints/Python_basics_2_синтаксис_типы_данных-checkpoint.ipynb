{
 "cells": [
  {
   "cell_type": "markdown",
   "metadata": {},
   "source": [
    "## 1. Основы языка Python"
   ]
  },
  {
   "cell_type": "markdown",
   "metadata": {},
   "source": [
    "## Часть 2. Синтаксис и типы данных"
   ]
  },
  {
   "cell_type": "markdown",
   "metadata": {},
   "source": [
    "## Александр Владимирович Толмачев | axtolm@gmail.com"
   ]
  },
  {
   "cell_type": "markdown",
   "metadata": {},
   "source": [
    "### 1. Язык Python — интерпретатор"
   ]
  },
  {
   "cell_type": "markdown",
   "metadata": {},
   "source": [
    "**Интерпретация** — анализ, обработка и выполнение исходного кода программы **построчно**.<br>\n",
    "Есть еще компилируемые языки, например, C#.    \n",
    "**Компиляция** — процесс, когда **весь** исходный код программы перед запуском анализируется и транслируется в машинный код без его выполнения.  "
   ]
  },
  {
   "cell_type": "markdown",
   "metadata": {},
   "source": [
    "Python позволяет реализовать разные парадигмы программирования — структурное, объектно-ориентированное.   \n",
    "Для работы с данными будем использовать парадигму **структурного программирования**."
   ]
  },
  {
   "cell_type": "markdown",
   "metadata": {},
   "source": [
    "### 2. Синтаксис Python\n",
    "1. Конец строки — конец инструкции.\n",
    "1. Вложенные инструкции всегда пишутся после основной и отделяются от неё двоеточием.\n",
    "1. Вложенные инструкции отделяются от основных отступами."
   ]
  },
  {
   "cell_type": "code",
   "execution_count": 1,
   "metadata": {},
   "outputs": [
    {
     "name": "stdout",
     "output_type": "stream",
     "text": [
      "start\n",
      "i= 1\n",
      "i= 2\n",
      "i= 3\n",
      "the end, m = 4\n"
     ]
    }
   ],
   "source": [
    "m = 4                    # присвоение переменной численного значения\n",
    "print(\"start\")           # печать на экран\n",
    "for i in range(1,m):     # оператор цикла, range(0,m) = 0,1,2,...,m-1\n",
    "    print(\"i=\",i)\n",
    "print(\"the end,\" + \" m = \" + str(m))"
   ]
  },
  {
   "cell_type": "markdown",
   "metadata": {},
   "source": [
    "**Исключения**  \n",
    "Если очень нужно сделать **несколько инструкций в одной строке**, то между ними надо ставить точку с запятой.  \n",
    "Такой формой записи лучше не увлекаться из-за ухудшения читабельности кода:"
   ]
  },
  {
   "cell_type": "code",
   "execution_count": 2,
   "metadata": {},
   "outputs": [
    {
     "name": "stdout",
     "output_type": "stream",
     "text": [
      "8\n"
     ]
    }
   ],
   "source": [
    "k1 = 2; k2 = 4; print(k1*k2)"
   ]
  },
  {
   "cell_type": "markdown",
   "metadata": {},
   "source": [
    "Можно записать **одну инструкцию в нескольких строках**. Для этого достаточно ее заключить в пару круглых, квадратных или фигурных скобок:"
   ]
  },
  {
   "cell_type": "code",
   "execution_count": 3,
   "metadata": {},
   "outputs": [
    {
     "name": "stdout",
     "output_type": "stream",
     "text": [
      "OK!\n"
     ]
    }
   ],
   "source": [
    "v1 = 1; v2 = 2; v3 = 3; v4 = 4\n",
    "if (v1 ==1 and v2 == 2 \n",
    "        and v3 == 3 and v4 == 4):\n",
    "    print(\"OK!\")"
   ]
  },
  {
   "cell_type": "markdown",
   "metadata": {},
   "source": [
    "**Тело вложенной инструкции** может располагаться **в той же строке, что и тело основной**, если тело вложенной инструкции не содержит больше вложенностей:"
   ]
  },
  {
   "cell_type": "code",
   "execution_count": 4,
   "metadata": {},
   "outputs": [
    {
     "name": "stdout",
     "output_type": "stream",
     "text": [
      "2\n"
     ]
    }
   ],
   "source": [
    "y1 = 5; y2 = 3\n",
    "if y1 > y2: print(y1-y2)"
   ]
  },
  {
   "cell_type": "markdown",
   "metadata": {},
   "source": [
    "Есть руководство **PEP 8 - Style Guide for Python Code** о том, как писать код на языке Python.   \n",
    "Для чего оно? Код читается намного больше раз, чем пишется!</br>   "
   ]
  },
  {
   "cell_type": "markdown",
   "metadata": {},
   "source": [
    "О чем там речь - как оформлять **внешний вид кода**, как ставить **пробелы в выражениях и инструкциях**, как писать **комментарии**, каких придерживаться соглашений по **именованию** переменных."
   ]
  },
  {
   "cell_type": "markdown",
   "metadata": {},
   "source": [
    "Примеры рекомендаций PEP 8 в разделе **\"Внешний вид кода\"**\n",
    "1. **Отступы.** Используйте 4 пробела на каждый уровень отступа.   \n",
    "1. **Табуляция или пробелы?** Пробелы - предпочтительный метод отступов.\n",
    "1. **Максимальная длина строки.** Ограничьте длину строки максимум **79** символами. Для более длинных блоков текста с меньшими структурными ограничениями (строки документации или комментарии), длину строки следует ограничить **72** символами.\n",
    "1. **Пустые строки.** Используйте пустые строки в функциях, чтобы указать логические разделы.\n",
    "1. **Кодировка исходного файла.** Кодировка Python должна быть UTF-8.\n",
    "1. **Импорты.** Каждый импорт, как правило, должен быть на отдельной строке."
   ]
  },
  {
   "cell_type": "markdown",
   "metadata": {},
   "source": [
    "Ссылка https://www.python.org/dev/peps/pep-0008/   "
   ]
  },
  {
   "cell_type": "markdown",
   "metadata": {},
   "source": [
    "**Важно!** Python является регистрозависимым. То есть XY != xy"
   ]
  },
  {
   "cell_type": "markdown",
   "metadata": {},
   "source": [
    "### 3. Типизация в Python:  \n",
    "a) **неявная** (при объявлении переменной не обязательно указывать ее тип);  \n",
    "b) **динамическая** (тип переменной определяется во время выполнения программы);  \n",
    "c) **сильная** (нельзя выполнять операции с переменными разных типов, если не удается выполнить преобразование типов)."
   ]
  },
  {
   "cell_type": "markdown",
   "metadata": {},
   "source": [
    "### 4. Ограничение на имена переменных  \n",
    "Имя не должно совпадать с **ключевыми словами** интерпретатора Python. Список ключевых слов можно получить в программе - для этого нужно подключить package keyword и воспользоваться командой keyword.kwlist."
   ]
  },
  {
   "cell_type": "code",
   "execution_count": 5,
   "metadata": {},
   "outputs": [
    {
     "name": "stdout",
     "output_type": "stream",
     "text": [
      "Python keywords:  ['False', 'None', 'True', 'and', 'as', 'assert', 'async', 'await', 'break', 'class', 'continue', 'def', 'del', 'elif', 'else', 'except', 'finally', 'for', 'from', 'global', 'if', 'import', 'in', 'is', 'lambda', 'nonlocal', 'not', 'or', 'pass', 'raise', 'return', 'try', 'while', 'with', 'yield']\n"
     ]
    }
   ],
   "source": [
    "# так задается комментарий (с помощью символа \"#\")\n",
    "import keyword    # так подключается package\n",
    "print (\"Python keywords: \", keyword.kwlist)    # а так можно вывести данные на экран"
   ]
  },
  {
   "cell_type": "markdown",
   "metadata": {},
   "source": [
    "### 5. Основные встроенные типы данных  \n",
    "    5.1 Логические переменные - Boolean Type\n",
    "    5.2 Числовые переменные - Numeric Type (int, float, complex)\n",
    "    5.3 Cписки list\n",
    "    5.4 Кортежи tuple\n",
    "    5.5 Словари dict \n",
    "    5.6 Множества set\n",
    "    5.7 Строки str "
   ]
  },
  {
   "cell_type": "markdown",
   "metadata": {},
   "source": [
    "### 5.1. Логические переменные - Boolean Type  \n",
    "Могут принимать значения **True** (Истина) или **False** (Ложь).  \n",
    "Над ними можно выполнять логические операции типа **and**, **or**, **not**. "
   ]
  },
  {
   "cell_type": "code",
   "execution_count": 6,
   "metadata": {},
   "outputs": [
    {
     "name": "stdout",
     "output_type": "stream",
     "text": [
      "a = True, b = False, c = False, d = True, e = False, f = False, g = True\n"
     ]
    }
   ],
   "source": [
    "# объявление логических переменных a и b c присваиванием им значений True и False \n",
    "a = True    \n",
    "b = False\n",
    "# логические операции\n",
    "c = a and b    # логическое И (AND)\n",
    "d = a or b     # логическое ИЛИ (OR)\n",
    "e = not a      # отрицание НЕ (NOT)\n",
    "f = (a == b)     # логическое выражение a равно b\n",
    "g = a != b     # логиеское выражение a не равно b\n",
    "# вывод строки на экран с форматированием и заполнителями типа str (%s)\n",
    "print(\"a = %s, b = %s, c = %s, d = %s, e = %s, f = %s, g = %s\" % (a, b, c, d, e, f, g))"
   ]
  },
  {
   "cell_type": "markdown",
   "metadata": {},
   "source": [
    "### 5.2. Числовые переменные - Numeric Type  \n",
    "Могут быть **int** (целые числа), **float** (числа с плавающей точкой), **complex** (комплексные числа).<br>\n",
    "В курсе по анализу данных нам чаще всего будут нужны **int** и **float**.<br>\n",
    "Над **int** и **float** определены **элементарные арифметические операции**: "
   ]
  },
  {
   "cell_type": "markdown",
   "metadata": {},
   "source": [
    "|операция|символ|\n",
    "|--------|---|\n",
    "|сложение|+| \n",
    "|вычитание|-| \n",
    "|умножение|\\*| \n",
    "|деление|/|\n",
    "|целая часть от деления|//|\n",
    "|остаток от деления|%|\n",
    "|степень|\\*\\*| "
   ]
  },
  {
   "cell_type": "code",
   "execution_count": 7,
   "metadata": {},
   "outputs": [],
   "source": [
    "# определим два числа для дальнейших операций с ними\n",
    "x1 = 23       # int\n",
    "x2 = 4.2      # float"
   ]
  },
  {
   "cell_type": "code",
   "execution_count": 8,
   "metadata": {},
   "outputs": [
    {
     "name": "stdout",
     "output_type": "stream",
     "text": [
      "23 4.2 27.2\n",
      "<class 'int'> <class 'float'> <class 'float'>\n"
     ]
    }
   ],
   "source": [
    "x_sum = x1 + x2    # операция \"сложение\"\n",
    "print(x1, x2, x_sum)    # выведем на экран переменные и их типы \n",
    "print(type(x1), type(x2), type(x_sum))   # функция type() возвращает тип переменной"
   ]
  },
  {
   "cell_type": "code",
   "execution_count": 9,
   "metadata": {},
   "outputs": [
    {
     "name": "stdout",
     "output_type": "stream",
     "text": [
      "23 4.2 18.8\n",
      "<class 'int'> <class 'float'> <class 'float'>\n"
     ]
    }
   ],
   "source": [
    "x_diff = x1 - x2    # операция \"вычитание\"     \n",
    "print(x1, x2, x_diff)    # выведем на экран переменные и их типы \n",
    "print(type(x1), type(x2), type(x_diff))   # функция type() возвращает тип переменной"
   ]
  },
  {
   "cell_type": "code",
   "execution_count": 10,
   "metadata": {},
   "outputs": [
    {
     "name": "stdout",
     "output_type": "stream",
     "text": [
      "23 4.2 96.60000000000001\n",
      "<class 'int'> <class 'float'> <class 'float'>\n"
     ]
    }
   ],
   "source": [
    "x_mult = x1 * x2    # операция \"умножение\"\n",
    "print(x1, x2, x_mult)    # выведем на экран переменные и их типы \n",
    "print(type(x1), type(x2), type(x_mult))   # функция type() возвращает тип переменной"
   ]
  },
  {
   "cell_type": "code",
   "execution_count": 11,
   "metadata": {},
   "outputs": [
    {
     "name": "stdout",
     "output_type": "stream",
     "text": [
      "23 4.2 5.476190476190476\n",
      "<class 'int'> <class 'float'> <class 'float'>\n"
     ]
    }
   ],
   "source": [
    "x_div = x1 / x2    # операция \"деление\"\n",
    "print(x1, x2, x_div)    # выведем на экран переменные и их типы \n",
    "print(type(x1), type(x2), type(x_div))   # функция type() возвращает тип переменной"
   ]
  },
  {
   "cell_type": "code",
   "execution_count": 12,
   "metadata": {},
   "outputs": [
    {
     "name": "stdout",
     "output_type": "stream",
     "text": [
      "3 1.0\n",
      "<class 'int'> <class 'float'>\n"
     ]
    }
   ],
   "source": [
    "# операция \"целая часть от деления\"\n",
    "x3_1 = x1 // 7     # просто отбрасывается дробная часть и возвращается int\n",
    "x3_2 = x2 // 3     # правила округления здесь не работают\n",
    "print(x3_1, x3_2)   \n",
    "print(type(x3_1), type(x3_2))"
   ]
  },
  {
   "cell_type": "code",
   "execution_count": 13,
   "metadata": {},
   "outputs": [
    {
     "name": "stdout",
     "output_type": "stream",
     "text": [
      "0 0.20000000000000018 0.20000000000000018\n",
      "<class 'int'> <class 'float'> <class 'float'>\n"
     ]
    }
   ],
   "source": [
    "# операция \"остаток от деления\" - \"%\"\n",
    "x4_1 = x1 % 23    # по сути считается так: a % b = a - b*(a//b)\n",
    "x4_2 = x2 % 2     # внимание! x4_2 == x4_3\n",
    "x4_3 = x2 % 4\n",
    "print(x4_1, x4_2, x4_3)   \n",
    "print(type(x4_1), type(x4_2), type(x4_3))"
   ]
  },
  {
   "cell_type": "markdown",
   "metadata": {},
   "source": [
    "**Встроенные функции для работы с числами**   \n",
    "*int(х)* - преобразование к целому числу  \n",
    "*float(x)* - преобразование к числу с плавающей точкой  \n",
    "*abs(x)* - модуль числа x  \n",
    "*round(x\\[,n\\])* - округление х до n знаков после запятой (в Python 3 округление по банковским правилам, а не по арифметическим!!!)  \n"
   ]
  },
  {
   "cell_type": "code",
   "execution_count": 14,
   "metadata": {},
   "outputs": [
    {
     "name": "stdout",
     "output_type": "stream",
     "text": [
      "2 4\n",
      "2.4 2.2\n"
     ]
    }
   ],
   "source": [
    "print(round(2.5), round(3.5))\n",
    "print(round(2.35,1), round(2.25,1))"
   ]
  },
  {
   "cell_type": "markdown",
   "metadata": {},
   "source": [
    "Большинство часто используемых математических функций содержит package **math**, который входит в стандартную поставку Python.  \n",
    "Полное описание функций в составе math тут: <a> https://docs.python.org/3/library/math.html </a>. "
   ]
  },
  {
   "cell_type": "markdown",
   "metadata": {},
   "source": [
    "**Константы**  \n",
    "*math.pi* (число пи), *math.e* (число е)  \n",
    "**Тригонометрические функции**  \n",
    "*math.cos(x)*, *math.sin(x)*, *math.tan(x)*  \n",
    "*math.acos(x)*, *math.asin(x)*, *math.atan(x)*    \n",
    "**Степенные и логарифмические функции**  \n",
    "*math.exp(x)* - экспонента e\\*\\*x    \n",
    "*math.log2(x)* - логарифм по основанию 2  \n",
    "*math.log10(x)* - логарифм по основанию 10  \n",
    "*math.log(x\\[, base\\])* - логарифм по произвольному основанию (по умолчанию e)  \n",
    "*math.pow(x, y)* -  значение x в степени y    \n",
    "*math.sqrt(x)* - квадратный корень из x  \n",
    "**Округление чисел и другие операции**  \n",
    "*math.ceil(х)* - ближайшее целое число >= x  \n",
    "*math.floor(х)* - ближайшее целое число <= x  \n",
    "*math.fabs(x)* - абсолютное значение числа x  \n",
    "*math.factorial(x)* - факториал x  "
   ]
  },
  {
   "cell_type": "code",
   "execution_count": 15,
   "metadata": {},
   "outputs": [
    {
     "name": "stdout",
     "output_type": "stream",
     "text": [
      "6 5\n",
      "2.718281828459045 3.141592653589793\n"
     ]
    }
   ],
   "source": [
    "import math as m    # сначала package надо импортировать (здесь импорт под псевдонимом \"m\")\n",
    "g = 5.1\n",
    "g1 = m.ceil(g)    # ближайшее целое число >= g\n",
    "g2 = m.floor(g)    # ближайшее целое число <= g\n",
    "print(g1,g2)    # выведем на экран\n",
    "print(m.e, m.pi)    # также в math есть константы типа e, пи"
   ]
  },
  {
   "cell_type": "markdown",
   "metadata": {},
   "source": [
    "**Complex** (комплексные числа) можно создать двумя путями: использовать функцию x = complex(a,b) или записать в явном виде x = a + bj. Можно извлечь действительную и мнимую части x.real, x.imag. "
   ]
  },
  {
   "cell_type": "code",
   "execution_count": 16,
   "metadata": {},
   "outputs": [
    {
     "name": "stdout",
     "output_type": "stream",
     "text": [
      "(5+4j) (6+5j)\n",
      "<class 'complex'> <class 'complex'>\n",
      "5.0 4.0\n"
     ]
    }
   ],
   "source": [
    "k = complex(5,4)\n",
    "l = 6 + 5j\n",
    "print(k,l)\n",
    "print(type(k),type(l))\n",
    "print(k.real, k.imag)"
   ]
  },
  {
   "cell_type": "markdown",
   "metadata": {},
   "source": [
    "Числа **complex** можно складывать, вычитать, умножать, делить и возводить в степень.   \n",
    "В курсе для аналитиков мы не будем детально рассматривать комплексные числа."
   ]
  },
  {
   "cell_type": "markdown",
   "metadata": {},
   "source": [
    "### 5.3.Список list  \n",
    "Ссылки:     \n",
    "https://docs.python.org/3/tutorial/datastructures.html#more-on-lists     \n",
    "https://docs.python.org/3/library/stdtypes.html#sequence-types-list-tuple-range     \n",
    "Тип данных для хранения объектов различных типов.  \n",
    "Список в чем-то похож на массивы из других языков.  \n",
    "Размер списка динамичен. Тип данных изменяемый.  \n",
    "**Как создать (объявить) список:**"
   ]
  },
  {
   "cell_type": "code",
   "execution_count": 17,
   "metadata": {
    "scrolled": true
   },
   "outputs": [
    {
     "name": "stdout",
     "output_type": "stream",
     "text": [
      "[] [1, 2, 3, 4, 5] [1, 2, 'a', 'd'] [0, 1, 4, 9, 16]\n",
      "<class 'list'>\n"
     ]
    }
   ],
   "source": [
    "l1 = []                           # пустой список\n",
    "l2 = [1,2,3,4,5]                  # явное объявление списка\n",
    "l3 = [1,2,'a','d']                # список из данных разных типов\n",
    "l4 = [i**2 for i in range(0,5)]   # с помощью генератора списка (!!!)\n",
    "print(l1,l2,l3,l4)\n",
    "print(type(l3))"
   ]
  },
  {
   "cell_type": "markdown",
   "metadata": {},
   "source": [
    "**Обращение к элементам списка:**"
   ]
  },
  {
   "cell_type": "code",
   "execution_count": 18,
   "metadata": {},
   "outputs": [
    {
     "name": "stdout",
     "output_type": "stream",
     "text": [
      "1\n",
      "5\n",
      "5\n",
      "1\n"
     ]
    }
   ],
   "source": [
    "print(l2[0])     # по индексу, при этом нумерация индекса начинается с 0\n",
    "print(l2[4])\n",
    "print(l2[-1])    # индекс может быть отрицательным, тогда обращение идет с конца\n",
    "print(l2[-5])"
   ]
  },
  {
   "cell_type": "markdown",
   "metadata": {},
   "source": [
    "**Есть еще срезы (slices)**, которые позволяют выбрать часть списка по индексам.  \n",
    "Так **list[start:stop:step]** берёт срез от индекса start до индекса stop, не включая его, с шагом step.  \n",
    "По умолчанию start = 0, stop = длине объекта, STEP = 1. Какие-то (возможно все) параметры могут быть опущены."
   ]
  },
  {
   "cell_type": "code",
   "execution_count": 19,
   "metadata": {},
   "outputs": [
    {
     "name": "stdout",
     "output_type": "stream",
     "text": [
      "[1, 3, 5]\n",
      "[1, 2]\n",
      "[5, 6, 7, 8, 9]\n"
     ]
    }
   ],
   "source": [
    "l5 = [1,2,3,4,5,6,7,8,9]\n",
    "print(l5[0:6:2])\n",
    "print(l5[0:2])\n",
    "print(l5[4:])"
   ]
  },
  {
   "cell_type": "markdown",
   "metadata": {},
   "source": [
    "**Как числа и списки хранятся в памяти:**"
   ]
  },
  {
   "cell_type": "code",
   "execution_count": 20,
   "metadata": {},
   "outputs": [
    {
     "name": "stdout",
     "output_type": "stream",
     "text": [
      "25 5\n"
     ]
    }
   ],
   "source": [
    "y1 = 5\n",
    "y2 = y1\n",
    "y1 = y1**2\n",
    "print(y1,y2)"
   ]
  },
  {
   "cell_type": "code",
   "execution_count": 21,
   "metadata": {},
   "outputs": [
    {
     "name": "stdout",
     "output_type": "stream",
     "text": [
      "[25, 2, 3] [25, 2, 3] [1, 2, 3]\n"
     ]
    }
   ],
   "source": [
    "z1 = [1,2,3]    # создаем список\n",
    "z2 = z1         \n",
    "z3 = z1.copy()\n",
    "z1[0] = 25\n",
    "print(z1,z2,z3)"
   ]
  },
  {
   "cell_type": "markdown",
   "metadata": {},
   "source": [
    "#### Важно! Операция присваивания не копирует список, а лишь создаёт ссылку на него. Поэтому 1-й элемент z2 изменился, а z3 нет."
   ]
  },
  {
   "cell_type": "markdown",
   "metadata": {},
   "source": [
    "**Встроенные функции python для работы со списками**"
   ]
  },
  {
   "cell_type": "code",
   "execution_count": 22,
   "metadata": {},
   "outputs": [],
   "source": [
    "z4 = [1,2,3,9,5,6,7,8]    # определим список z4 для дальнейших операций "
   ]
  },
  {
   "cell_type": "code",
   "execution_count": 23,
   "metadata": {},
   "outputs": [
    {
     "name": "stdout",
     "output_type": "stream",
     "text": [
      "8\n"
     ]
    }
   ],
   "source": [
    "print(len(z4))    # len() - число элементов в списке "
   ]
  },
  {
   "cell_type": "code",
   "execution_count": 24,
   "metadata": {},
   "outputs": [
    {
     "name": "stdout",
     "output_type": "stream",
     "text": [
      "[1, 2, 3, 5, 6, 7, 8, 9]\n",
      "[1, 2, 3, 9, 5, 6, 7, 8]\n"
     ]
    }
   ],
   "source": [
    "print(sorted(z4))   # sorted(x) возвращает копию отсортированного списка x, sorted(x, reverse=True) - по убыванию\n",
    "print(z4)    # при этом исходный список не меняется"
   ]
  },
  {
   "cell_type": "code",
   "execution_count": 25,
   "metadata": {},
   "outputs": [
    {
     "name": "stdout",
     "output_type": "stream",
     "text": [
      "1\n",
      "9\n",
      "41\n"
     ]
    }
   ],
   "source": [
    "print(min(z4))  # min() - минимальный элемент списка\n",
    "print(max(z4))  # max() - максимальный элемент списка\n",
    "print(sum(z4))  # sum() - сумма всех элементов списка"
   ]
  },
  {
   "cell_type": "code",
   "execution_count": 26,
   "metadata": {},
   "outputs": [
    {
     "name": "stdout",
     "output_type": "stream",
     "text": [
      "[1, 2, 3, 9, 5, 6, 7, 8] [9, 8, 7, 6, 5, 3, 2, 1] [1, 2, 3, 9, 5, 6, 7, 8, 9, 8, 7, 6, 5, 3, 2, 1]\n"
     ]
    }
   ],
   "source": [
    "z4_1 = sorted(z4, reverse = True)    # сделаем копию отсортированного списка\n",
    "z4_2 = z4 + z4_1    # выполним сложение списков\n",
    "print(z4, z4_1, z4_2)"
   ]
  },
  {
   "cell_type": "code",
   "execution_count": 27,
   "metadata": {},
   "outputs": [
    {
     "name": "stdout",
     "output_type": "stream",
     "text": [
      "[10, 10, 10, 15, 10, 9, 9, 9]\n"
     ]
    }
   ],
   "source": [
    "# если хотим поэлементную сумму, то можем написать свою функцию\n",
    "def add_list(x, y):\n",
    "    return list(map(lambda a, b: a + b, x, y))\n",
    "# применим ее к нашим двум спискам\n",
    "z4_3 = add_list(z4,z4_1)\n",
    "print(z4_3)\n",
    "# а вот с тем, как мы ее написали и как она работает, разберемся позже"
   ]
  },
  {
   "cell_type": "markdown",
   "metadata": {},
   "source": [
    "**В Python list это объект и он имеет собственные методы для работы с данными списка**  \n",
    "Вызов функций и методов отличается.    \n",
    "Вызов функции был выше: **Имя_функции(аргументы)**, аргументом функции может быть объект, например, список.<br>\n",
    "Метод вызывается в виде: **Имя_объекта.Имя_метода(параметры)**.      \n",
    "</i>"
   ]
  },
  {
   "cell_type": "code",
   "execution_count": 28,
   "metadata": {},
   "outputs": [
    {
     "name": "stdout",
     "output_type": "stream",
     "text": [
      "[1, 2, 3, 9, 5, 6, 7, 8, '9']\n"
     ]
    }
   ],
   "source": [
    "z4.append('9')    # list.append(x) - добавляет элемент в конец списка\n",
    "print(z4)"
   ]
  },
  {
   "cell_type": "code",
   "execution_count": 29,
   "metadata": {},
   "outputs": [
    {
     "name": "stdout",
     "output_type": "stream",
     "text": [
      "[1, 22, 2, 3, 9, 5, 6, 7, 8, '9']\n"
     ]
    }
   ],
   "source": [
    "z4.insert(1,22)  # list.insert(i, x) - вставляет на место i-го элемента значение x, сдвигая остальные\n",
    "print(z4)"
   ]
  },
  {
   "cell_type": "code",
   "execution_count": 30,
   "metadata": {},
   "outputs": [
    {
     "name": "stdout",
     "output_type": "stream",
     "text": [
      "[1, 22, 2, 3, 9, 5, 6, 7, 8, '9', 31, 32, 31]\n"
     ]
    }
   ],
   "source": [
    "z5 = [31,32,31]\n",
    "z4.extend(z5)    # list.extend(X) - расширяет список list, добавляя в конец все элементы списка Х\n",
    "print(z4)"
   ]
  },
  {
   "cell_type": "code",
   "execution_count": 31,
   "metadata": {},
   "outputs": [
    {
     "data": {
      "text/plain": [
       "[1, 22, 2, 3, 9, 5, 6, 7, 8, '9', 31, 32, 31, [31, 32, 31]]"
      ]
     },
     "execution_count": 31,
     "metadata": {},
     "output_type": "execute_result"
    }
   ],
   "source": [
    "z4.append(z5)\n",
    "z4"
   ]
  },
  {
   "cell_type": "code",
   "execution_count": 32,
   "metadata": {},
   "outputs": [
    {
     "name": "stdout",
     "output_type": "stream",
     "text": [
      "[1, 2, 3, 9, 5, 6, 7, 8, '9', 31, 32, 31, [31, 32, 31]]\n"
     ]
    }
   ],
   "source": [
    "z4.remove(22)  # list.remove(x)- удаляет первый элемент в списке, имеющий значение x\n",
    "print(z4)      # ошибка ValueError, если такого элемента не существует (запустить этот блок еще раз!)"
   ]
  },
  {
   "cell_type": "code",
   "execution_count": 33,
   "metadata": {},
   "outputs": [
    {
     "name": "stdout",
     "output_type": "stream",
     "text": [
      "2 [1, 3, 9, 5, 6, 7, 8, '9', 31, 32, 31, [31, 32, 31]]\n"
     ]
    }
   ],
   "source": [
    "z4_v1 = z4.pop(1)    # list.pop(i) - удаляет i-ый элемент и возвращает его. \n",
    "print(z4_v1, z4)     # Если индекс не указан, удаляется последний элемент"
   ]
  },
  {
   "cell_type": "code",
   "execution_count": 34,
   "metadata": {},
   "outputs": [
    {
     "name": "stdout",
     "output_type": "stream",
     "text": [
      "2\n"
     ]
    }
   ],
   "source": [
    "z4_v2 = z4.count(31)   # list.count(x) - возвращает количество элементов со значением x\n",
    "print(z4_v2)"
   ]
  },
  {
   "cell_type": "code",
   "execution_count": 35,
   "metadata": {},
   "outputs": [
    {
     "ename": "ValueError",
     "evalue": "310 is not in list",
     "output_type": "error",
     "traceback": [
      "\u001b[1;31m---------------------------------------------------------------------------\u001b[0m",
      "\u001b[1;31mValueError\u001b[0m                                Traceback (most recent call last)",
      "\u001b[1;32m<ipython-input-35-59dd4db300ad>\u001b[0m in \u001b[0;36m<module>\u001b[1;34m\u001b[0m\n\u001b[1;32m----> 1\u001b[1;33m \u001b[0mz4_v3\u001b[0m \u001b[1;33m=\u001b[0m \u001b[0mz4\u001b[0m\u001b[1;33m.\u001b[0m\u001b[0mindex\u001b[0m\u001b[1;33m(\u001b[0m\u001b[1;36m310\u001b[0m\u001b[1;33m)\u001b[0m \u001b[1;31m# list.index(x,[start[,end]]) - возвращает индекс первого элемента = x (поиск от start до end)\u001b[0m\u001b[1;33m\u001b[0m\u001b[1;33m\u001b[0m\u001b[0m\n\u001b[0m\u001b[0;32m      2\u001b[0m \u001b[0mprint\u001b[0m\u001b[1;33m(\u001b[0m\u001b[0mz4_v3\u001b[0m\u001b[1;33m)\u001b[0m          \u001b[1;31m# если элемента в списке нет, то метод возвратит ошибку!\u001b[0m\u001b[1;33m\u001b[0m\u001b[1;33m\u001b[0m\u001b[0m\n",
      "\u001b[1;31mValueError\u001b[0m: 310 is not in list"
     ]
    }
   ],
   "source": [
    "z4_v3 = z4.index(310) # list.index(x,[start[,end]]) - возвращает индекс первого элемента = x (поиск от start до end)\n",
    "print(z4_v3)          # если элемента в списке нет, то метод возвратит ошибку!"
   ]
  },
  {
   "cell_type": "code",
   "execution_count": 36,
   "metadata": {},
   "outputs": [
    {
     "name": "stdout",
     "output_type": "stream",
     "text": [
      "[1, 3, 5, 6, 7, 8, 9, 31, 31, 32]\n"
     ]
    }
   ],
   "source": [
    "z4.remove('9')    # удалим из списка элемент типа str   \n",
    "z4.remove([31, 32, 31])    # удалим из списка элемент типа list   \n",
    "z4.sort()   # list.sort([key=функция])- сортирует список на основе функции. \n",
    "            # если бы не удалили элементы типа str и list, то при сортировке была бы ошибка\n",
    "            # метод sort изменяет исходный объект, не сохраняя исходных данных!\n",
    "print(z4)"
   ]
  },
  {
   "cell_type": "code",
   "execution_count": 37,
   "metadata": {},
   "outputs": [
    {
     "name": "stdout",
     "output_type": "stream",
     "text": [
      "[32, 31, 31, 9, 8, 7, 6, 5, 3, 1]\n"
     ]
    }
   ],
   "source": [
    "z4.sort(reverse=True)   #сортировка по убыванию\n",
    "print(z4)"
   ]
  },
  {
   "cell_type": "code",
   "execution_count": 38,
   "metadata": {},
   "outputs": [
    {
     "name": "stdout",
     "output_type": "stream",
     "text": [
      "[1, 3, 5, 6, 7, 8, 9, 31, 31, 32]\n"
     ]
    }
   ],
   "source": [
    "z4.reverse()  # list.reverse() - разворачивает список\n",
    "print(z4)"
   ]
  },
  {
   "cell_type": "code",
   "execution_count": 39,
   "metadata": {},
   "outputs": [
    {
     "name": "stdout",
     "output_type": "stream",
     "text": [
      "[1, 3, 5, 6, 7, 8, 9, 31, 31, 32] [1, 3, 5, 6, 7, 8, 9, 31, 31, 32]\n",
      "2595698793536 2595699251264\n"
     ]
    }
   ],
   "source": [
    "z6 = z4.copy() # list.copy() - поверхностная копия списка\n",
    "print(z4, z6)\n",
    "print(id(z4), id(z6))    # вывод идентификаторов объектов - они разные!"
   ]
  },
  {
   "cell_type": "code",
   "execution_count": 40,
   "metadata": {},
   "outputs": [
    {
     "name": "stdout",
     "output_type": "stream",
     "text": [
      "[] [1, 3, 5, 6, 7, 8, 9, 31, 31, 32]\n",
      "2595698793536 2595699251264\n"
     ]
    }
   ],
   "source": [
    "z4.clear()   # list.clear() - очищает список\n",
    "print(z4, z6)\n",
    "print(id(z4),id(z6))"
   ]
  },
  {
   "cell_type": "markdown",
   "metadata": {},
   "source": [
    "### 5.4. Кортежи tuple  \n",
    "Тип данных, похожий на list, только неизменяемый. Зачем нужны кортежи, если есть списки? Защита данных: кортеж защищен от изменений, как намеренных, так и случайных. Имеет чуть меньший размер. При анализе данных используются не часто. Методы и функции как для list, если они не изменяют элементы."
   ]
  },
  {
   "cell_type": "markdown",
   "metadata": {},
   "source": [
    "Ссылка: https://docs.python.org/3/tutorial/datastructures.html#tuples-and-sequences"
   ]
  },
  {
   "cell_type": "markdown",
   "metadata": {},
   "source": [
    "**Как создать (объявить) кортеж:**"
   ]
  },
  {
   "cell_type": "code",
   "execution_count": 41,
   "metadata": {},
   "outputs": [
    {
     "name": "stdout",
     "output_type": "stream",
     "text": [
      "() (1, 2, 3, 4, 5) (1, 2, 'a', 'd')\n",
      "<class 'tuple'>\n"
     ]
    }
   ],
   "source": [
    "t1 = ()                           # пустой кортеж\n",
    "t2 = (1,2,3,4,5)                  # явное объявление списка\n",
    "t3 = (1,2,'a','d')                # список из данных разных типов\n",
    "print(t1,t2,t3)\n",
    "print(type(t3))"
   ]
  },
  {
   "cell_type": "code",
   "execution_count": 42,
   "metadata": {},
   "outputs": [
    {
     "name": "stdout",
     "output_type": "stream",
     "text": [
      "2 (1, 2, 3, 4, 5)\n"
     ]
    }
   ],
   "source": [
    "s = t2[1]   # обращение к элементам аналогично List, индекс с 0\n",
    "print(s,t2)"
   ]
  },
  {
   "cell_type": "code",
   "execution_count": 43,
   "metadata": {},
   "outputs": [
    {
     "ename": "TypeError",
     "evalue": "'tuple' object does not support item assignment",
     "output_type": "error",
     "traceback": [
      "\u001b[1;31m---------------------------------------------------------------------------\u001b[0m",
      "\u001b[1;31mTypeError\u001b[0m                                 Traceback (most recent call last)",
      "\u001b[1;32m<ipython-input-43-c3ff8e39923e>\u001b[0m in \u001b[0;36m<module>\u001b[1;34m\u001b[0m\n\u001b[1;32m----> 1\u001b[1;33m \u001b[0mt2\u001b[0m\u001b[1;33m[\u001b[0m\u001b[1;36m1\u001b[0m\u001b[1;33m]\u001b[0m \u001b[1;33m=\u001b[0m \u001b[1;36m22\u001b[0m  \u001b[1;31m# а вот изменить элемент уже не получится\u001b[0m\u001b[1;33m\u001b[0m\u001b[1;33m\u001b[0m\u001b[0m\n\u001b[0m",
      "\u001b[1;31mTypeError\u001b[0m: 'tuple' object does not support item assignment"
     ]
    }
   ],
   "source": [
    "t2[1] = 22  # а вот изменить элемент уже не получится"
   ]
  },
  {
   "cell_type": "markdown",
   "metadata": {},
   "source": [
    "### 5.5. Словари dict  \n",
    "Неупорядоченные наборы произвольных объектов с доступом к ним по ключу (еще название - ассоциативные массивы).  "
   ]
  },
  {
   "cell_type": "markdown",
   "metadata": {},
   "source": [
    "Ссылка: https://docs.python.org/3/tutorial/datastructures.html#dictionaries"
   ]
  },
  {
   "cell_type": "markdown",
   "metadata": {},
   "source": [
    "**Как создать (объявить) словарь:**"
   ]
  },
  {
   "cell_type": "code",
   "execution_count": 44,
   "metadata": {},
   "outputs": [
    {
     "name": "stdout",
     "output_type": "stream",
     "text": [
      "{} {'Russia': 'Moscow', 'Germany': 'Berlin'} {'France': 'Paris', 'Germany': 'Berlin'}\n",
      "<class 'tuple'>\n"
     ]
    }
   ],
   "source": [
    "d1 = {}                           # пустой словарь\n",
    "d2 = {\"Russia\":\"Moscow\",\"Germany\":\"Berlin\"}                  # явное объявление словаря\n",
    "d3 = dict(France=\"Paris\",Germany=\"Berlin\")                   # Ключ - значение\n",
    "print(d1,d2,d3)\n",
    "print(type(t3))"
   ]
  },
  {
   "cell_type": "code",
   "execution_count": 45,
   "metadata": {},
   "outputs": [
    {
     "name": "stdout",
     "output_type": "stream",
     "text": [
      "{'Russia': 'Moscow', 'Germany': 'Berlin', 'China': 'Beijing'}\n"
     ]
    }
   ],
   "source": [
    "d2[\"China\"] = \"Beijing\"    # добавить новую пару\n",
    "print(d2)"
   ]
  },
  {
   "cell_type": "code",
   "execution_count": 46,
   "metadata": {},
   "outputs": [
    {
     "name": "stdout",
     "output_type": "stream",
     "text": [
      "Moscow\n"
     ]
    }
   ],
   "source": [
    "print(d2[\"Russia\"])        # обращение к словарю по ключу"
   ]
  },
  {
   "cell_type": "code",
   "execution_count": 47,
   "metadata": {},
   "outputs": [
    {
     "name": "stdout",
     "output_type": "stream",
     "text": [
      "{'Russia': 'Moscow', 'Germany': 'Berlin', 'China': 'Beijing', 'Страна': 'Столица'}\n",
      "{'Russia': 'Moscow', 'Germany': 'Berlin', 'China': 'Beijing', 'Страна': 'Новая столица'}\n"
     ]
    }
   ],
   "source": [
    "# метод update для дополнения и обновления словаря\n",
    "d2.update({'Страна':'Столица'}) # Дополняем\n",
    "print(d2)\n",
    "d2.update({'Страна':'Новая столица'}) # Обновляем\n",
    "print(d2)"
   ]
  },
  {
   "cell_type": "markdown",
   "metadata": {},
   "source": [
    "К работе со словарями применяются встроенные функции и методы класс dict, как в случае с list."
   ]
  },
  {
   "cell_type": "markdown",
   "metadata": {},
   "source": [
    "### 5.6. Множества  set и frozenset\n",
    "Неупорядоченный набор **неповторяющихся** элементов.  \n",
    "set - изменяемый тип, frozenset - неизменяемый.   \n",
    "Ссылка: https://docs.python.org/3/tutorial/datastructures.html#sets"
   ]
  },
  {
   "cell_type": "markdown",
   "metadata": {},
   "source": [
    "**Как создать (объявить) множество:**"
   ]
  },
  {
   "cell_type": "code",
   "execution_count": 48,
   "metadata": {},
   "outputs": [
    {
     "name": "stdout",
     "output_type": "stream",
     "text": [
      "<class 'set'> <class 'set'>\n"
     ]
    }
   ],
   "source": [
    "a = set()      # пустое множество, но так a = {} нельзя - будет dict\n",
    "b = {1,2,3,4,5,6,7}   # не пустое множество можно\n",
    "print(type(a),type(b))"
   ]
  },
  {
   "cell_type": "code",
   "execution_count": 49,
   "metadata": {},
   "outputs": [
    {
     "name": "stdout",
     "output_type": "stream",
     "text": [
      "[1, 2, 3, 4, 5, 5, 5, 6, 6, 7, 8, 9] {1, 2, 3, 4, 5, 6, 7, 8, 9}\n"
     ]
    }
   ],
   "source": [
    "c = [1,2,3,4,5,5,5,6,6,7,8,9]   # список с повторяющимися элементами\n",
    "d = set(c)                      # set можно использовать для очистки от повторов\n",
    "print(c,d)"
   ]
  },
  {
   "cell_type": "markdown",
   "metadata": {},
   "source": [
    "Есть встроенные функции и методы класса(объекта) set для работы с множествами, например:"
   ]
  },
  {
   "cell_type": "code",
   "execution_count": 50,
   "metadata": {},
   "outputs": [
    {
     "name": "stdout",
     "output_type": "stream",
     "text": [
      "{1, 2, 3, 4, 5, 6, 7, 8, 9} {1, 2, 3, 4, 5, 6, 7} {8, 9} set()\n"
     ]
    }
   ],
   "source": [
    "e = b | d # set.union(other, ...) или set | other | ... - объединение нескольких множеств.\n",
    "f = b & d # set.intersection(other, ...) или set & other & ... - пересечение.\n",
    "g = d - b # set.difference(other, ...) или set - other - ... \n",
    "h = b - d # множество из всех элементов set, не принадлежащие ни одному из other\n",
    "print(e,f,g,h)"
   ]
  },
  {
   "cell_type": "markdown",
   "metadata": {},
   "source": [
    "### 5.7. Строки \n",
    "Ссылка: https://docs.python.org/3/library/stdtypes.html#text-sequence-type-str     \n",
    "Упорядоченные последовательности символов, используемые для хранения и представления текстовой информации.  "
   ]
  },
  {
   "cell_type": "markdown",
   "metadata": {},
   "source": [
    "**Как задать строку:**"
   ]
  },
  {
   "cell_type": "code",
   "execution_count": 51,
   "metadata": {},
   "outputs": [
    {
     "name": "stdout",
     "output_type": "stream",
     "text": [
      "This is \" the first string. This is ' the second string. Многострочный вариант       \n",
      "текстового блока\n"
     ]
    }
   ],
   "source": [
    "s1 = 'This is \" the first string.'  # символы ' и \" эквивалентны, ''' для многострочных блоков\n",
    "s2 = \"This is ' the second string.\"\n",
    "s3 = '''Многострочный вариант       \n",
    "текстового блока'''\n",
    "print(s1,s2,s3)"
   ]
  },
  {
   "cell_type": "markdown",
   "metadata": {},
   "source": [
    "Экранированные последовательности - служебные символы, которые не показываются при отображении строки.  \n",
    "Например,  \\n\t- перевод строки, \\t  - табуляция  \n",
    "Если перед кавычкой стоит символ 'r' (в любом регистре), то механизм экранирования отключается."
   ]
  },
  {
   "cell_type": "code",
   "execution_count": 52,
   "metadata": {},
   "outputs": [
    {
     "name": "stdout",
     "output_type": "stream",
     "text": [
      "12345\n",
      "67890\t11\n",
      " 12345\\n67890\\t11\\n\n"
     ]
    }
   ],
   "source": [
    "s4 = \"12345\\n67890\\t11\\n\"\n",
    "s5 = r\"12345\\n67890\\t11\\n\"\n",
    "print(s4,s5)"
   ]
  },
  {
   "cell_type": "markdown",
   "metadata": {},
   "source": [
    "**Встроенные функции и методы для работы со строками**"
   ]
  },
  {
   "cell_type": "code",
   "execution_count": 53,
   "metadata": {},
   "outputs": [
    {
     "name": "stdout",
     "output_type": "stream",
     "text": [
      "1string2string\n"
     ]
    }
   ],
   "source": [
    "# конкатенация (слияние) строк\n",
    "ss1 = \"1string\"\n",
    "ss2 = '2string'\n",
    "ss3 = ss1 + ss2\n",
    "print(ss3)"
   ]
  },
  {
   "cell_type": "code",
   "execution_count": 54,
   "metadata": {},
   "outputs": [
    {
     "name": "stdout",
     "output_type": "stream",
     "text": [
      "14\n"
     ]
    }
   ],
   "source": [
    "# длина сроки\n",
    "print(len(ss3))"
   ]
  },
  {
   "cell_type": "code",
   "execution_count": 55,
   "metadata": {},
   "outputs": [
    {
     "name": "stdout",
     "output_type": "stream",
     "text": [
      "1string1string1string1string\n"
     ]
    }
   ],
   "source": [
    "# тиражирование строки\n",
    "print(ss1*4)"
   ]
  },
  {
   "cell_type": "code",
   "execution_count": 56,
   "metadata": {},
   "outputs": [
    {
     "name": "stdout",
     "output_type": "stream",
     "text": [
      "l r\n",
      "ett\n"
     ]
    }
   ],
   "source": [
    "# доступ к символам строки по индексу и срезы\n",
    "# строка = список из символов\n",
    "ss4 = 'letter'\n",
    "print(ss4[0],ss4[-1])\n",
    "print(ss4[1:4])"
   ]
  },
  {
   "cell_type": "code",
   "execution_count": 57,
   "metadata": {},
   "outputs": [
    {
     "name": "stdout",
     "output_type": "stream",
     "text": [
      "9\n",
      "-1\n",
      "16\n"
     ]
    }
   ],
   "source": [
    "ss5 = 'Oneletterwithsmile'\n",
    "# S.find(str, [start],[end]) - поиск подстроки в строке. \n",
    "# Возвращает номер первого вхождения или -1\n",
    "print(ss5.find('with')) \n",
    "print(ss5.find('can'))  \n",
    "\n",
    "# S.rfind(str, [start],[end]) - поиск подстроки в строке. \n",
    "# Возвращает номер последнего вхождения или -1\n",
    "print(ss5.rfind('le')) "
   ]
  },
  {
   "cell_type": "code",
   "execution_count": 58,
   "metadata": {},
   "outputs": [
    {
     "name": "stdout",
     "output_type": "stream",
     "text": [
      "9\n"
     ]
    },
    {
     "ename": "ValueError",
     "evalue": "substring not found",
     "output_type": "error",
     "traceback": [
      "\u001b[1;31m---------------------------------------------------------------------------\u001b[0m",
      "\u001b[1;31mValueError\u001b[0m                                Traceback (most recent call last)",
      "\u001b[1;32m<ipython-input-58-08933e676318>\u001b[0m in \u001b[0;36m<module>\u001b[1;34m\u001b[0m\n\u001b[0;32m      6\u001b[0m \u001b[1;33m\u001b[0m\u001b[0m\n\u001b[0;32m      7\u001b[0m \u001b[0mprint\u001b[0m\u001b[1;33m(\u001b[0m\u001b[0mss5\u001b[0m\u001b[1;33m.\u001b[0m\u001b[0mindex\u001b[0m\u001b[1;33m(\u001b[0m\u001b[1;34m'with'\u001b[0m\u001b[1;33m)\u001b[0m\u001b[1;33m)\u001b[0m\u001b[1;33m\u001b[0m\u001b[1;33m\u001b[0m\u001b[0m\n\u001b[1;32m----> 8\u001b[1;33m \u001b[0mprint\u001b[0m\u001b[1;33m(\u001b[0m\u001b[0mss5\u001b[0m\u001b[1;33m.\u001b[0m\u001b[0mindex\u001b[0m\u001b[1;33m(\u001b[0m\u001b[1;34m'can'\u001b[0m\u001b[1;33m)\u001b[0m\u001b[1;33m)\u001b[0m\u001b[1;33m\u001b[0m\u001b[1;33m\u001b[0m\u001b[0m\n\u001b[0m",
      "\u001b[1;31mValueError\u001b[0m: substring not found"
     ]
    }
   ],
   "source": [
    "# S.index(str, [start],[end]) - поиск подстроки в строке. \n",
    "# Возвращает номер первого вхождения или вызывает ValueError\n",
    "\n",
    "# S.rindex(str, [start],[end]) - поиск подстроки в строке. \n",
    "# Возвращает номер последнего вхождения или вызывает ValueError\n",
    "\n",
    "print(ss5.index('with')) \n",
    "print(ss5.index('can'))"
   ]
  },
  {
   "cell_type": "code",
   "execution_count": 59,
   "metadata": {},
   "outputs": [
    {
     "name": "stdout",
     "output_type": "stream",
     "text": [
      "Oneletterwithsmile Oneletterwithoutsmile\n"
     ]
    }
   ],
   "source": [
    "# S.replace(шаблон, замена) - замена шаблона\n",
    "ss6 = ss5.replace('with','without') # создается копия, исходная строка не изменяется\n",
    "print(ss5,ss6)"
   ]
  },
  {
   "cell_type": "code",
   "execution_count": 60,
   "metadata": {},
   "outputs": [
    {
     "name": "stdout",
     "output_type": "stream",
     "text": [
      "Oneletterwithsmile ['On', 'l', 'tt', 'rwithsmil', ''] <class 'list'> Oneletterwithsmile\n"
     ]
    }
   ],
   "source": [
    "# S.split(символ) - разбиение строки по разделителю\n",
    "ss7 = ss5.split('e')\n",
    "# S.join(список) - сборка строки из списка с разделителем S\n",
    "ss8 = 'e'\n",
    "ss9 = ss8.join(ss7)\n",
    "print(ss5,ss7,type(ss7),ss9)"
   ]
  },
  {
   "cell_type": "code",
   "execution_count": 61,
   "metadata": {},
   "outputs": [
    {
     "name": "stdout",
     "output_type": "stream",
     "text": [
      "Oneletterwithsmile le 2\n"
     ]
    }
   ],
   "source": [
    "# S.count(str, [start],[end]) - возвращает количество непересекающихся вхождений\n",
    "# подстроки в диапазоне [начало, конец] (0 и длина строки по умолчанию)\n",
    "print(ss5, 'le', ss5.count('le'))"
   ]
  },
  {
   "cell_type": "code",
   "execution_count": 62,
   "metadata": {},
   "outputs": [
    {
     "name": "stdout",
     "output_type": "stream",
     "text": [
      "ss5 =  Oneletterwithsmile\n",
      ".isdigit()  False\n",
      ".isalpha()  True\n",
      ".isalnum()  True\n",
      ".islower()  False\n",
      ".isupper()  False\n",
      ".isspace()  False\n",
      ".istitle()  True\n"
     ]
    }
   ],
   "source": [
    "# S.isdigit() - состоит ли строка из цифр\n",
    "print('ss5 = ',ss5)\n",
    "print('.isdigit() ',ss5.isdigit())\n",
    "\n",
    "# S.isalpha() - состоит ли строка из букв\n",
    "print('.isalpha() ',ss5.isalpha())\n",
    "\n",
    "# S.isalnum() - состоит ли строка из цифр или букв\n",
    "print('.isalnum() ',ss5.isalnum())\n",
    "\n",
    "# S.islower() - состоит ли строка из символов в нижнем регистре\n",
    "print('.islower() ',ss5.islower())\n",
    "\n",
    "# S.isupper() - cостоит ли строка из символов в верхнем регистре\n",
    "print('.isupper() ',ss5.isupper())\n",
    "\n",
    "# S.isspace() - состоит ли строка из неотображаемых символов \n",
    "# (пробел, символ перевода страницы ('\\f'), \"новая строка\" ('\\n'), \n",
    "# \"перевод каретки\" ('\\r'), \"горизонтальная табуляция\" ('\\t'),\n",
    "# \"вертикальная табуляция\" ('\\v'))\n",
    "print('.isspace() ',ss5.isspace())\n",
    "\n",
    "# S.istitle() начинаются ли слова в строке с заглавной буквы\n",
    "print('.istitle() ',ss5.istitle())"
   ]
  },
  {
   "cell_type": "code",
   "execution_count": 63,
   "metadata": {},
   "outputs": [
    {
     "name": "stdout",
     "output_type": "stream",
     "text": [
      "ss5 =  Oneletterwithsmile\n",
      ".upper()  ONELETTERWITHSMILE\n",
      ".lower()  oneletterwithsmile\n",
      "ss6 =  ONELETTERWITHSMILE\n",
      ".capitalize()  Oneletterwithsmile\n",
      ".center(30,\"#\")  ######ONELETTERWITHSMILE######\n",
      ".lstrip(\"#\")  ONELETTERWITHSMILE######\n",
      ".rstrip(\"#\")  ######ONELETTERWITHSMILE\n",
      ".strip(\"#\")  ONELETTERWITHSMILE\n"
     ]
    }
   ],
   "source": [
    "print('ss5 = ',ss5)\n",
    "\n",
    "# S.upper() - преобразование строки к верхнему регистру\n",
    "print('.upper() ',ss5.upper())\n",
    "\n",
    "# S.lower() - преобразование строки к нижнему регистру\n",
    "print('.lower() ',ss5.lower())\n",
    "\n",
    "# S.capitalize() - переводит 1й символ в верхний регистр, остальные - в нижний\n",
    "ss6 = ss5.upper()\n",
    "print('ss6 = ',ss6)\n",
    "print('.capitalize() ',ss6.capitalize())\n",
    "\n",
    "# S.center(width, [fill]) - возвращает отцентрованную строку, \n",
    "# по краям которой стоит символ fill (пробел по умолчанию)\n",
    "ss7 = ss6.center(30,\"#\")\n",
    "print('.center(30,\"#\") ',ss7)\n",
    "\n",
    "# S.lstrip([chars]) - удаление символов [chars] в начале строки\n",
    "print('.lstrip(\"#\") ',ss7.lstrip(\"#\"))\n",
    "\n",
    "# S.rstrip([chars]) - удаление символов [chars]в конце строки\n",
    "print('.rstrip(\"#\") ',ss7.rstrip(\"#\"))\n",
    "\n",
    "# S.strip([chars]) - удаление символов [chars] в начале и в конце строки\n",
    "print('.strip(\"#\") ',ss7.strip(\"#\"))"
   ]
  },
  {
   "cell_type": "markdown",
   "metadata": {},
   "source": [
    "**Форматирование строк с помощью метода format**  \n",
    "Часто нужно сделать строку, подставив в неё данные, полученные в процессе выполнения программы   \n",
    "(пользовательский ввод, результаты расчетов, ...).  \n",
    "Подстановку данных можно сделать с помощью **форматирования строк**.  \n",
    "Форматирование можно сделать с помощью оператора **%**, либо с помощью метода **format**."
   ]
  },
  {
   "cell_type": "code",
   "execution_count": 64,
   "metadata": {},
   "outputs": [
    {
     "name": "stdout",
     "output_type": "stream",
     "text": [
      "Coordinates: 37.24N, -115.81W\n"
     ]
    }
   ],
   "source": [
    "lt = '37.24N'\n",
    "ln = '-115.81W'\n",
    "print('Coordinates: {latitude}, {longitude}'.format(latitude=lt, longitude=ln))\n"
   ]
  },
  {
   "cell_type": "code",
   "execution_count": 65,
   "metadata": {},
   "outputs": [
    {
     "name": "stdout",
     "output_type": "stream",
     "text": [
      "Result is 2.57 and this is exponential format 3.423564E+02\n",
      "Percentage is 0.75%\n"
     ]
    }
   ],
   "source": [
    "ll1 = 2.567765345\n",
    "ll2 = 342.3564222\n",
    "print('Result is {:.3} and this is exponential format {:E}'.format(ll1,ll2))\n",
    "print('Percentage is {:.2%}'.format(ll1/ll2))"
   ]
  },
  {
   "cell_type": "markdown",
   "metadata": {},
   "source": [
    "Важно понимать, что возможности форматирования намного шире здесь рассмотренных."
   ]
  },
  {
   "cell_type": "code",
   "execution_count": null,
   "metadata": {},
   "outputs": [],
   "source": []
  }
 ],
 "metadata": {
  "kernelspec": {
   "display_name": "Python 3",
   "language": "python",
   "name": "python3"
  },
  "language_info": {
   "codemirror_mode": {
    "name": "ipython",
    "version": 3
   },
   "file_extension": ".py",
   "mimetype": "text/x-python",
   "name": "python",
   "nbconvert_exporter": "python",
   "pygments_lexer": "ipython3",
   "version": "3.8.8"
  }
 },
 "nbformat": 4,
 "nbformat_minor": 2
}
